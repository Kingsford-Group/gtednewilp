{
 "cells": [
  {
   "cell_type": "code",
   "execution_count": 1,
   "id": "40a47696",
   "metadata": {},
   "outputs": [],
   "source": [
    "import sys, os\n",
    "sys.path.append(\"/home/yutongq/gtednewilp/libgraph\")\n",
    "\n",
    "from basic_graph import *\n",
    "from DeBruijnGraph import *\n",
    "from FGTED_utils_updated import *\n",
    "from compact_graph import *\n",
    "import gurobipy as gp\n",
    "from tqdm import tqdm\n",
    "import Levenshtein\n",
    "import time\n",
    "import pandas as pd\n",
    "from GTED_main import *\n",
    "from Bio import Align\n",
    "\n",
    "from numpy.random import poisson\n",
    "from numpy.random import normal\n",
    "import numpy.random as random \n",
    "import matplotlib.pyplot as plt\n",
    "\n",
    "import time"
   ]
  },
  {
   "cell_type": "markdown",
   "id": "b4c0f197",
   "metadata": {},
   "source": [
    "### simulate segment duplication\n",
    "\n",
    "Given two sequences of length 100, randomly select 1 repeat seed of length #(seq_len) from each string and duplicate them #(num_copies) times. Insert the sequences back into each string #(num_copies) times at different locations with some random mutations."
   ]
  },
  {
   "cell_type": "code",
   "execution_count": 2,
   "id": "f5ea8a09",
   "metadata": {},
   "outputs": [],
   "source": [
    "def select_seed(s,length,mut_rate,not_loc = -1):\n",
    "    loc = int(not_loc)\n",
    "    while loc in range(not_loc, not_loc + length):\n",
    "        loc = random.choice(len(s)-length - 1)\n",
    "#     print(loc)\n",
    "    s = s[loc: loc+length]\n",
    "    return s, int(loc)\n",
    "\n",
    "def insert_mutation(s, mut_rate):\n",
    "    new_s = \"\"\n",
    "    for i in range(len(s)):\n",
    "        if random.choice(10) < mut_rate:\n",
    "            mut = random.choice([\"A\", \"T\", \"C\", \"G\", \"-\", \"-\"])\n",
    "            if mut != \"-\":\n",
    "                new_s += mut\n",
    "        else:\n",
    "            new_s += s[i]\n",
    "    return new_s"
   ]
  },
  {
   "cell_type": "code",
   "execution_count": 3,
   "id": "beed3bfa",
   "metadata": {},
   "outputs": [],
   "source": [
    "ilp=True\n",
    "data_dir = \"data/\"\n"
   ]
  },
  {
   "cell_type": "markdown",
   "id": "0ef36a8c",
   "metadata": {},
   "source": [
    "### Simulate micky mouse graph"
   ]
  },
  {
   "cell_type": "code",
   "execution_count": 4,
   "id": "649c98e9",
   "metadata": {},
   "outputs": [],
   "source": [
    "def simulate_seq(length):\n",
    "    s = \"\"\n",
    "    if length > 0:\n",
    "        \n",
    "        for i in range(length):\n",
    "            s += np.random.choice([\"A\",\"C\",\"G\",\"T\"])\n",
    "    return s"
   ]
  },
  {
   "cell_type": "code",
   "execution_count": 5,
   "id": "325609d3",
   "metadata": {},
   "outputs": [],
   "source": [
    "def simulate_mickymouse_graph(overlap_space_idx, overlaps, lengths, seqs, overlap_strings, middle_string):\n",
    "    graph = Graph()\n",
    "\n",
    "    # add edges for middle string\n",
    "    node_idx = 0\n",
    "    graph.add_node()\n",
    "    # print(\"middle\", middle_string)\n",
    "    for i, s in enumerate(middle_string):\n",
    "        if i == len(middle_string) - 1:\n",
    "            graph.add_edge(i, 0, seq=s)\n",
    "        else:\n",
    "            graph.add_node()\n",
    "    #         print(\"middle\", i, i+1,s)\n",
    "            graph.add_edge(i, i+1, seq=s)\n",
    "\n",
    "    # add edges for the cycles\n",
    "    node_idx = overlaps[0]\n",
    "    for i, seq in enumerate(seqs):\n",
    "#         print(i, seq)\n",
    "        init_node = node_idx\n",
    "        for j, s in enumerate(seq[:lengths[i] - overlaps[i]]):\n",
    "            if j == lengths[i] - overlaps[i] - 1:\n",
    "#                 print(\"middle\",node_idx, init_node - overlaps[i], s)\n",
    "                graph.add_edge(node_idx, init_node - overlaps[i], s)\n",
    "                node_idx = init_node - overlaps[i]\n",
    "            else:\n",
    "                graph.add_node()\n",
    "    #             print(\"outside\",node_idx, len(graph.nodes)-1, s)\n",
    "\n",
    "                graph.add_edge(node_idx, len(graph.nodes)-1, seq=s)\n",
    "                node_idx = len(graph.nodes)-1\n",
    "        for ii in range(overlaps[i]):\n",
    "#             print(\"middle\",node_idx, node_idx + 1, overlap_strings[i][ii])\n",
    "            graph.add_edge(node_idx, node_idx + 1, graph.edge_labels[(node_idx, node_idx + 1)])\n",
    "            node_idx += 1\n",
    "\n",
    "        if i < len(overlap_space_idx1):\n",
    "#             print(node_idx, overlap_space_idx1[i], overlaps[i+1])\n",
    "            init_node = node_idx + overlap_space_idx[i] + overlaps[i+1]\n",
    "            node_idx = init_node\n",
    "    #         print(\"new\", node_idx)\n",
    "    return graph\n"
   ]
  },
  {
   "cell_type": "code",
   "execution_count": 6,
   "id": "d43b39c7",
   "metadata": {},
   "outputs": [],
   "source": [
    "def get_opt_aln(g1,g2,ag,subgraph):\n",
    "    for nodes in nx.strongly_connected_components(subgraph):\n",
    "        sub = nx.induced_subgraph(subgraph, nodes)\n",
    "        p1 = []\n",
    "        p2 = []\n",
    "        for edge in nx.eulerian_circuit(sub):\n",
    "            if ag.idx_to_node[edge[1]] != 0 and ag.idx_to_node[edge[1]] != 1:\n",
    "                p1.append(ag.idx_to_node[edge[1]][0])\n",
    "                p2.append(ag.idx_to_node[edge[1]][1])    \n",
    "            else:\n",
    "                p2.append(ag.idx_to_node[edge[1]]+10000)\n",
    "                p1.append(ag.idx_to_node[edge[1]]+10000)\n",
    "        print(p1)\n",
    "        print(p2)\n",
    "\n",
    "        s1 = \"\"\n",
    "        for i in range(len(p1)-1):\n",
    "            e1 = (p1[i], p1[i+1])\n",
    "            if e1 not in g1.edge_labels:\n",
    "                s1 += \"\"\n",
    "            else:\n",
    "                s1 += (g1.edge_labels[e1])\n",
    "\n",
    "        if (p1[-1], p1[0]) in g1.edge_labels:\n",
    "            s1 += g1.edge_labels[(p1[-1], p1[0])]\n",
    "        s2 = \"\"\n",
    "        for i in range(len(p2)-1):\n",
    "            e2 = (p2[i], p2[i+1])\n",
    "            if e2 not in g2.edge_labels:\n",
    "                s2 += \"\"\n",
    "            else:\n",
    "                s2 += g2.edge_labels[e2]\n",
    "        if (p2[-1], p2[0]) in g1.edge_labels:\n",
    "            s2 += g2.edge_labels[(p2[-1], p2[0])]\n",
    "                \n",
    "        if s1 == \"\" and s2 ==\"\":\n",
    "            return\n",
    "\n",
    "        print(Levenshtein.distance(s1, s2))\n",
    "        print(s1)\n",
    "        print(s2)"
   ]
  },
  {
   "cell_type": "code",
   "execution_count": 7,
   "id": "0a99fb6d",
   "metadata": {},
   "outputs": [],
   "source": [
    "num_cycles = 3\n",
    "len_mean = 5\n",
    "overlap_mean = 1"
   ]
  },
  {
   "cell_type": "code",
   "execution_count": 31,
   "id": "3f114480",
   "metadata": {
    "scrolled": true
   },
   "outputs": [
    {
     "name": "stderr",
     "output_type": "stream",
     "text": [
      "\r",
      "  0%|          | 0/100 [00:00<?, ?it/s]"
     ]
    },
    {
     "name": "stdout",
     "output_type": "stream",
     "text": [
      "[7, 1, 15] [1, 2]\n",
      "[5, 4, 15] [0, 0]\n",
      "[7, 4, 15] [1, 0]\n",
      "[5, 6, 15] [1, 1]\n",
      "[3, 4, 15] [0, 1]\n",
      "[9, 2, 15] [1, 1]\n",
      "[3, 7, 15] [0, 0]\n",
      "[4, 7, 15] [0, 1]\n",
      "[5, 4, 15] [2, 1]\n",
      "[7, 7, 15] [1, 2]\n",
      "[7, 5, 15] [0, 1]\n",
      "[2, 7, 15] [1, 1]\n",
      "[0, 1, 15] [1, 1]\n",
      "a must be greater than 0 unless no samples are taken\n",
      "[6, 7, 15] [0, 0]\n",
      "[3, 2, 15] [0, 2]\n",
      "[4, 4, 15] [0, 0]\n",
      "[5, 4, 15] [0, 0]\n",
      "[1, 4, 15] [2, 0]\n",
      "a must be greater than 0 unless no samples are taken\n",
      "[7, 2, 15] [0, 3]\n",
      "(19, 20)\n",
      "[2, 6, 15] [2, 0]\n",
      "a must be greater than 0 unless no samples are taken\n",
      "[4, 2, 15] [0, 3]\n",
      "(16, 17)\n",
      "[7, 2, 15] [1, 2]\n"
     ]
    },
    {
     "name": "stderr",
     "output_type": "stream",
     "text": [
      "\r",
      "  1%|          | 1/100 [00:14<24:18, 14.73s/it]"
     ]
    },
    {
     "name": "stdout",
     "output_type": "stream",
     "text": [
      "2.0\n",
      "2.0\n",
      "[6, 1, 15] [0, 0]\n",
      "[6, 7, 15] [0, 1]\n",
      "[8, 5, 15] [0, 2]\n"
     ]
    },
    {
     "name": "stderr",
     "output_type": "stream",
     "text": [
      "\r",
      "  2%|▏         | 2/100 [00:16<17:37, 10.79s/it]"
     ]
    },
    {
     "name": "stdout",
     "output_type": "stream",
     "text": [
      "2.0\n",
      "2.0\n",
      "[8, 3, 15] [1, 1]\n"
     ]
    },
    {
     "name": "stderr",
     "output_type": "stream",
     "text": [
      "\r",
      "  3%|▎         | 3/100 [00:16<12:27,  7.71s/it]"
     ]
    },
    {
     "name": "stdout",
     "output_type": "stream",
     "text": [
      "2.0\n",
      "2.0\n",
      "[9, 7, 15] [1, 1]\n"
     ]
    },
    {
     "name": "stderr",
     "output_type": "stream",
     "text": [
      "\r",
      "  4%|▍         | 4/100 [00:17<09:01,  5.64s/it]"
     ]
    },
    {
     "name": "stdout",
     "output_type": "stream",
     "text": [
      "2.0\n",
      "2.0\n",
      "[7, 2, 15] [0, 1]\n",
      "[8, 3, 15] [1, 0]\n",
      "[5, 4, 15] [1, 0]\n",
      "[4, 2, 15] [2, 1]\n",
      "[5, 5, 15] [1, 0]\n",
      "[6, 1, 15] [1, 0]\n",
      "[4, 5, 15] [0, 0]\n",
      "[7, 5, 15] [1, 1]\n",
      "[5, 6, 15] [1, 2]\n",
      "[10, 7, 15] [0, 1]\n",
      "[5, 2, 15] [1, 2]\n",
      "[4, 4, 15] [1, 1]\n"
     ]
    },
    {
     "name": "stderr",
     "output_type": "stream",
     "text": [
      "\r",
      "  5%|▌         | 5/100 [00:28<11:12,  7.08s/it]"
     ]
    },
    {
     "name": "stdout",
     "output_type": "stream",
     "text": [
      "2.0\n",
      "2.0\n",
      "[5, 8, 15] [1, 2]\n",
      "[4, 7, 15] [1, 0]\n",
      "[8, 7, 15] [0, 0]\n",
      "[6, 3, 15] [0, 0]\n",
      "[2, 4, 15] [0, 1]\n",
      "[5, 7, 15] [0, 0]\n",
      "[7, 5, 15] [1, 0]\n",
      "[6, 5, 15] [2, 0]\n",
      "[4, 3, 15] [1, 2]\n",
      "[2, 6, 15] [3, 1]\n",
      "a must be greater than 0 unless no samples are taken\n",
      "[4, 5, 15] [0, 1]\n",
      "[7, 5, 15] [1, 0]\n",
      "[7, 2, 15] [2, 0]\n",
      "[5, 5, 15] [2, 1]\n",
      "[6, 5, 15] [2, 0]\n",
      "[7, 5, 15] [0, 1]\n"
     ]
    },
    {
     "name": "stderr",
     "output_type": "stream",
     "text": [
      "\r",
      "  6%|▌         | 6/100 [01:20<32:33, 20.78s/it]"
     ]
    },
    {
     "name": "stdout",
     "output_type": "stream",
     "text": [
      "2.0\n",
      "2.0\n",
      "[6, 4, 15] [1, 0]\n",
      "[1, 6, 15] [1, 1]\n",
      "a must be greater than 0 unless no samples are taken\n",
      "[5, 2, 15] [0, 0]\n",
      "[2, 3, 15] [0, 1]\n"
     ]
    },
    {
     "name": "stderr",
     "output_type": "stream",
     "text": [
      "\r",
      "  7%|▋         | 7/100 [01:22<23:08, 14.93s/it]"
     ]
    },
    {
     "name": "stdout",
     "output_type": "stream",
     "text": [
      "2.0\n",
      "2.0\n",
      "[7, 10, 15] [1, 1]\n",
      "[2, 2, 15] [1, 2]\n",
      "[1, 7, 15] [0, 1]\n",
      "[5, 5, 15] [2, 1]\n",
      "[5, 1, 15] [0, 1]\n",
      "[7, 2, 15] [0, 0]\n",
      "[3, 5, 15] [1, 0]\n",
      "[5, 0, 15] [0, 0]\n",
      "[4, 2, 15] [0, 0]\n",
      "[1, 9, 15] [1, 0]\n",
      "a must be greater than 0 unless no samples are taken\n",
      "[5, 6, 15] [0, 0]\n",
      "[10, 5, 15] [0, 0]\n",
      "[2, 4, 15] [0, 1]\n"
     ]
    },
    {
     "name": "stderr",
     "output_type": "stream",
     "text": [
      "\r",
      "  8%|▊         | 8/100 [01:35<22:02, 14.37s/it]"
     ]
    },
    {
     "name": "stdout",
     "output_type": "stream",
     "text": [
      "2.0\n",
      "2.0\n",
      "[6, 4, 15] [0, 0]\n",
      "[3, 4, 15] [2, 1]\n",
      "[4, 5, 15] [3, 1]\n",
      "[3, 6, 15] [0, 2]\n",
      "[6, 7, 15] [0, 0]\n",
      "[10, 4, 15] [1, 1]\n",
      "[6, 7, 15] [2, 1]\n",
      "[7, 6, 15] [1, 0]\n",
      "[4, 4, 15] [1, 0]\n",
      "[6, 4, 15] [1, 0]\n",
      "[2, 3, 15] [0, 0]\n",
      "[3, 5, 15] [1, 1]\n"
     ]
    },
    {
     "name": "stderr",
     "output_type": "stream",
     "text": [
      "\r",
      "  9%|▉         | 9/100 [02:45<47:12, 31.13s/it]"
     ]
    },
    {
     "name": "stdout",
     "output_type": "stream",
     "text": [
      "2.0\n",
      "2.0\n",
      "[5, 5, 15] [0, 0]\n",
      "[5, 1, 15] [0, 0]\n",
      "[0, 4, 15] [1, 0]\n",
      "a must be greater than 0 unless no samples are taken\n",
      "[4, 6, 15] [0, 0]\n",
      "[3, 6, 15] [1, 2]\n",
      "[4, 5, 15] [2, 1]\n"
     ]
    },
    {
     "name": "stderr",
     "output_type": "stream",
     "text": [
      "\r",
      " 10%|█         | 10/100 [02:47<33:38, 22.43s/it]"
     ]
    },
    {
     "name": "stdout",
     "output_type": "stream",
     "text": [
      "2.0\n",
      "2.0\n",
      "[1, 7, 15] [1, 0]\n",
      "a must be greater than 0 unless no samples are taken\n",
      "[4, 7, 15] [0, 0]\n",
      "[6, 4, 15] [0, 2]\n",
      "[6, 3, 15] [0, 2]\n",
      "[4, 0, 15] [1, 0]\n",
      "[4, 5, 15] [0, 0]\n",
      "[6, 5, 15] [1, 0]\n",
      "[5, 5, 15] [0, 1]\n",
      "[6, 3, 15] [0, 3]\n",
      "[4, 0, 15] [0, 2]\n",
      "[5, 5, 15] [1, 0]\n",
      "[7, 4, 15] [0, 0]\n",
      "[3, 8, 15] [0, 0]\n",
      "[0, 3, 15] [1, 1]\n",
      "a must be greater than 0 unless no samples are taken\n",
      "[7, 0, 15] [0, 1]\n",
      "[3, 4, 15] [1, 0]\n",
      "[5, 4, 15] [1, 1]\n",
      "[4, 3, 15] [0, 0]\n",
      "[3, 6, 15] [1, 1]\n",
      "[3, 3, 15] [1, 0]\n",
      "[5, 1, 15] [2, 0]\n",
      "[8, 0, 15] [1, 1]\n",
      "[2, 3, 15] [0, 0]\n",
      "[4, 3, 15] [1, 1]\n",
      "[5, 6, 15] [1, 0]\n",
      "[7, 1, 15] [2, 0]\n",
      "[4, 6, 15] [1, 2]\n",
      "[4, 2, 15] [0, 0]\n",
      "[4, 6, 15] [1, 0]\n",
      "[0, 6, 15] [1, 1]\n",
      "a must be greater than 0 unless no samples are taken\n",
      "[5, 2, 15] [2, 0]\n",
      "[0, 4, 15] [1, 0]\n",
      "a must be greater than 0 unless no samples are taken\n",
      "[3, 6, 15] [0, 0]\n",
      "[6, 6, 15] [3, 0]\n",
      "[3, 5, 15] [0, 0]\n",
      "[8, 1, 15] [0, 2]\n",
      "[0, 4, 15] [1, 1]\n",
      "a must be greater than 0 unless no samples are taken\n",
      "[8, 4, 15] [0, 0]\n",
      "[2, 7, 15] [1, 0]\n",
      "[2, 7, 15] [2, 1]\n",
      "a must be greater than 0 unless no samples are taken\n",
      "[2, 7, 15] [0, 0]\n",
      "[5, 2, 15] [1, 1]\n",
      "[5, 5, 15] [0, 3]\n",
      "[3, 5, 15] [1, 1]\n"
     ]
    },
    {
     "name": "stderr",
     "output_type": "stream",
     "text": [
      "\r",
      " 11%|█         | 11/100 [03:11<34:09, 23.02s/it]"
     ]
    },
    {
     "name": "stdout",
     "output_type": "stream",
     "text": [
      "2.0\n",
      "2.0\n",
      "[8, 4, 15] [2, 1]\n",
      "[5, 6, 15] [1, 2]\n",
      "[0, 3, 15] [1, 1]\n",
      "a must be greater than 0 unless no samples are taken\n",
      "[4, 4, 15] [2, 0]\n",
      "[4, 3, 15] [2, 1]\n",
      "[7, 3, 15] [1, 1]\n"
     ]
    },
    {
     "name": "stderr",
     "output_type": "stream",
     "text": [
      "\r",
      " 12%|█▏        | 12/100 [03:14<24:47, 16.91s/it]"
     ]
    },
    {
     "name": "stdout",
     "output_type": "stream",
     "text": [
      "2.0\n",
      "2.0\n",
      "[6, 2, 15] [1, 1]\n",
      "[5, 3, 15] [0, 1]\n",
      "[7, 3, 15] [0, 2]\n"
     ]
    },
    {
     "name": "stderr",
     "output_type": "stream",
     "text": [
      "\r",
      " 13%|█▎        | 13/100 [03:15<17:40, 12.19s/it]"
     ]
    },
    {
     "name": "stdout",
     "output_type": "stream",
     "text": [
      "2.0\n",
      "2.0\n",
      "[6, 6, 15] [1, 0]\n",
      "[11, 6, 15] [0, 1]\n",
      "[6, 6, 15] [0, 0]\n",
      "[5, 4, 15] [0, 0]\n",
      "[3, 3, 15] [1, 0]\n",
      "[2, 3, 15] [0, 0]\n",
      "[4, 4, 15] [0, 2]\n"
     ]
    },
    {
     "name": "stderr",
     "output_type": "stream",
     "text": [
      "\r",
      " 14%|█▍        | 14/100 [03:33<20:03, 14.00s/it]"
     ]
    },
    {
     "name": "stdout",
     "output_type": "stream",
     "text": [
      "2.0\n",
      "2.0\n",
      "[4, 4, 15] [2, 1]\n",
      "[5, 3, 15] [1, 2]\n",
      "[6, 2, 15] [2, 1]\n",
      "[5, 6, 15] [0, 0]\n",
      "[1, 3, 15] [0, 0]\n",
      "[4, 5, 15] [0, 1]\n"
     ]
    },
    {
     "name": "stderr",
     "output_type": "stream",
     "text": [
      "\r",
      " 15%|█▌        | 15/100 [03:36<15:02, 10.62s/it]"
     ]
    },
    {
     "name": "stdout",
     "output_type": "stream",
     "text": [
      "2.0\n",
      "2.0\n",
      "[8, 5, 15] [2, 0]\n",
      "[8, 5, 15] [0, 1]\n",
      "[6, 3, 15] [2, 1]\n",
      "[3, 6, 15] [1, 0]\n",
      "[0, 7, 15] [0, 1]\n",
      "a must be greater than 0 unless no samples are taken\n",
      "[2, 6, 15] [0, 2]\n",
      "2.0\n"
     ]
    },
    {
     "name": "stderr",
     "output_type": "stream",
     "text": [
      "\r",
      " 16%|█▌        | 16/100 [03:40<11:47,  8.42s/it]"
     ]
    },
    {
     "name": "stdout",
     "output_type": "stream",
     "text": [
      "2.0\n",
      "[6, 7, 15] [0, 2]\n",
      "[4, 4, 15] [1, 0]\n",
      "[3, 5, 15] [0, 0]\n",
      "[3, 5, 15] [1, 0]\n",
      "[9, 5, 15] [1, 0]\n",
      "[4, 4, 15] [1, 0]\n",
      "[4, 3, 15] [0, 0]\n",
      "[7, 7, 15] [2, 0]\n",
      "[3, 5, 15] [0, 0]\n",
      "[3, 7, 15] [1, 2]\n",
      "[7, 4, 15] [0, 0]\n",
      "[4, 4, 15] [0, 0]\n",
      "[7, 5, 15] [0, 2]\n",
      "3.0\n"
     ]
    },
    {
     "name": "stderr",
     "output_type": "stream",
     "text": [
      "\r",
      " 17%|█▋        | 17/100 [04:00<16:37, 12.01s/it]"
     ]
    },
    {
     "name": "stdout",
     "output_type": "stream",
     "text": [
      "3.0\n",
      "[4, 7, 15] [1, 1]\n"
     ]
    },
    {
     "name": "stderr",
     "output_type": "stream",
     "text": [
      "\r",
      " 18%|█▊        | 18/100 [04:01<11:45,  8.60s/it]"
     ]
    },
    {
     "name": "stdout",
     "output_type": "stream",
     "text": [
      "2.0\n",
      "2.0\n",
      "[2, 2, 15] [0, 0]\n",
      "[6, 3, 15] [0, 0]\n",
      "[7, 4, 15] [1, 1]\n",
      "[3, 5, 15] [0, 1]\n",
      "[4, 2, 15] [2, 0]\n",
      "[4, 7, 15] [0, 3]\n",
      "[6, 4, 15] [0, 1]\n",
      "[6, 1, 15] [0, 1]\n",
      "[4, 5, 15] [1, 1]\n",
      "[2, 4, 15] [2, 0]\n",
      "a must be greater than 0 unless no samples are taken\n",
      "[1, 3, 15] [0, 3]\n",
      "[1, 1, 15] [1, 0]\n",
      "a must be greater than 0 unless no samples are taken\n",
      "[7, 8, 15] [3, 0]\n",
      "[6, 5, 15] [1, 1]\n",
      "[4, 4, 15] [0, 1]\n",
      "[7, 8, 15] [0, 0]\n",
      "[6, 5, 15] [1, 0]\n",
      "[2, 8, 15] [0, 1]\n",
      "[2, 4, 15] [0, 0]\n",
      "[6, 5, 15] [3, 0]\n",
      "[7, 8, 15] [0, 0]\n",
      "[7, 9, 15] [2, 0]\n",
      "[6, 2, 15] [0, 2]\n",
      "[5, 3, 15] [1, 0]\n",
      "[2, 5, 15] [0, 1]\n",
      "[4, 4, 15] [0, 1]\n",
      "[2, 2, 15] [0, 0]\n",
      "[6, 4, 15] [0, 1]\n",
      "[7, 4, 15] [1, 1]\n",
      "[7, 6, 15] [1, 0]\n",
      "[5, 7, 15] [3, 0]\n",
      "[5, 7, 15] [0, 0]\n",
      "[5, 7, 15] [0, 0]\n",
      "[3, 6, 15] [2, 1]\n",
      "[8, 4, 15] [0, 3]\n",
      "[-1, 3, 15] [1, 1]\n",
      "a must be greater than 0 unless no samples are taken\n",
      "[2, 7, 15] [0, 1]\n",
      "[6, 9, 15] [0, 1]\n",
      "[5, 4, 15] [1, 1]\n"
     ]
    },
    {
     "name": "stderr",
     "output_type": "stream",
     "text": [
      "\r",
      " 19%|█▉        | 19/100 [05:02<33:05, 24.51s/it]"
     ]
    },
    {
     "name": "stdout",
     "output_type": "stream",
     "text": [
      "2.0\n",
      "2.0\n",
      "[4, 8, 15] [0, 0]\n",
      "[0, 2, 15] [2, 0]\n",
      "a must be greater than 0 unless no samples are taken\n",
      "[5, 5, 15] [2, 0]\n",
      "[3, 5, 15] [0, 0]\n",
      "[6, 5, 15] [0, 1]\n"
     ]
    },
    {
     "name": "stderr",
     "output_type": "stream",
     "text": [
      "\r",
      " 20%|██        | 20/100 [05:06<24:19, 18.24s/it]"
     ]
    },
    {
     "name": "stdout",
     "output_type": "stream",
     "text": [
      "2.0\n",
      "2.0\n",
      "[5, 3, 15] [0, 0]\n",
      "[3, 3, 15] [0, 1]\n"
     ]
    },
    {
     "name": "stderr",
     "output_type": "stream",
     "text": [
      "\r",
      " 21%|██        | 21/100 [05:07<17:23, 13.21s/it]"
     ]
    },
    {
     "name": "stdout",
     "output_type": "stream",
     "text": [
      "2.0\n",
      "2.0\n",
      "[4, 3, 15] [0, 0]\n",
      "2.0\n"
     ]
    },
    {
     "name": "stderr",
     "output_type": "stream",
     "text": [
      "\r",
      " 22%|██▏       | 22/100 [05:08<12:24,  9.54s/it]"
     ]
    },
    {
     "name": "stdout",
     "output_type": "stream",
     "text": [
      "2.0\n",
      "[4, 5, 15] [0, 0]\n",
      "[7, 8, 15] [0, 2]\n",
      "[2, 2, 15] [0, 1]\n",
      "[4, 6, 15] [1, 1]\n",
      "[5, 3, 15] [0, 0]\n",
      "[7, 2, 15] [1, 0]\n",
      "[5, 3, 15] [1, 2]\n",
      "[6, 5, 15] [1, 0]\n",
      "[5, 3, 15] [2, 0]\n",
      "[6, 6, 15] [1, 0]\n",
      "[3, 4, 15] [0, 0]\n",
      "2.0\n"
     ]
    },
    {
     "name": "stderr",
     "output_type": "stream",
     "text": [
      "\r",
      " 23%|██▎       | 23/100 [06:09<31:55, 24.88s/it]"
     ]
    },
    {
     "name": "stdout",
     "output_type": "stream",
     "text": [
      "2.0\n",
      "[7, 2, 15] [1, 0]\n"
     ]
    },
    {
     "name": "stderr",
     "output_type": "stream",
     "text": [
      "\r",
      " 24%|██▍       | 24/100 [06:09<22:14, 17.56s/it]"
     ]
    },
    {
     "name": "stdout",
     "output_type": "stream",
     "text": [
      "2.0\n",
      "2.0\n",
      "[8, 6, 15] [0, 2]\n",
      "[4, 4, 15] [0, 1]\n",
      "[3, 5, 15] [0, 1]\n",
      "[8, 2, 15] [1, 1]\n",
      "3.0\n"
     ]
    },
    {
     "name": "stderr",
     "output_type": "stream",
     "text": [
      "\r",
      " 25%|██▌       | 25/100 [06:12<16:11, 12.96s/it]"
     ]
    },
    {
     "name": "stdout",
     "output_type": "stream",
     "text": [
      "3.0\n",
      "[5, 10, 15] [1, 0]\n",
      "2.0\n"
     ]
    },
    {
     "name": "stderr",
     "output_type": "stream",
     "text": [
      "\r",
      " 26%|██▌       | 26/100 [06:13<11:45,  9.53s/it]"
     ]
    },
    {
     "name": "stdout",
     "output_type": "stream",
     "text": [
      "2.0\n",
      "[4, 6, 15] [3, 0]\n",
      "[6, 6, 15] [0, 2]\n",
      "[4, 1, 15] [2, 1]\n",
      "[3, 5, 15] [0, 2]\n",
      "[3, 1, 15] [1, 0]\n",
      "[6, 2, 15] [1, 0]\n"
     ]
    },
    {
     "name": "stderr",
     "output_type": "stream",
     "text": [
      "\r",
      " 27%|██▋       | 27/100 [06:16<09:11,  7.55s/it]"
     ]
    },
    {
     "name": "stdout",
     "output_type": "stream",
     "text": [
      "2.0\n",
      "2.0\n",
      "[6, 8, 15] [0, 0]\n",
      "[4, 6, 15] [1, 0]\n",
      "2.0\n"
     ]
    },
    {
     "name": "stderr",
     "output_type": "stream",
     "text": [
      "\r",
      " 28%|██▊       | 28/100 [06:25<09:28,  7.90s/it]"
     ]
    },
    {
     "name": "stdout",
     "output_type": "stream",
     "text": [
      "2.0\n",
      "[5, 5, 15] [0, 1]\n",
      "[7, 1, 15] [0, 0]\n",
      "[3, 6, 15] [1, 0]\n",
      "[5, 4, 15] [1, 0]\n",
      "2.0\n"
     ]
    },
    {
     "name": "stderr",
     "output_type": "stream",
     "text": [
      "\r",
      " 29%|██▉       | 29/100 [06:28<07:30,  6.34s/it]"
     ]
    },
    {
     "name": "stdout",
     "output_type": "stream",
     "text": [
      "2.0\n",
      "[3, 1, 15] [1, 0]\n",
      "[6, 5, 15] [1, 1]\n",
      "[5, 4, 15] [1, 1]\n",
      "[6, 6, 15] [0, 0]\n",
      "2.0\n"
     ]
    },
    {
     "name": "stderr",
     "output_type": "stream",
     "text": [
      "\r",
      " 30%|███       | 30/100 [06:31<06:21,  5.45s/it]"
     ]
    },
    {
     "name": "stdout",
     "output_type": "stream",
     "text": [
      "2.0\n",
      "[6, 1, 15] [1, 1]\n",
      "[6, 2, 15] [0, 1]\n"
     ]
    },
    {
     "name": "stderr",
     "output_type": "stream",
     "text": [
      "\r",
      " 31%|███       | 31/100 [06:32<04:46,  4.16s/it]"
     ]
    },
    {
     "name": "stdout",
     "output_type": "stream",
     "text": [
      "2.0\n",
      "2.0\n",
      "[7, 5, 15] [1, 2]\n",
      "[5, 8, 15] [1, 0]\n",
      "[5, 4, 15] [0, 1]\n",
      "[3, 5, 15] [1, 1]\n",
      "[9, 6, 15] [2, 2]\n",
      "[5, 5, 15] [2, 0]\n",
      "[3, 3, 15] [0, 0]\n",
      "2.0\n"
     ]
    },
    {
     "name": "stderr",
     "output_type": "stream",
     "text": [
      "\r",
      " 32%|███▏      | 32/100 [06:47<08:24,  7.42s/it]"
     ]
    },
    {
     "name": "stdout",
     "output_type": "stream",
     "text": [
      "2.0\n",
      "[4, 4, 15] [1, 0]\n"
     ]
    },
    {
     "name": "stderr",
     "output_type": "stream",
     "text": [
      "\r",
      " 33%|███▎      | 33/100 [06:48<05:59,  5.37s/it]"
     ]
    },
    {
     "name": "stdout",
     "output_type": "stream",
     "text": [
      "2.0\n",
      "2.0\n",
      "[2, 6, 15] [0, 0]\n",
      "[3, 6, 15] [1, 0]\n",
      "[3, 7, 15] [1, 0]\n",
      "2.0\n"
     ]
    },
    {
     "name": "stderr",
     "output_type": "stream",
     "text": [
      "\r",
      " 34%|███▍      | 34/100 [06:49<04:44,  4.31s/it]"
     ]
    },
    {
     "name": "stdout",
     "output_type": "stream",
     "text": [
      "2.0\n",
      "[5, 6, 15] [0, 1]\n",
      "[1, 4, 15] [1, 1]\n",
      "a must be greater than 0 unless no samples are taken\n",
      "[6, 5, 15] [0, 0]\n",
      "[4, 4, 15] [1, 1]\n",
      "2.0\n"
     ]
    },
    {
     "name": "stderr",
     "output_type": "stream",
     "text": [
      "\r",
      " 35%|███▌      | 35/100 [06:58<06:05,  5.63s/it]"
     ]
    },
    {
     "name": "stdout",
     "output_type": "stream",
     "text": [
      "2.0\n",
      "[4, 6, 15] [1, 0]\n",
      "[8, 4, 15] [0, 0]\n",
      "[2, 3, 15] [1, 0]\n",
      "[5, 1, 15] [1, 0]\n",
      "2.0\n"
     ]
    },
    {
     "name": "stderr",
     "output_type": "stream",
     "text": [
      "\r",
      " 36%|███▌      | 36/100 [07:08<07:18,  6.86s/it]"
     ]
    },
    {
     "name": "stdout",
     "output_type": "stream",
     "text": [
      "2.0\n",
      "[4, 6, 15] [0, 1]\n",
      "[4, 2, 15] [0, 0]\n",
      "2.0\n"
     ]
    },
    {
     "name": "stderr",
     "output_type": "stream",
     "text": [
      "\r",
      " 37%|███▋      | 37/100 [07:16<07:41,  7.33s/it]"
     ]
    },
    {
     "name": "stdout",
     "output_type": "stream",
     "text": [
      "2.0\n",
      "[5, 4, 15] [0, 0]\n",
      "2.0\n"
     ]
    },
    {
     "name": "stderr",
     "output_type": "stream",
     "text": [
      "\r",
      " 38%|███▊      | 38/100 [07:22<07:05,  6.86s/it]"
     ]
    },
    {
     "name": "stdout",
     "output_type": "stream",
     "text": [
      "2.0\n",
      "[5, 4, 15] [1, 0]\n",
      "2.0\n"
     ]
    },
    {
     "name": "stderr",
     "output_type": "stream",
     "text": [
      "\r",
      " 39%|███▉      | 39/100 [07:23<05:10,  5.09s/it]"
     ]
    },
    {
     "name": "stdout",
     "output_type": "stream",
     "text": [
      "2.0\n",
      "[4, 3, 15] [0, 2]\n",
      "[9, 3, 15] [0, 1]\n",
      "[5, 1, 15] [0, 0]\n",
      "2.0\n",
      "50 2.0\n"
     ]
    },
    {
     "name": "stderr",
     "output_type": "stream",
     "text": [
      "\r",
      " 40%|████      | 40/100 [07:29<05:15,  5.27s/it]"
     ]
    },
    {
     "name": "stdout",
     "output_type": "stream",
     "text": [
      "2.0\n",
      "[4, 6, 15] [1, 0]\n",
      "[4, 5, 15] [1, 0]\n",
      "[3, 8, 15] [0, 0]\n",
      "[1, 3, 15] [0, 0]\n",
      "[0, 5, 15] [1, 1]\n",
      "a must be greater than 0 unless no samples are taken\n",
      "[8, 2, 15] [0, 0]\n",
      "[4, 4, 15] [0, 2]\n",
      "[6, 6, 15] [1, 0]\n",
      "[5, 3, 15] [0, 1]\n",
      "[3, 4, 15] [1, 0]\n",
      "[1, 4, 15] [0, 1]\n",
      "[3, 3, 15] [0, 1]\n",
      "[6, 3, 15] [2, 2]\n",
      "[5, 3, 15] [1, 0]\n",
      "[6, 7, 15] [0, 0]\n",
      "[6, 4, 15] [0, 2]\n",
      "[2, 3, 15] [1, 2]\n",
      "[3, 3, 15] [0, 1]\n",
      "[2, 8, 15] [0, 0]\n",
      "[5, 9, 15] [1, 1]\n",
      "[0, 5, 15] [0, 1]\n",
      "a must be greater than 0 unless no samples are taken\n",
      "[3, 2, 15] [1, 1]\n",
      "[3, 7, 15] [0, 1]\n",
      "[5, 1, 15] [1, 0]\n",
      "[3, 4, 15] [0, 1]\n",
      "[5, 1, 15] [1, 0]\n",
      "[4, 6, 15] [1, 0]\n",
      "[2, 5, 15] [2, 0]\n",
      "a must be greater than 0 unless no samples are taken\n",
      "[3, 7, 15] [1, 0]\n",
      "[3, 3, 15] [0, 0]\n",
      "[5, 2, 15] [1, 0]\n",
      "[2, 2, 15] [0, 1]\n",
      "[5, 10, 15] [0, 1]\n",
      "[3, 3, 15] [0, 1]\n",
      "[3, 2, 15] [0, 1]\n",
      "[3, 5, 15] [0, 0]\n",
      "[5, 3, 15] [0, 3]\n",
      "[2, 5, 15] [0, 0]\n",
      "[5, 7, 15] [2, 0]\n",
      "[4, 4, 15] [1, 1]\n",
      "[4, 5, 15] [0, 0]\n",
      "[5, 3, 15] [0, 2]\n",
      "[5, 7, 15] [1, 0]\n",
      "[2, 4, 15] [1, 0]\n",
      "[0, 3, 15] [2, 1]\n",
      "a must be greater than 0 unless no samples are taken\n",
      "[9, 5, 15] [1, 1]\n",
      "[6, 6, 15] [1, 0]\n",
      "[6, 5, 15] [0, 2]\n",
      "[8, 2, 15] [0, 0]\n",
      "[3, 5, 15] [1, 0]\n",
      "[6, 3, 15] [0, 0]\n",
      "[3, 4, 15] [1, 1]\n",
      "[3, 4, 15] [1, 1]\n",
      "[2, 5, 15] [1, 1]\n",
      "[2, 6, 15] [1, 1]\n",
      "[5, 3, 15] [0, 0]\n",
      "[7, 4, 15] [0, 1]\n",
      "[4, 3, 15] [0, 0]\n",
      "[3, 4, 15] [0, 0]\n",
      "[9, 6, 15] [1, 0]\n",
      "[1, 4, 15] [1, 2]\n",
      "a must be greater than 0 unless no samples are taken\n",
      "[5, 3, 15] [0, 0]\n",
      "[2, 5, 15] [1, 1]\n",
      "[6, 0, 15] [1, 0]\n",
      "[6, 4, 15] [0, 0]\n",
      "[2, 4, 15] [1, 1]\n",
      "[4, 8, 15] [0, 0]\n",
      "[5, 1, 15] [2, 0]\n",
      "[4, 4, 15] [1, 0]\n",
      "[3, 2, 15] [0, 1]\n",
      "[5, 4, 15] [1, 0]\n",
      "[4, 7, 15] [0, 0]\n",
      "[3, 4, 15] [0, 1]\n",
      "[-1, 4, 15] [1, 1]\n",
      "a must be greater than 0 unless no samples are taken\n",
      "[5, 5, 15] [3, 2]\n",
      "[4, 7, 15] [1, 1]\n",
      "[6, 7, 15] [0, 0]\n",
      "[4, 4, 15] [2, 0]\n",
      "[3, 6, 15] [0, 1]\n",
      "4.0\n",
      "50 3.0\n",
      "100 4.0\n"
     ]
    },
    {
     "name": "stderr",
     "output_type": "stream",
     "text": [
      "\r",
      " 41%|████      | 41/100 [09:34<40:36, 41.30s/it]"
     ]
    },
    {
     "name": "stdout",
     "output_type": "stream",
     "text": [
      "4.0\n",
      "[3, 2, 15] [2, 1]\n",
      "[5, 0, 15] [1, 2]\n",
      "[2, 4, 15] [0, 0]\n",
      "[1, 3, 15] [1, 1]\n",
      "a must be greater than 0 unless no samples are taken\n",
      "[3, 5, 15] [1, 0]\n",
      "[5, 5, 15] [0, 1]\n",
      "[7, 5, 15] [1, 1]\n",
      "[4, 1, 15] [0, 0]\n",
      "[4, 6, 15] [0, 1]\n",
      "[2, 3, 15] [0, 0]\n",
      "[6, 1, 15] [0, 1]\n",
      "[5, 1, 15] [0, 0]\n",
      "[5, 8, 15] [1, 2]\n",
      "[6, 5, 15] [0, 0]\n",
      "[4, 6, 15] [0, 0]\n",
      "[8, 8, 15] [1, 1]\n",
      "[7, 3, 15] [1, 2]\n",
      "[7, 6, 15] [0, 1]\n",
      "[8, 6, 15] [1, 0]\n",
      "[3, 1, 15] [2, 0]\n",
      "[2, 1, 15] [0, 0]\n",
      "[6, 8, 15] [1, 1]\n",
      "[4, 8, 15] [1, 1]\n",
      "[1, 3, 15] [0, 1]\n",
      "[5, 5, 15] [1, 1]\n",
      "4.0\n",
      "50 3.0\n",
      "100 4.0\n"
     ]
    },
    {
     "name": "stderr",
     "output_type": "stream",
     "text": [
      "\r",
      " 42%|████▏     | 42/100 [10:10<38:24, 39.74s/it]"
     ]
    },
    {
     "name": "stdout",
     "output_type": "stream",
     "text": [
      "4.0\n",
      "[5, 2, 15] [1, 0]\n",
      "[5, 2, 15] [0, 1]\n",
      "[2, 5, 15] [0, 1]\n",
      "[5, 6, 15] [0, 0]\n",
      "[4, 4, 15] [0, 1]\n",
      "[6, 4, 15] [0, 1]\n",
      "4.0\n",
      "50 3.0\n",
      "100 4.0\n"
     ]
    },
    {
     "name": "stderr",
     "output_type": "stream",
     "text": [
      "\r",
      " 43%|████▎     | 43/100 [12:16<1:02:20, 65.62s/it]"
     ]
    },
    {
     "name": "stdout",
     "output_type": "stream",
     "text": [
      "4.0\n",
      "[7, 2, 15] [1, 0]\n",
      "[4, 5, 15] [0, 2]\n",
      "[4, 3, 15] [0, 1]\n",
      "[2, 1, 15] [1, 0]\n",
      "[9, 5, 15] [0, 2]\n",
      "[3, 4, 15] [1, 1]\n",
      "[3, 7, 15] [0, 2]\n",
      "[6, 8, 15] [2, 0]\n",
      "[3, 5, 15] [2, 0]\n",
      "[6, 7, 15] [1, 3]\n",
      "[3, 4, 15] [0, 2]\n",
      "[0, 8, 15] [1, 0]\n",
      "a must be greater than 0 unless no samples are taken\n",
      "[3, 6, 15] [1, 0]\n",
      "[4, 6, 15] [1, 0]\n",
      "[3, 5, 15] [1, 1]\n",
      "[1, 0, 15] [1, 2]\n",
      "a must be greater than 0 unless no samples are taken\n",
      "[5, 4, 15] [1, 0]\n",
      "[3, 7, 15] [1, 0]\n",
      "[1, 5, 15] [1, 2]\n",
      "a must be greater than 0 unless no samples are taken\n",
      "[4, 9, 15] [1, 1]\n",
      "[5, 3, 15] [0, 1]\n",
      "[3, 3, 15] [1, 1]\n",
      "[11, 5, 15] [0, 1]\n",
      "[4, 2, 15] [0, 2]\n",
      "[4, 5, 15] [1, 0]\n",
      "[6, 7, 15] [2, 0]\n",
      "[3, 6, 15] [0, 1]\n",
      "[1, 4, 15] [1, 0]\n",
      "a must be greater than 0 unless no samples are taken\n",
      "[6, 7, 15] [2, 0]\n",
      "[5, 3, 15] [1, 1]\n",
      "[7, 3, 15] [1, 1]\n",
      "[4, 3, 15] [2, 0]\n",
      "[6, 2, 15] [0, 1]\n",
      "[-1, 5, 15] [0, 1]\n",
      "a must be greater than 0 unless no samples are taken\n",
      "[1, 2, 15] [2, 0]\n",
      "a must be greater than 0 unless no samples are taken\n",
      "[3, 6, 15] [0, 0]\n",
      "[1, 6, 15] [1, 0]\n",
      "a must be greater than 0 unless no samples are taken\n",
      "[4, 1, 15] [2, 0]\n",
      "[3, 5, 15] [2, 0]\n",
      "[3, 6, 15] [0, 0]\n",
      "[5, 4, 15] [0, 0]\n",
      "[2, 8, 15] [1, 0]\n",
      "[1, 2, 15] [0, 0]\n",
      "[7, 7, 15] [1, 1]\n",
      "4.0\n"
     ]
    },
    {
     "name": "stderr",
     "output_type": "stream",
     "text": [
      "\r",
      " 44%|████▍     | 44/100 [12:53<53:14, 57.05s/it]  "
     ]
    },
    {
     "name": "stdout",
     "output_type": "stream",
     "text": [
      "4.0\n",
      "[7, 5, 15] [3, 0]\n",
      "[7, 4, 15] [2, 2]\n",
      "[6, 4, 15] [0, 1]\n",
      "4.0\n"
     ]
    },
    {
     "name": "stderr",
     "output_type": "stream",
     "text": [
      "\r",
      " 45%|████▌     | 45/100 [12:59<38:05, 41.56s/it]"
     ]
    },
    {
     "name": "stdout",
     "output_type": "stream",
     "text": [
      "4.0\n",
      "[2, 9, 15] [3, 1]\n",
      "a must be greater than 0 unless no samples are taken\n",
      "[0, 3, 15] [0, 0]\n",
      "a must be greater than 0 unless no samples are taken\n",
      "[4, 1, 15] [0, 0]\n",
      "[5, 3, 15] [1, 0]\n",
      "[2, 6, 15] [1, 1]\n",
      "[4, 3, 15] [1, 0]\n",
      "[5, 2, 15] [0, 0]\n",
      "[3, 6, 15] [0, 0]\n",
      "[5, 6, 15] [1, 0]\n",
      "[5, 4, 15] [1, 0]\n",
      "[3, 3, 15] [1, 2]\n",
      "[4, 5, 15] [0, 1]\n",
      "[2, 5, 15] [1, 1]\n",
      "[5, 4, 15] [1, 1]\n",
      "[4, 3, 15] [0, 2]\n",
      "[7, 5, 15] [1, 0]\n",
      "[5, 3, 15] [1, 1]\n",
      "[2, 5, 15] [0, 1]\n",
      "[6, 9, 15] [0, 0]\n",
      "[6, 7, 15] [2, 0]\n",
      "[4, 1, 15] [0, 1]\n",
      "4.0\n",
      "50 3.0\n"
     ]
    },
    {
     "name": "stderr",
     "output_type": "stream",
     "text": [
      "\r",
      " 46%|████▌     | 46/100 [13:16<30:48, 34.22s/it]"
     ]
    },
    {
     "name": "stdout",
     "output_type": "stream",
     "text": [
      "4.0\n",
      "[3, 5, 15] [0, 0]\n",
      "[6, 3, 15] [1, 0]\n",
      "[5, 7, 15] [0, 1]\n",
      "[2, 5, 15] [0, 1]\n",
      "[5, 3, 15] [3, 1]\n",
      "[4, 0, 15] [0, 2]\n",
      "[2, 3, 15] [0, 3]\n",
      "[5, 6, 15] [1, 1]\n",
      "4.0\n"
     ]
    },
    {
     "name": "stderr",
     "output_type": "stream",
     "text": [
      "\r",
      " 47%|████▋     | 47/100 [13:24<23:26, 26.54s/it]"
     ]
    },
    {
     "name": "stdout",
     "output_type": "stream",
     "text": [
      "4.0\n",
      "[5, 2, 15] [0, 1]\n",
      "[2, 3, 15] [3, 0]\n",
      "a must be greater than 0 unless no samples are taken\n",
      "[2, 4, 15] [2, 0]\n",
      "a must be greater than 0 unless no samples are taken\n",
      "[2, 4, 15] [1, 1]\n",
      "[5, 6, 15] [0, 0]\n",
      "[2, 6, 15] [0, 0]\n",
      "[6, 3, 15] [0, 0]\n",
      "[2, 7, 15] [0, 0]\n",
      "[7, 3, 15] [1, 1]\n",
      "[2, 2, 15] [0, 1]\n",
      "[6, 4, 15] [0, 1]\n",
      "[2, 5, 15] [0, 1]\n",
      "[9, 7, 15] [1, 1]\n",
      "[6, 5, 15] [2, 2]\n",
      "[4, 6, 15] [2, 3]\n",
      "[7, 7, 15] [0, 3]\n",
      "[2, 4, 15] [1, 1]\n",
      "[4, 5, 15] [0, 2]\n",
      "[4, 4, 15] [2, 0]\n",
      "[7, 3, 15] [0, 2]\n",
      "[4, 0, 15] [0, 0]\n",
      "[5, 8, 15] [1, 0]\n",
      "[7, 3, 15] [2, 1]\n",
      "[3, 4, 15] [0, 1]\n",
      "[3, 2, 15] [1, 0]\n",
      "[3, 5, 15] [0, 1]\n",
      "[4, 3, 15] [0, 0]\n",
      "[5, 6, 15] [1, 0]\n",
      "[7, 5, 15] [1, 1]\n",
      "[2, 5, 15] [1, 1]\n",
      "[5, 5, 15] [2, 2]\n",
      "[6, 7, 15] [1, 1]\n",
      "[3, 5, 15] [0, 0]\n",
      "[1, 5, 15] [0, 0]\n",
      "[6, 7, 15] [0, 1]\n",
      "4.0\n"
     ]
    },
    {
     "name": "stderr",
     "output_type": "stream",
     "text": [
      "\r",
      " 48%|████▊     | 48/100 [15:59<56:11, 64.84s/it]"
     ]
    },
    {
     "name": "stdout",
     "output_type": "stream",
     "text": [
      "4.0\n",
      "[3, 6, 15] [2, 1]\n",
      "[5, 6, 15] [1, 1]\n",
      "[2, 2, 15] [1, 1]\n",
      "[6, 1, 15] [0, 0]\n",
      "[5, 5, 15] [2, 1]\n",
      "[9, 7, 15] [0, 0]\n",
      "[4, 8, 15] [0, 0]\n",
      "[3, 5, 15] [3, 2]\n",
      "a must be greater than 0 unless no samples are taken\n",
      "[7, 3, 15] [2, 0]\n",
      "[7, 5, 15] [1, 1]\n",
      "[4, 6, 15] [0, 0]\n",
      "[6, 6, 15] [0, 0]\n",
      "[3, 6, 15] [0, 1]\n",
      "[6, 2, 15] [1, 0]\n",
      "[6, 4, 15] [1, 3]\n",
      "[7, 1, 15] [1, 0]\n",
      "[6, 5, 15] [2, 1]\n",
      "[7, 3, 15] [1, 0]\n",
      "[2, 6, 15] [1, 1]\n",
      "[2, 3, 15] [0, 0]\n",
      "[7, 7, 15] [1, 2]\n",
      "[3, 8, 15] [2, 0]\n",
      "[2, 5, 15] [0, 1]\n",
      "[3, 6, 15] [1, 0]\n",
      "[8, 4, 15] [0, 0]\n",
      "[5, 8, 15] [1, 0]\n",
      "[5, 4, 15] [0, 2]\n",
      "[7, 3, 15] [0, 1]\n",
      "[5, 4, 15] [1, 0]\n",
      "[2, 5, 15] [0, 1]\n",
      "[4, 5, 15] [1, 0]\n",
      "[4, 7, 15] [2, 0]\n",
      "[4, 0, 15] [0, 1]\n",
      "[6, 6, 15] [0, 2]\n",
      "[7, 4, 15] [1, 1]\n",
      "[5, 7, 15] [0, 2]\n",
      "[1, 3, 15] [0, 2]\n",
      "[2, 3, 15] [2, 1]\n",
      "a must be greater than 0 unless no samples are taken\n",
      "[3, 3, 15] [1, 1]\n",
      "[3, 5, 15] [1, 1]\n",
      "[3, 1, 15] [0, 0]\n",
      "[2, 5, 15] [0, 0]\n",
      "[6, 3, 15] [0, 0]\n",
      "[4, 5, 15] [0, 1]\n",
      "4.0\n",
      "50 3.0\n",
      "100 4.0\n",
      "150 4.0\n"
     ]
    },
    {
     "name": "stderr",
     "output_type": "stream",
     "text": [
      "\r",
      " 49%|████▉     | 49/100 [18:04<1:10:26, 82.87s/it]"
     ]
    },
    {
     "name": "stdout",
     "output_type": "stream",
     "text": [
      "4.0\n",
      "[5, 5, 15] [1, 0]\n",
      "[1, 9, 15] [1, 2]\n",
      "a must be greater than 0 unless no samples are taken\n",
      "[4, 2, 15] [0, 1]\n",
      "[6, 6, 15] [0, 2]\n",
      "[2, 6, 15] [1, 2]\n",
      "[2, 3, 15] [1, 0]\n",
      "[2, 3, 15] [1, 0]\n",
      "[5, 4, 15] [0, 2]\n",
      "[4, 0, 15] [0, 0]\n",
      "[6, 8, 15] [1, 0]\n",
      "[6, 4, 15] [1, 2]\n",
      "[2, 6, 15] [0, 0]\n",
      "[4, 6, 15] [0, 0]\n",
      "[6, 3, 15] [0, 1]\n",
      "[9, 4, 15] [0, 0]\n",
      "[3, 1, 15] [0, 2]\n",
      "[5, 3, 15] [1, 0]\n",
      "[4, 6, 15] [0, 1]\n",
      "[1, 7, 15] [1, 0]\n",
      "a must be greater than 0 unless no samples are taken\n",
      "[6, 7, 15] [0, 0]\n",
      "[4, 7, 15] [1, 1]\n",
      "[5, 4, 15] [1, 0]\n",
      "[3, 5, 15] [0, 1]\n",
      "4.0\n",
      "50 3.0\n",
      "100 4.0\n"
     ]
    },
    {
     "name": "stderr",
     "output_type": "stream",
     "text": [
      "\r",
      " 50%|█████     | 50/100 [19:46<1:13:54, 88.68s/it]"
     ]
    },
    {
     "name": "stdout",
     "output_type": "stream",
     "text": [
      "4.0\n",
      "[3, 3, 15] [0, 1]\n",
      "[5, 4, 15] [0, 2]\n",
      "[3, 6, 15] [0, 3]\n",
      "[3, 5, 15] [3, 1]\n",
      "a must be greater than 0 unless no samples are taken\n",
      "[3, 7, 15] [0, 1]\n",
      "[4, 4, 15] [0, 0]\n",
      "[1, 3, 15] [0, 0]\n",
      "[1, 7, 15] [1, 1]\n",
      "a must be greater than 0 unless no samples are taken\n",
      "[5, 7, 15] [1, 1]\n",
      "4.0\n"
     ]
    },
    {
     "name": "stderr",
     "output_type": "stream",
     "text": [
      "\r",
      " 51%|█████     | 51/100 [19:57<53:31, 65.53s/it]  "
     ]
    },
    {
     "name": "stdout",
     "output_type": "stream",
     "text": [
      "4.0\n",
      "[7, 5, 15] [0, 0]\n",
      "[3, 3, 15] [1, 2]\n",
      "[3, 3, 15] [0, 2]\n",
      "[5, 4, 15] [2, 0]\n",
      "[2, 7, 15] [0, 1]\n",
      "[5, 4, 15] [0, 0]\n",
      "[5, 3, 15] [0, 0]\n",
      "[3, 3, 15] [0, 0]\n",
      "[6, 3, 15] [1, 0]\n",
      "[4, 2, 15] [0, 0]\n",
      "3.0\n",
      "50 2.0\n"
     ]
    },
    {
     "name": "stderr",
     "output_type": "stream",
     "text": [
      "\r",
      " 52%|█████▏    | 52/100 [20:31<44:44, 55.92s/it]"
     ]
    },
    {
     "name": "stdout",
     "output_type": "stream",
     "text": [
      "3.0\n",
      "[6, 9, 15] [0, 0]\n",
      "[8, 3, 15] [0, 0]\n",
      "[5, 5, 15] [2, 0]\n",
      "[4, 3, 15] [0, 1]\n",
      "[4, 5, 15] [1, 1]\n",
      "[4, 4, 15] [2, 1]\n",
      "[3, 6, 15] [1, 1]\n",
      "[2, 6, 15] [1, 2]\n",
      "[6, 6, 15] [1, 0]\n",
      "[4, 4, 15] [1, 1]\n",
      "[8, 6, 15] [0, 2]\n",
      "[7, 4, 15] [0, 1]\n",
      "[6, 5, 15] [1, 1]\n",
      "[4, 6, 15] [0, 0]\n",
      "[6, 7, 15] [1, 2]\n",
      "[5, 6, 15] [1, 0]\n",
      "[6, 3, 15] [0, 0]\n",
      "[5, 3, 15] [2, 0]\n",
      "[2, 4, 15] [0, 2]\n",
      "[9, 4, 15] [0, 0]\n",
      "3.0\n"
     ]
    },
    {
     "name": "stderr",
     "output_type": "stream",
     "text": [
      "\r",
      " 53%|█████▎    | 53/100 [22:11<54:17, 69.30s/it]"
     ]
    },
    {
     "name": "stdout",
     "output_type": "stream",
     "text": [
      "3.0\n",
      "[4, 3, 15] [1, 0]\n",
      "[5, 3, 15] [0, 0]\n",
      "[6, 2, 15] [1, 0]\n",
      "[4, 4, 15] [0, 1]\n",
      "[5, 5, 15] [2, 0]\n",
      "[2, 6, 15] [0, 1]\n",
      "[-2, 3, 15] [0, 1]\n",
      "a must be greater than 0 unless no samples are taken\n",
      "[7, 4, 15] [2, 0]\n",
      "[0, 5, 15] [0, 0]\n",
      "a must be greater than 0 unless no samples are taken\n",
      "[3, 10, 15] [1, 1]\n",
      "[8, 5, 15] [1, 1]\n",
      "[2, 2, 15] [1, 0]\n",
      "[4, 8, 15] [1, 1]\n",
      "[5, 6, 15] [1, 2]\n",
      "4.0\n"
     ]
    },
    {
     "name": "stderr",
     "output_type": "stream",
     "text": [
      "\r",
      " 54%|█████▍    | 54/100 [22:20<39:14, 51.19s/it]"
     ]
    },
    {
     "name": "stdout",
     "output_type": "stream",
     "text": [
      "4.0\n",
      "[4, 3, 15] [1, 3]\n",
      "[3, 5, 15] [1, 1]\n",
      "[4, 6, 15] [0, 0]\n",
      "[9, 4, 15] [0, 0]\n",
      "[4, 1, 15] [2, 2]\n",
      "[3, 4, 15] [2, 0]\n",
      "[5, 5, 15] [1, 2]\n",
      "[-3, 7, 15] [1, 2]\n",
      "a must be greater than 0 unless no samples are taken\n",
      "[3, 3, 15] [0, 0]\n",
      "[4, 6, 15] [1, 2]\n",
      "[2, 8, 15] [1, 1]\n",
      "[4, 4, 15] [0, 2]\n",
      "[3, 4, 15] [0, 2]\n",
      "[4, 5, 15] [1, 0]\n",
      "[4, 3, 15] [1, 0]\n",
      "[6, 3, 15] [0, 1]\n",
      "[5, 5, 15] [0, 1]\n",
      "4.0\n"
     ]
    },
    {
     "name": "stderr",
     "output_type": "stream",
     "text": [
      "\r",
      " 55%|█████▌    | 55/100 [22:40<31:19, 41.77s/it]"
     ]
    },
    {
     "name": "stdout",
     "output_type": "stream",
     "text": [
      "4.0\n",
      "[6, 4, 15] [0, 0]\n",
      "[4, 1, 15] [1, 0]\n",
      "[2, 1, 15] [1, 0]\n",
      "[6, 3, 15] [0, 0]\n",
      "[4, 5, 15] [0, 1]\n",
      "4.0\n",
      "50 3.0\n",
      "100 4.0\n"
     ]
    },
    {
     "name": "stderr",
     "output_type": "stream",
     "text": [
      "\r",
      " 56%|█████▌    | 56/100 [23:31<32:42, 44.61s/it]"
     ]
    },
    {
     "name": "stdout",
     "output_type": "stream",
     "text": [
      "4.0\n",
      "[6, 5, 15] [1, 0]\n",
      "[2, 4, 15] [1, 2]\n",
      "[8, 3, 15] [1, 2]\n",
      "[3, 7, 15] [0, 1]\n",
      "[2, 1, 15] [1, 0]\n",
      "[4, 2, 15] [0, 3]\n",
      "(16, 17)\n",
      "[6, 7, 15] [0, 0]\n",
      "[5, 5, 15] [2, 1]\n",
      "[2, 7, 15] [0, 2]\n",
      "[3, 6, 15] [2, 2]\n",
      "[4, 6, 15] [0, 2]\n",
      "[4, 5, 15] [0, 0]\n",
      "[5, 2, 15] [0, 0]\n",
      "[7, 5, 15] [1, 0]\n",
      "[8, 2, 15] [0, 1]\n",
      "4.0\n",
      "50 3.0\n"
     ]
    },
    {
     "name": "stderr",
     "output_type": "stream",
     "text": [
      "\r",
      " 57%|█████▋    | 57/100 [23:58<28:08, 39.27s/it]"
     ]
    },
    {
     "name": "stdout",
     "output_type": "stream",
     "text": [
      "4.0\n",
      "[5, 3, 15] [0, 2]\n",
      "[7, 7, 15] [0, 0]\n",
      "[8, 0, 15] [1, 1]\n",
      "[5, 4, 15] [0, 0]\n",
      "[7, 4, 15] [2, 1]\n",
      "[6, 4, 15] [1, 0]\n",
      "[3, 7, 15] [2, 0]\n",
      "[5, 5, 15] [1, 2]\n",
      "[8, 0, 15] [1, 0]\n",
      "[2, 3, 15] [0, 2]\n",
      "[6, 4, 15] [1, 1]\n",
      "[8, 4, 15] [1, 0]\n",
      "[3, 7, 15] [1, 0]\n",
      "[1, 3, 15] [0, 1]\n",
      "[8, 0, 15] [0, 0]\n",
      "[7, 2, 15] [0, 1]\n",
      "[1, 3, 15] [0, 0]\n",
      "[6, 3, 15] [0, 2]\n",
      "[4, 2, 15] [1, 0]\n",
      "[5, 7, 15] [0, 0]\n",
      "3.0\n"
     ]
    },
    {
     "name": "stderr",
     "output_type": "stream",
     "text": [
      "\r",
      " 58%|█████▊    | 58/100 [24:23<24:31, 35.04s/it]"
     ]
    },
    {
     "name": "stdout",
     "output_type": "stream",
     "text": [
      "3.0\n",
      "[5, 3, 15] [0, 1]\n",
      "[5, 4, 15] [0, 0]\n",
      "[5, 4, 15] [0, 0]\n",
      "[5, 6, 15] [0, 0]\n",
      "[3, 8, 15] [0, 0]\n",
      "[5, 4, 15] [2, 1]\n",
      "[9, 2, 15] [1, 0]\n",
      "[8, 4, 15] [0, 1]\n",
      "[7, 2, 15] [0, 2]\n",
      "[4, 2, 15] [1, 2]\n",
      "[5, 6, 15] [0, 1]\n",
      "4.0\n"
     ]
    },
    {
     "name": "stderr",
     "output_type": "stream",
     "text": [
      "\r",
      " 59%|█████▉    | 59/100 [24:48<21:54, 32.06s/it]"
     ]
    },
    {
     "name": "stdout",
     "output_type": "stream",
     "text": [
      "4.0\n",
      "[6, 4, 15] [0, 2]\n",
      "[7, 6, 15] [2, 2]\n",
      "[2, 4, 15] [1, 0]\n",
      "[2, 2, 15] [0, 0]\n",
      "[3, 2, 15] [0, 1]\n",
      "[8, 5, 15] [1, 1]\n",
      "[3, 4, 15] [2, 1]\n",
      "[3, 3, 15] [1, 0]\n",
      "[4, 1, 15] [0, 0]\n",
      "[8, 5, 15] [0, 0]\n",
      "[2, 7, 15] [0, 2]\n",
      "[5, 8, 15] [1, 1]\n",
      "[6, 4, 15] [0, 1]\n",
      "[4, 2, 15] [0, 1]\n",
      "[6, 5, 15] [0, 0]\n",
      "[7, 4, 15] [2, 1]\n",
      "4.0\n"
     ]
    },
    {
     "name": "stderr",
     "output_type": "stream",
     "text": [
      "\r",
      " 60%|██████    | 60/100 [25:02<17:43, 26.58s/it]"
     ]
    },
    {
     "name": "stdout",
     "output_type": "stream",
     "text": [
      "4.0\n",
      "[4, 6, 15] [1, 1]\n",
      "[4, 3, 15] [0, 0]\n",
      "[5, 7, 15] [0, 2]\n",
      "[5, 5, 15] [2, 1]\n",
      "[5, 8, 15] [2, 1]\n",
      "[4, 6, 15] [2, 1]\n",
      "[0, 2, 15] [1, 0]\n",
      "a must be greater than 0 unless no samples are taken\n",
      "[6, 8, 15] [0, 0]\n",
      "[2, 7, 15] [1, 2]\n",
      "[4, 7, 15] [1, 0]\n",
      "[3, 4, 15] [3, 1]\n",
      "a must be greater than 0 unless no samples are taken\n",
      "[4, 5, 15] [3, 0]\n",
      "[8, 3, 15] [0, 2]\n",
      "[4, 3, 15] [1, 1]\n",
      "[4, 5, 15] [0, 1]\n",
      "[5, 3, 15] [2, 0]\n",
      "[6, 4, 15] [1, 0]\n",
      "4.0\n",
      "50 4.0\n"
     ]
    },
    {
     "name": "stderr",
     "output_type": "stream",
     "text": [
      "\r",
      " 61%|██████    | 61/100 [25:21<15:50, 24.38s/it]"
     ]
    },
    {
     "name": "stdout",
     "output_type": "stream",
     "text": [
      "4.0\n",
      "[6, 5, 15] [0, 2]\n",
      "[5, 8, 15] [1, 3]\n",
      "[7, 7, 15] [1, 1]\n",
      "5.0\n",
      "50 4.0\n",
      "100 5.0\n",
      "150 5.0\n",
      "200 5.0\n"
     ]
    },
    {
     "name": "stderr",
     "output_type": "stream",
     "text": [
      "\r",
      " 62%|██████▏   | 62/100 [28:36<47:49, 75.51s/it]"
     ]
    },
    {
     "name": "stdout",
     "output_type": "stream",
     "text": [
      "5.0\n",
      "[6, 8, 15] [0, 0]\n",
      "[6, 2, 15] [1, 1]\n",
      "[6, 5, 15] [1, 1]\n",
      "[4, 2, 15] [0, 1]\n",
      "[3, 3, 15] [1, 0]\n",
      "[6, 5, 15] [0, 2]\n",
      "[4, 4, 15] [0, 1]\n",
      "[3, 5, 15] [1, 0]\n",
      "[4, 6, 15] [1, 0]\n",
      "[1, 4, 15] [2, 0]\n",
      "a must be greater than 0 unless no samples are taken\n",
      "[3, 5, 15] [0, 1]\n",
      "[8, 4, 15] [1, 0]\n",
      "[7, 4, 15] [1, 1]\n",
      "[2, 5, 15] [1, 1]\n",
      "[5, 1, 15] [0, 0]\n",
      "[4, 5, 15] [0, 1]\n",
      "[3, 4, 15] [1, 2]\n",
      "[8, 5, 15] [1, 1]\n",
      "[6, 4, 15] [0, 1]\n",
      "[2, 7, 15] [0, 1]\n",
      "[0, 6, 15] [0, 0]\n",
      "a must be greater than 0 unless no samples are taken\n",
      "[6, 4, 15] [1, 2]\n",
      "[7, 4, 15] [3, 1]\n",
      "[5, 6, 15] [0, 2]\n",
      "[6, 0, 15] [1, 0]\n",
      "[5, 8, 15] [1, 1]\n",
      "[2, 6, 15] [2, 0]\n",
      "a must be greater than 0 unless no samples are taken\n",
      "[6, 0, 15] [0, 0]\n",
      "[8, 7, 15] [1, 0]\n",
      "4.0\n",
      "50 4.0\n",
      "100 4.0\n",
      "150 4.0\n"
     ]
    },
    {
     "name": "stderr",
     "output_type": "stream",
     "text": [
      "\r",
      " 63%|██████▎   | 63/100 [30:45<56:22, 91.42s/it]"
     ]
    },
    {
     "name": "stdout",
     "output_type": "stream",
     "text": [
      "4.0\n",
      "[6, 6, 15] [1, 1]\n",
      "[5, 9, 15] [0, 0]\n",
      "4.0\n",
      "50 3.0\n",
      "100 4.0\n",
      "150 4.0\n",
      "200 4.0\n",
      "250 4.0\n",
      "300 4.0\n"
     ]
    },
    {
     "name": "stderr",
     "output_type": "stream",
     "text": [
      "\r",
      " 64%|██████▍   | 64/100 [34:41<1:20:55, 134.88s/it]"
     ]
    },
    {
     "name": "stdout",
     "output_type": "stream",
     "text": [
      "4.0\n",
      "[6, 7, 15] [0, 0]\n",
      "[3, 7, 15] [0, 0]\n",
      "[2, 3, 15] [0, 0]\n",
      "[2, 7, 15] [0, 1]\n",
      "[4, 3, 15] [0, 0]\n",
      "[4, 0, 15] [2, 1]\n",
      "[5, 2, 15] [2, 1]\n",
      "[2, 4, 15] [2, 1]\n",
      "a must be greater than 0 unless no samples are taken\n",
      "[5, 6, 15] [1, 0]\n",
      "[6, 5, 15] [0, 3]\n",
      "[4, 0, 15] [0, 0]\n",
      "[5, 6, 15] [1, 2]\n",
      "[1, 3, 15] [0, 1]\n",
      "[6, 8, 15] [1, 2]\n",
      "[9, 6, 15] [2, 0]\n",
      "[2, 4, 15] [1, 2]\n",
      "[3, 3, 15] [1, 1]\n",
      "[2, 6, 15] [2, 2]\n",
      "a must be greater than 0 unless no samples are taken\n",
      "[10, 5, 15] [1, 0]\n",
      "[6, 1, 15] [0, 0]\n",
      "[3, 6, 15] [1, 2]\n",
      "[5, 7, 15] [0, 0]\n",
      "[3, 8, 15] [2, 0]\n",
      "[2, 5, 15] [0, 0]\n",
      "[4, 3, 15] [1, 1]\n",
      "[2, 5, 15] [0, 1]\n",
      "[2, 3, 15] [0, 0]\n",
      "[5, 4, 15] [0, 0]\n",
      "[4, 6, 15] [1, 2]\n",
      "[5, 0, 15] [0, 1]\n",
      "[7, 4, 15] [1, 0]\n",
      "[3, 4, 15] [1, 1]\n",
      "[6, 5, 15] [2, 1]\n",
      "4.0\n",
      "50 4.0\n"
     ]
    },
    {
     "name": "stderr",
     "output_type": "stream",
     "text": [
      "\r",
      " 65%|██████▌   | 65/100 [37:48<1:27:52, 150.64s/it]"
     ]
    },
    {
     "name": "stdout",
     "output_type": "stream",
     "text": [
      "4.0\n",
      "[5, 4, 15] [0, 1]\n",
      "[0, 7, 15] [0, 0]\n",
      "a must be greater than 0 unless no samples are taken\n",
      "[4, 4, 15] [0, 1]\n",
      "[3, 4, 15] [2, 1]\n",
      "[3, 3, 15] [1, 2]\n",
      "[4, 4, 15] [1, 0]\n",
      "[4, 5, 15] [1, 1]\n",
      "[4, 4, 15] [3, 2]\n",
      "[2, 5, 15] [2, 1]\n",
      "a must be greater than 0 unless no samples are taken\n",
      "[5, 1, 15] [1, 1]\n",
      "[3, 4, 15] [2, 2]\n",
      "[8, 7, 15] [1, 2]\n",
      "[4, 3, 15] [0, 1]\n",
      "[5, 7, 15] [0, 0]\n",
      "[5, 3, 15] [0, 0]\n",
      "4.0\n",
      "50 2.0\n",
      "100 3.0\n",
      "150 4.0\n",
      "200 4.0\n",
      "250 4.0\n",
      "300 4.0\n"
     ]
    },
    {
     "name": "stderr",
     "output_type": "stream",
     "text": [
      "\r",
      " 66%|██████▌   | 66/100 [48:27<2:48:21, 297.10s/it]"
     ]
    },
    {
     "name": "stdout",
     "output_type": "stream",
     "text": [
      "4.0\n",
      "[2, 4, 15] [0, 0]\n",
      "[5, 5, 15] [1, 1]\n",
      "[7, 8, 15] [1, 1]\n",
      "[7, 5, 15] [0, 0]\n",
      "[3, 4, 15] [1, 1]\n",
      "[8, 6, 15] [0, 1]\n",
      "[2, 2, 15] [0, 0]\n",
      "[4, 6, 15] [0, 2]\n",
      "[4, 4, 15] [1, 1]\n",
      "[6, 6, 15] [2, 2]\n",
      "[4, 5, 15] [0, 0]\n",
      "[5, 2, 15] [0, 0]\n",
      "[5, 3, 15] [2, 1]\n",
      "[1, 5, 15] [0, 0]\n",
      "[6, 7, 15] [0, 1]\n",
      "[4, 7, 15] [0, 0]\n",
      "[4, 2, 15] [2, 1]\n",
      "[3, 2, 15] [0, 1]\n",
      "[5, 5, 15] [1, 0]\n",
      "[7, 8, 15] [0, 0]\n",
      "[8, 4, 15] [0, 0]\n",
      "4.0\n",
      "50 2.0\n",
      "100 3.0\n",
      "150 4.0\n",
      "200 4.0\n",
      "250 4.0\n",
      "300 4.0\n",
      "350 4.0\n",
      "400 4.0\n",
      "450 4.0\n"
     ]
    },
    {
     "name": "stderr",
     "output_type": "stream",
     "text": [
      "\r",
      " 67%|██████▋   | 67/100 [1:09:04<5:18:28, 579.05s/it]"
     ]
    },
    {
     "name": "stdout",
     "output_type": "stream",
     "text": [
      "4.0\n",
      "[3, 4, 15] [0, 1]\n",
      "[3, 5, 15] [0, 0]\n",
      "[2, 7, 15] [1, 1]\n",
      "[3, 4, 15] [1, 0]\n",
      "[7, 4, 15] [2, 1]\n",
      "[4, 5, 15] [1, 0]\n",
      "[6, 8, 15] [0, 0]\n",
      "4.0\n",
      "50 4.0\n",
      "100 4.0\n"
     ]
    },
    {
     "name": "stderr",
     "output_type": "stream",
     "text": [
      "\r",
      " 68%|██████▊   | 68/100 [1:09:40<3:41:58, 416.19s/it]"
     ]
    },
    {
     "name": "stdout",
     "output_type": "stream",
     "text": [
      "4.0\n",
      "[8, 5, 15] [2, 0]\n",
      "[6, 10, 15] [1, 2]\n",
      "[7, 3, 15] [2, 1]\n",
      "[8, 7, 15] [2, 0]\n",
      "[4, 8, 15] [2, 0]\n",
      "[5, 6, 15] [1, 0]\n",
      "[5, 4, 15] [1, 0]\n",
      "[8, 2, 15] [2, 1]\n",
      "[6, 7, 15] [0, 1]\n",
      "[5, 4, 15] [4, 2]\n",
      "[3, 1, 15] [1, 0]\n",
      "[5, 1, 15] [0, 3]\n",
      "6.0\n",
      "50 5.0\n",
      "100 6.0\n",
      "150 6.0\n",
      "200 6.0\n",
      "250 6.0\n",
      "300 6.0\n",
      "350 6.0\n"
     ]
    },
    {
     "name": "stderr",
     "output_type": "stream",
     "text": [
      "\r",
      " 69%|██████▉   | 69/100 [1:14:00<3:10:43, 369.14s/it]"
     ]
    },
    {
     "name": "stdout",
     "output_type": "stream",
     "text": [
      "6.0\n",
      "[5, 2, 15] [0, 3]\n",
      "(17, 18)\n",
      "[1, 6, 15] [1, 0]\n",
      "a must be greater than 0 unless no samples are taken\n",
      "[6, 5, 15] [2, 1]\n",
      "4.0\n"
     ]
    },
    {
     "name": "stderr",
     "output_type": "stream",
     "text": [
      "\r",
      " 70%|███████   | 70/100 [1:14:05<2:09:57, 259.93s/it]"
     ]
    },
    {
     "name": "stdout",
     "output_type": "stream",
     "text": [
      "4.0\n",
      "[0, 5, 15] [0, 0]\n",
      "a must be greater than 0 unless no samples are taken\n",
      "[4, 3, 15] [1, 1]\n",
      "[5, 2, 15] [0, 1]\n",
      "[6, 3, 15] [0, 2]\n",
      "[0, 4, 15] [0, 1]\n",
      "a must be greater than 0 unless no samples are taken\n",
      "[8, 6, 15] [0, 0]\n",
      "[5, 7, 15] [2, 1]\n",
      "[3, 6, 15] [0, 0]\n",
      "[0, 3, 15] [0, 2]\n",
      "a must be greater than 0 unless no samples are taken\n",
      "[5, 3, 15] [2, 1]\n",
      "[3, 5, 15] [1, 0]\n",
      "[5, 3, 15] [0, 2]\n",
      "[0, 3, 15] [0, 2]\n",
      "a must be greater than 0 unless no samples are taken\n",
      "[1, 5, 15] [1, 0]\n",
      "a must be greater than 0 unless no samples are taken\n",
      "[2, 7, 15] [1, 0]\n",
      "[6, 9, 15] [0, 1]\n",
      "[3, 4, 15] [0, 0]\n",
      "[3, 5, 15] [2, 0]\n",
      "[1, 6, 15] [0, 0]\n",
      "[6, 6, 15] [1, 1]\n",
      "[6, 8, 15] [1, 0]\n",
      "4.0\n",
      "50 4.0\n",
      "100 4.0\n",
      "150 4.0\n"
     ]
    },
    {
     "name": "stderr",
     "output_type": "stream",
     "text": [
      "\r",
      " 71%|███████   | 71/100 [1:17:39<1:58:58, 246.15s/it]"
     ]
    },
    {
     "name": "stdout",
     "output_type": "stream",
     "text": [
      "4.0\n",
      "[5, 4, 15] [0, 0]\n",
      "[5, 2, 15] [1, 0]\n",
      "[7, 1, 15] [0, 0]\n",
      "[7, 6, 15] [2, 0]\n",
      "[3, 6, 15] [0, 1]\n",
      "[3, 5, 15] [1, 0]\n",
      "[4, 5, 15] [2, 0]\n",
      "[2, 4, 15] [1, 2]\n",
      "[2, 5, 15] [2, 0]\n",
      "a must be greater than 0 unless no samples are taken\n",
      "[5, 3, 15] [0, 1]\n",
      "[3, 2, 15] [0, 0]\n",
      "[4, 5, 15] [0, 1]\n",
      "[1, 6, 15] [1, 5]\n",
      "a must be greater than 0 unless no samples are taken\n",
      "[5, 5, 15] [0, 0]\n",
      "[7, 4, 15] [1, 0]\n",
      "[7, 5, 15] [0, 0]\n",
      "[6, 3, 15] [0, 1]\n",
      "[3, 4, 15] [0, 0]\n",
      "[8, 5, 15] [0, 0]\n",
      "[5, 6, 15] [0, 1]\n",
      "4.0\n",
      "50 4.0\n",
      "100 4.0\n"
     ]
    },
    {
     "name": "stderr",
     "output_type": "stream",
     "text": [
      "\r",
      " 72%|███████▏  | 72/100 [1:18:47<1:29:59, 192.82s/it]"
     ]
    },
    {
     "name": "stdout",
     "output_type": "stream",
     "text": [
      "4.0\n",
      "[7, 5, 15] [0, 0]\n",
      "4.0\n",
      "50 4.0\n"
     ]
    },
    {
     "name": "stderr",
     "output_type": "stream",
     "text": [
      "\r",
      " 73%|███████▎  | 73/100 [1:19:08<1:03:32, 141.19s/it]"
     ]
    },
    {
     "name": "stdout",
     "output_type": "stream",
     "text": [
      "4.0\n",
      "[5, 3, 15] [2, 1]\n",
      "[2, 7, 15] [1, 1]\n",
      "[6, 6, 15] [0, 1]\n",
      "[8, 7, 15] [1, 1]\n",
      "[2, 4, 15] [0, 1]\n",
      "[4, 4, 15] [1, 0]\n",
      "[6, 2, 15] [0, 1]\n",
      "[6, 5, 15] [3, 0]\n",
      "[9, 4, 15] [1, 0]\n",
      "4.0\n",
      "50 4.0\n"
     ]
    },
    {
     "name": "stderr",
     "output_type": "stream",
     "text": [
      "\r",
      " 74%|███████▍  | 74/100 [1:19:22<44:36, 102.93s/it]  "
     ]
    },
    {
     "name": "stdout",
     "output_type": "stream",
     "text": [
      "4.0\n",
      "[6, 8, 15] [0, 1]\n",
      "[1, 1, 15] [0, 1]\n",
      "[4, 4, 15] [1, 0]\n",
      "[3, 2, 15] [1, 0]\n",
      "[4, 1, 15] [0, 0]\n",
      "[5, 3, 15] [0, 1]\n",
      "4.0\n"
     ]
    },
    {
     "name": "stderr",
     "output_type": "stream",
     "text": [
      "\r",
      " 75%|███████▌  | 75/100 [1:19:38<32:04, 76.98s/it] "
     ]
    },
    {
     "name": "stdout",
     "output_type": "stream",
     "text": [
      "4.0\n",
      "[3, 5, 15] [2, 2]\n",
      "[5, 5, 15] [1, 1]\n",
      "[6, 7, 15] [0, 1]\n",
      "[6, 2, 15] [0, 1]\n",
      "[5, 3, 15] [1, 0]\n",
      "[6, 1, 15] [0, 1]\n",
      "[8, 1, 15] [0, 0]\n",
      "[2, 3, 15] [0, 2]\n",
      "[5, 4, 15] [2, 1]\n",
      "[6, 6, 15] [1, 1]\n",
      "[4, 4, 15] [0, 0]\n",
      "[3, 5, 15] [0, 0]\n",
      "[4, 7, 15] [2, 3]\n",
      "[3, 5, 15] [0, 1]\n",
      "[5, 4, 15] [1, 0]\n",
      "4.0\n",
      "50 4.0\n"
     ]
    },
    {
     "name": "stderr",
     "output_type": "stream",
     "text": [
      "\r",
      " 76%|███████▌  | 76/100 [1:23:15<47:38, 119.09s/it]"
     ]
    },
    {
     "name": "stdout",
     "output_type": "stream",
     "text": [
      "4.0\n",
      "[5, 4, 15] [1, 1]\n",
      "[3, 5, 15] [1, 0]\n",
      "[4, 5, 15] [1, 2]\n",
      "[7, 3, 15] [0, 1]\n",
      "[2, 6, 15] [0, 0]\n",
      "[3, 5, 15] [0, 1]\n",
      "[7, 6, 15] [0, 2]\n",
      "[3, 5, 15] [0, 4]\n",
      "[3, 5, 15] [0, 1]\n",
      "[2, 4, 15] [1, 1]\n",
      "[4, 3, 15] [0, 1]\n",
      "[5, 1, 15] [0, 1]\n",
      "[5, 2, 15] [0, 1]\n",
      "[3, 0, 15] [0, 1]\n",
      "[6, 8, 15] [1, 1]\n",
      "[10, 8, 15] [1, 0]\n",
      "[4, 5, 15] [3, 2]\n",
      "[6, 7, 15] [0, 2]\n",
      "4.0\n",
      "50 4.0\n",
      "100 4.0\n"
     ]
    },
    {
     "name": "stderr",
     "output_type": "stream",
     "text": [
      "\r",
      " 77%|███████▋  | 77/100 [1:31:12<1:26:44, 226.26s/it]"
     ]
    },
    {
     "name": "stdout",
     "output_type": "stream",
     "text": [
      "4.0\n",
      "[9, 4, 15] [0, 1]\n",
      "[2, 5, 15] [0, 2]\n",
      "[6, 7, 15] [0, 1]\n",
      "[3, 6, 15] [0, 1]\n",
      "[4, 7, 15] [2, 2]\n",
      "[3, 7, 15] [1, 2]\n",
      "[4, 4, 15] [0, 1]\n",
      "[8, 6, 15] [2, 3]\n",
      "[3, 2, 15] [0, 0]\n",
      "[5, 4, 15] [0, 0]\n",
      "[3, 9, 15] [0, 0]\n",
      "4.0\n",
      "50 2.0\n",
      "100 3.0\n",
      "150 4.0\n",
      "200 4.0\n",
      "250 4.0\n",
      "300 4.0\n",
      "350 4.0\n",
      "400 4.0\n",
      "450 4.0\n"
     ]
    },
    {
     "name": "stderr",
     "output_type": "stream",
     "text": [
      "\r",
      " 78%|███████▊  | 78/100 [1:51:20<3:11:00, 520.94s/it]"
     ]
    },
    {
     "name": "stdout",
     "output_type": "stream",
     "text": [
      "4.0\n",
      "[6, 5, 15] [3, 0]\n",
      "[7, 4, 15] [0, 1]\n",
      "[4, 5, 15] [2, 1]\n",
      "[4, 3, 15] [2, 0]\n",
      "[7, 8, 15] [0, 0]\n",
      "[3, 5, 15] [1, 0]\n",
      "[5, 5, 15] [1, 0]\n",
      "[4, 6, 15] [1, 0]\n",
      "[4, 8, 15] [1, 0]\n",
      "4.0\n",
      "50 4.0\n"
     ]
    },
    {
     "name": "stderr",
     "output_type": "stream",
     "text": [
      "\r",
      " 79%|███████▉  | 79/100 [1:52:00<2:11:48, 376.59s/it]"
     ]
    },
    {
     "name": "stdout",
     "output_type": "stream",
     "text": [
      "4.0\n",
      "[6, 2, 15] [1, 0]\n",
      "[4, 8, 15] [0, 0]\n",
      "[2, 5, 15] [1, 0]\n",
      "[6, 4, 15] [1, 0]\n",
      "[5, 6, 15] [1, 1]\n",
      "[3, 2, 15] [1, 0]\n",
      "[0, 7, 15] [1, 1]\n",
      "a must be greater than 0 unless no samples are taken\n",
      "[7, 11, 15] [2, 1]\n",
      "[2, 4, 15] [1, 0]\n",
      "[8, 5, 15] [0, 1]\n",
      "[5, 4, 15] [1, 1]\n",
      "[5, 6, 15] [1, 1]\n",
      "5.0\n",
      "50 4.0\n",
      "100 5.0\n",
      "150 5.0\n",
      "200 5.0\n"
     ]
    },
    {
     "name": "stderr",
     "output_type": "stream",
     "text": [
      "\r",
      " 80%|████████  | 80/100 [1:55:08<1:46:41, 320.07s/it]"
     ]
    },
    {
     "name": "stdout",
     "output_type": "stream",
     "text": [
      "5.0\n",
      "[6, 7, 15] [2, 0]\n",
      "[4, 4, 15] [0, 2]\n",
      "[8, 4, 15] [1, 0]\n",
      "[4, 7, 15] [1, 1]\n",
      "[4, 4, 15] [1, 0]\n",
      "[7, 6, 15] [1, 1]\n",
      "6.0\n",
      "50 4.0\n",
      "100 5.0\n",
      "150 5.0\n",
      "200 5.0\n",
      "250 5.0\n",
      "300 6.0\n",
      "350 6.0\n"
     ]
    },
    {
     "name": "stderr",
     "output_type": "stream",
     "text": [
      "\r",
      " 81%|████████  | 81/100 [2:02:07<1:50:42, 349.60s/it]"
     ]
    },
    {
     "name": "stdout",
     "output_type": "stream",
     "text": [
      "6.0\n",
      "[5, 6, 15] [0, 0]\n",
      "[7, 6, 15] [1, 1]\n",
      "[4, 6, 15] [1, 0]\n",
      "[4, 5, 15] [0, 1]\n",
      "[6, 5, 15] [1, 0]\n",
      "[6, 5, 15] [1, 0]\n",
      "[2, 5, 15] [1, 2]\n",
      "[6, 2, 15] [0, 2]\n",
      "[0, 3, 15] [0, 0]\n",
      "a must be greater than 0 unless no samples are taken\n",
      "[7, 6, 15] [0, 1]\n",
      "[4, 5, 15] [2, 2]\n",
      "[4, 7, 15] [2, 1]\n",
      "[3, 5, 15] [0, 0]\n",
      "[3, 3, 15] [1, 3]\n",
      "[4, 6, 15] [2, 0]\n",
      "[6, 6, 15] [0, 0]\n",
      "[2, 2, 15] [2, 0]\n",
      "a must be greater than 0 unless no samples are taken\n",
      "[4, 5, 15] [0, 0]\n",
      "[4, 7, 15] [1, 0]\n",
      "[5, 2, 15] [1, 2]\n",
      "[8, 3, 15] [1, 1]\n",
      "[5, 1, 15] [0, 1]\n",
      "[4, 9, 15] [2, 0]\n",
      "[4, 8, 15] [0, 1]\n",
      "[8, 7, 15] [2, 0]\n",
      "[5, 1, 15] [1, 1]\n",
      "[3, 5, 15] [1, 0]\n",
      "[6, 1, 15] [1, 0]\n",
      "[6, 6, 15] [1, 1]\n",
      "[3, 4, 15] [0, 0]\n",
      "[5, 6, 15] [1, 1]\n",
      "[4, 4, 15] [1, 2]\n",
      "[5, 4, 15] [1, 0]\n",
      "[3, 4, 15] [0, 0]\n",
      "[8, 6, 15] [2, 1]\n",
      "[6, 2, 15] [1, 1]\n",
      "[7, 6, 15] [0, 0]\n",
      "[4, 1, 15] [0, 1]\n",
      "[5, 5, 15] [1, 0]\n",
      "[2, 4, 15] [0, 1]\n",
      "[5, 0, 15] [0, 1]\n",
      "[7, 1, 15] [0, 1]\n",
      "[1, 2, 15] [1, 1]\n",
      "a must be greater than 0 unless no samples are taken\n",
      "[5, 5, 15] [0, 0]\n",
      "[7, 10, 15] [1, 1]\n",
      "6.0\n",
      "50 3.0\n",
      "100 4.0\n",
      "150 4.0\n",
      "200 4.0\n",
      "250 4.0\n",
      "300 4.0\n",
      "350 4.0\n",
      "400 5.0\n",
      "450 5.0\n",
      "500 5.0\n",
      "550 5.0\n",
      "600 5.0\n",
      "650 5.0\n"
     ]
    },
    {
     "name": "stderr",
     "output_type": "stream",
     "text": [
      "\r",
      " 82%|████████▏ | 82/100 [2:22:42<3:04:33, 615.17s/it]"
     ]
    },
    {
     "name": "stdout",
     "output_type": "stream",
     "text": [
      "5.0\n",
      "[6, 6, 15] [2, 0]\n",
      "[6, 7, 15] [2, 1]\n",
      "[9, 3, 15] [0, 0]\n",
      "[8, 7, 15] [1, 0]\n",
      "[5, 5, 15] [3, 0]\n",
      "[4, 1, 15] [0, 0]\n",
      "[4, 5, 15] [3, 2]\n",
      "[3, 7, 15] [1, 1]\n",
      "[6, 4, 15] [0, 0]\n",
      "[5, 6, 15] [0, 1]\n",
      "[1, 5, 15] [1, 1]\n",
      "a must be greater than 0 unless no samples are taken\n",
      "[6, 3, 15] [0, 1]\n",
      "[5, 6, 15] [0, 0]\n",
      "[3, 5, 15] [1, 0]\n",
      "[7, 8, 15] [1, 0]\n",
      "[3, 6, 15] [0, 0]\n",
      "[0, 6, 15] [0, 2]\n",
      "a must be greater than 0 unless no samples are taken\n",
      "[1, 6, 15] [2, 0]\n",
      "a must be greater than 0 unless no samples are taken\n",
      "[3, 3, 15] [0, 0]\n",
      "[6, 9, 15] [0, 1]\n",
      "6.0\n",
      "50 4.0\n",
      "100 4.0\n",
      "150 5.0\n",
      "200 5.0\n",
      "250 5.0\n",
      "300 5.0\n",
      "350 5.0\n",
      "400 5.0\n",
      "450 5.0\n",
      "500 5.0\n",
      "550 6.0\n",
      "600 6.0\n"
     ]
    },
    {
     "name": "stderr",
     "output_type": "stream",
     "text": [
      "\r",
      " 83%|████████▎ | 83/100 [2:43:16<3:46:58, 801.07s/it]"
     ]
    },
    {
     "name": "stdout",
     "output_type": "stream",
     "text": [
      "6.0\n",
      "[7, 4, 15] [1, 0]\n",
      "[5, 1, 15] [0, 1]\n",
      "6.0\n",
      "50 4.0\n",
      "100 5.0\n",
      "150 5.0\n",
      "200 5.0\n",
      "250 5.0\n",
      "300 5.0\n",
      "350 5.0\n",
      "400 5.0\n",
      "450 5.0\n",
      "500 5.0\n",
      "550 5.0\n",
      "600 5.0\n",
      "650 5.0\n",
      "700 5.0\n"
     ]
    },
    {
     "name": "stderr",
     "output_type": "stream",
     "text": [
      "\r",
      " 84%|████████▍ | 84/100 [3:03:20<4:05:49, 921.86s/it]"
     ]
    },
    {
     "name": "stdout",
     "output_type": "stream",
     "text": [
      "5.0\n",
      "[4, 5, 15] [1, 1]\n",
      "[5, 6, 15] [3, 2]\n",
      "[3, 1, 15] [2, 0]\n",
      "[2, 8, 15] [1, 2]\n",
      "[4, 2, 15] [1, 1]\n",
      "[5, 7, 15] [0, 0]\n",
      "5.0\n",
      "50 2.0\n",
      "100 2.0\n",
      "150 3.0\n",
      "200 3.0\n",
      "250 4.0\n",
      "300 4.0\n",
      "350 4.0\n",
      "400 4.0\n",
      "450 4.0\n",
      "500 4.0\n"
     ]
    },
    {
     "name": "stderr",
     "output_type": "stream",
     "text": [
      "\r",
      " 85%|████████▌ | 85/100 [3:23:34<4:12:20, 1009.37s/it]"
     ]
    },
    {
     "name": "stdout",
     "output_type": "stream",
     "text": [
      "4.0\n",
      "[4, 2, 15] [1, 1]\n",
      "[3, 4, 15] [1, 1]\n",
      "[6, 4, 15] [0, 0]\n",
      "[4, 3, 15] [0, 0]\n",
      "[0, 4, 15] [0, 3]\n",
      "a must be greater than 0 unless no samples are taken\n",
      "[6, 3, 15] [0, 0]\n",
      "[1, 3, 15] [2, 2]\n",
      "a must be greater than 0 unless no samples are taken\n",
      "[4, 3, 15] [0, 0]\n",
      "[3, 7, 15] [2, 0]\n",
      "[3, 5, 15] [1, 0]\n",
      "[4, 6, 15] [1, 0]\n",
      "[4, 2, 15] [2, 1]\n",
      "[4, 4, 15] [0, 1]\n",
      "[6, 7, 15] [0, 1]\n",
      "6.0\n",
      "50 4.0\n",
      "100 4.0\n",
      "150 5.0\n",
      "200 5.0\n",
      "250 5.0\n",
      "300 5.0\n",
      "350 5.0\n",
      "400 5.0\n",
      "450 6.0\n",
      "500 6.0\n",
      "550 6.0\n",
      "600 6.0\n",
      "650 6.0\n"
     ]
    },
    {
     "name": "stderr",
     "output_type": "stream",
     "text": [
      "\r",
      " 86%|████████▌ | 86/100 [3:43:46<4:09:42, 1070.16s/it]"
     ]
    },
    {
     "name": "stdout",
     "output_type": "stream",
     "text": [
      "6.0\n",
      "[5, 3, 15] [0, 0]\n",
      "[5, 6, 15] [0, 1]\n",
      "[6, 3, 15] [2, 0]\n",
      "[4, 6, 15] [2, 1]\n",
      "[2, 3, 15] [1, 0]\n",
      "[2, 7, 15] [1, 1]\n",
      "[4, 5, 15] [2, 0]\n",
      "[0, 6, 15] [1, 0]\n",
      "a must be greater than 0 unless no samples are taken\n",
      "[3, 7, 15] [2, 2]\n",
      "[5, 6, 15] [1, 1]\n",
      "[4, 6, 15] [0, 1]\n",
      "[1, 2, 15] [0, 0]\n",
      "[1, 1, 15] [1, 1]\n",
      "a must be greater than 0 unless no samples are taken\n",
      "[4, 3, 15] [0, 0]\n",
      "[5, 5, 15] [1, 0]\n",
      "[3, 2, 15] [1, 1]\n",
      "[7, 5, 15] [1, 0]\n",
      "[6, 3, 15] [1, 1]\n",
      "[4, 8, 15] [1, 1]\n",
      "[4, 6, 15] [0, 0]\n",
      "[7, 5, 15] [1, 0]\n",
      "[3, 6, 15] [0, 0]\n",
      "[6, 5, 15] [0, 3]\n",
      "[7, 5, 15] [0, 2]\n",
      "[4, 6, 15] [0, 1]\n",
      "[5, 4, 15] [0, 0]\n",
      "[8, 10, 15] [1, 1]\n",
      "[4, 0, 15] [0, 0]\n",
      "[3, 6, 15] [1, 1]\n",
      "[7, 3, 15] [2, 2]\n",
      "[6, 3, 15] [0, 0]\n",
      "[7, 6, 15] [0, 1]\n",
      "6.0\n",
      "50 3.0\n",
      "100 4.0\n",
      "150 4.0\n",
      "200 4.0\n",
      "250 4.0\n",
      "300 5.0\n",
      "350 5.0\n",
      "400 5.0\n",
      "450 5.0\n",
      "500 5.0\n",
      "550 5.0\n",
      "600 5.0\n",
      "650 5.0\n",
      "700 5.0\n"
     ]
    },
    {
     "name": "stderr",
     "output_type": "stream",
     "text": [
      "\r",
      " 87%|████████▋ | 87/100 [4:04:59<4:05:06, 1131.26s/it]"
     ]
    },
    {
     "name": "stdout",
     "output_type": "stream",
     "text": [
      "5.0\n",
      "[8, 3, 15] [1, 3]\n",
      "[7, 7, 15] [0, 1]\n",
      "[6, 2, 15] [0, 0]\n",
      "[4, 7, 15] [0, 1]\n",
      "[8, 2, 15] [1, 0]\n",
      "[7, 7, 15] [0, 2]\n",
      "[7, 6, 15] [0, 2]\n",
      "[0, 3, 15] [2, 0]\n",
      "a must be greater than 0 unless no samples are taken\n",
      "[6, 6, 15] [0, 1]\n",
      "[4, 6, 15] [1, 0]\n",
      "[1, 4, 15] [0, 1]\n",
      "[4, 3, 15] [2, 0]\n",
      "[8, 8, 15] [2, 0]\n",
      "[1, 8, 15] [0, 1]\n",
      "[6, 6, 15] [0, 1]\n",
      "[5, 5, 15] [1, 1]\n",
      "[7, 3, 15] [1, 0]\n",
      "5.0\n",
      "50 4.0\n"
     ]
    },
    {
     "name": "stderr",
     "output_type": "stream",
     "text": [
      "\r",
      " 88%|████████▊ | 88/100 [4:05:33<2:40:24, 802.02s/it] "
     ]
    },
    {
     "name": "stdout",
     "output_type": "stream",
     "text": [
      "5.0\n",
      "[8, 2, 15] [0, 0]\n",
      "[4, 4, 15] [0, 1]\n",
      "[3, 1, 15] [0, 1]\n",
      "[4, 4, 15] [2, 1]\n",
      "[7, 8, 15] [0, 0]\n",
      "[5, 5, 15] [0, 2]\n",
      "[5, 8, 15] [0, 0]\n",
      "[3, 3, 15] [1, 1]\n",
      "[5, 2, 15] [0, 0]\n",
      "[3, 1, 15] [1, 0]\n",
      "[3, 2, 15] [2, 1]\n",
      "[5, 5, 15] [1, 0]\n",
      "[7, 5, 15] [1, 1]\n",
      "[4, 9, 15] [1, 0]\n",
      "[3, 6, 15] [2, 2]\n",
      "[6, 5, 15] [1, 2]\n",
      "[5, 7, 15] [2, 0]\n",
      "[4, 5, 15] [0, 2]\n",
      "[6, 9, 15] [0, 0]\n",
      "[7, 7, 15] [0, 2]\n",
      "[3, 5, 15] [1, 0]\n",
      "[8, 4, 15] [0, 1]\n",
      "[6, 3, 15] [0, 2]\n",
      "[4, 4, 15] [2, 1]\n",
      "[6, 5, 15] [1, 1]\n",
      "[4, 5, 15] [1, 1]\n",
      "[3, 5, 15] [0, 2]\n",
      "[3, 4, 15] [0, 0]\n",
      "[1, 6, 15] [0, 2]\n",
      "[4, 5, 15] [0, 1]\n",
      "[4, 5, 15] [1, 1]\n",
      "[4, 7, 15] [0, 0]\n",
      "5.0\n",
      "50 2.0\n",
      "100 3.0\n",
      "150 4.0\n",
      "200 4.0\n",
      "250 4.0\n",
      "300 4.0\n",
      "350 4.0\n",
      "400 4.0\n",
      "450 4.0\n",
      "500 4.0\n"
     ]
    },
    {
     "name": "stderr",
     "output_type": "stream",
     "text": [
      "\r",
      " 89%|████████▉ | 89/100 [4:26:00<2:50:25, 929.57s/it]"
     ]
    },
    {
     "name": "stdout",
     "output_type": "stream",
     "text": [
      "4.0\n",
      "[5, 5, 15] [0, 0]\n",
      "[2, 7, 15] [0, 0]\n",
      "[6, 5, 15] [1, 3]\n",
      "[5, 1, 15] [1, 2]\n",
      "[3, 5, 15] [0, 2]\n",
      "[3, 3, 15] [0, 2]\n",
      "[8, 5, 15] [1, 1]\n",
      "[2, 5, 15] [0, 2]\n",
      "[2, 6, 15] [0, 2]\n",
      "[4, 4, 15] [1, 1]\n",
      "[4, 6, 15] [0, 2]\n",
      "[4, 1, 15] [1, 1]\n",
      "[4, 8, 15] [0, 0]\n",
      "[3, 2, 15] [1, 2]\n",
      "[5, 3, 15] [0, 2]\n",
      "[4, 6, 15] [1, 2]\n",
      "[4, 7, 15] [0, 0]\n",
      "[6, 5, 15] [0, 1]\n",
      "[2, 6, 15] [3, 1]\n",
      "a must be greater than 0 unless no samples are taken\n",
      "[4, 6, 15] [2, 0]\n",
      "[9, 7, 15] [1, 1]\n",
      "[3, 5, 15] [0, 0]\n",
      "[3, 7, 15] [2, 0]\n",
      "[3, 4, 15] [0, 1]\n",
      "[3, 5, 15] [1, 1]\n",
      "[3, 7, 15] [2, 1]\n",
      "[3, 5, 15] [1, 1]\n",
      "[4, 6, 15] [0, 0]\n",
      "[7, 5, 15] [1, 0]\n",
      "[4, 2, 15] [0, 2]\n",
      "[4, 7, 15] [0, 1]\n",
      "[1, 8, 15] [1, 0]\n",
      "a must be greater than 0 unless no samples are taken\n",
      "[7, 5, 15] [0, 1]\n",
      "[3, 1, 15] [1, 0]\n",
      "[5, 6, 15] [0, 1]\n",
      "[4, 5, 15] [0, 0]\n",
      "[6, 3, 15] [1, 1]\n",
      "[10, 2, 15] [2, 1]\n",
      "[2, 5, 15] [0, 2]\n",
      "[7, 7, 15] [0, 2]\n",
      "[6, 5, 15] [0, 0]\n",
      "5.0\n",
      "50 2.0\n",
      "100 3.0\n",
      "150 3.0\n",
      "200 4.0\n",
      "250 4.0\n",
      "300 4.0\n",
      "350 4.0\n",
      "400 4.0\n",
      "450 4.0\n",
      "500 4.0\n",
      "550 4.0\n"
     ]
    },
    {
     "name": "stderr",
     "output_type": "stream",
     "text": [
      "\r",
      " 90%|█████████ | 90/100 [4:46:44<2:50:39, 1023.91s/it]"
     ]
    },
    {
     "name": "stdout",
     "output_type": "stream",
     "text": [
      "4.0\n",
      "[9, 3, 15] [2, 1]\n",
      "[5, 3, 15] [1, 0]\n",
      "[4, 6, 15] [2, 0]\n",
      "[3, 5, 15] [0, 1]\n",
      "[6, 5, 15] [1, 2]\n",
      "[4, 5, 15] [0, 1]\n",
      "[3, 2, 15] [0, 0]\n",
      "[4, 4, 15] [0, 2]\n",
      "[6, 6, 15] [0, 0]\n",
      "[6, 3, 15] [0, 0]\n",
      "[2, 6, 15] [1, 0]\n",
      "[6, 7, 15] [2, 1]\n",
      "[2, 6, 15] [0, 0]\n",
      "[4, 5, 15] [0, 0]\n",
      "[6, 3, 15] [0, 0]\n",
      "[3, 2, 15] [1, 1]\n",
      "[7, 5, 15] [2, 1]\n",
      "[4, 4, 15] [1, 1]\n",
      "[5, 5, 15] [0, 0]\n",
      "[5, 4, 15] [2, 1]\n",
      "[4, 3, 15] [0, 0]\n",
      "[5, 1, 15] [0, 0]\n",
      "[1, 5, 15] [0, 1]\n",
      "[3, 5, 15] [1, 1]\n",
      "[6, 5, 15] [2, 0]\n",
      "[6, 6, 15] [0, 0]\n",
      "[7, 5, 15] [1, 1]\n",
      "[4, 3, 15] [1, 1]\n",
      "[3, 1, 15] [0, 1]\n",
      "[7, 6, 15] [0, 0]\n",
      "[3, 4, 15] [2, 0]\n",
      "[7, 2, 15] [1, 1]\n",
      "[3, 3, 15] [0, 1]\n",
      "[10, 6, 15] [0, 1]\n",
      "[7, 5, 15] [1, 1]\n",
      "[5, 5, 15] [2, 0]\n",
      "[3, 5, 15] [1, 1]\n",
      "[1, 4, 15] [0, 1]\n",
      "[8, 7, 15] [0, 0]\n",
      "[3, 2, 15] [2, 3]\n",
      "(13, 14)\n",
      "[6, 2, 15] [2, 1]\n",
      "[4, 5, 15] [1, 0]\n",
      "[1, 7, 15] [0, 1]\n",
      "[4, 4, 15] [0, 1]\n",
      "[7, 0, 15] [0, 1]\n",
      "6.0\n",
      "50 3.0\n",
      "100 4.0\n",
      "150 5.0\n",
      "200 5.0\n",
      "250 5.0\n",
      "300 5.0\n",
      "350 5.0\n",
      "400 5.0\n",
      "450 5.0\n",
      "500 5.0\n",
      "550 5.0\n",
      "600 5.0\n"
     ]
    },
    {
     "name": "stderr",
     "output_type": "stream",
     "text": [
      "\r",
      " 91%|█████████ | 91/100 [5:08:57<2:47:28, 1116.52s/it]"
     ]
    },
    {
     "name": "stdout",
     "output_type": "stream",
     "text": [
      "5.0\n",
      "[4, 5, 15] [1, 0]\n",
      "[4, 7, 15] [2, 1]\n",
      "[8, 6, 15] [1, 1]\n",
      "[5, 5, 15] [0, 1]\n",
      "[3, 7, 15] [1, 3]\n",
      "[7, 3, 15] [1, 1]\n",
      "[5, 7, 15] [2, 1]\n",
      "[3, 8, 15] [0, 0]\n",
      "[4, 8, 15] [1, 0]\n",
      "[2, 4, 15] [2, 1]\n",
      "a must be greater than 0 unless no samples are taken\n",
      "[9, 3, 15] [1, 1]\n",
      "[5, 4, 15] [2, 1]\n",
      "[6, 7, 15] [1, 2]\n",
      "[8, 1, 15] [0, 2]\n",
      "[6, 3, 15] [3, 1]\n",
      "[4, 2, 15] [0, 3]\n",
      "(16, 17)\n",
      "[4, 6, 15] [1, 1]\n",
      "[6, 0, 15] [0, 1]\n",
      "[5, 1, 15] [0, 0]\n",
      "[3, 7, 15] [1, 0]\n",
      "[3, 2, 15] [2, 2]\n",
      "[4, 3, 15] [0, 1]\n",
      "[3, 7, 15] [2, 1]\n",
      "[6, 6, 15] [0, 1]\n",
      "[2, 2, 15] [0, 0]\n",
      "[2, 4, 15] [1, 1]\n",
      "[3, 1, 15] [0, 0]\n",
      "[4, 5, 15] [0, 0]\n",
      "[4, 6, 15] [0, 1]\n",
      "[4, 4, 15] [0, 2]\n",
      "[4, 2, 15] [1, 0]\n",
      "[3, 1, 15] [0, 1]\n",
      "[5, 3, 15] [1, 1]\n",
      "[4, 0, 15] [3, 1]\n",
      "[4, 4, 15] [0, 1]\n",
      "[5, 5, 15] [0, 1]\n",
      "[4, 6, 15] [0, 2]\n",
      "[5, 4, 15] [1, 0]\n",
      "[7, 4, 15] [0, 2]\n",
      "[3, 4, 15] [0, 0]\n",
      "[4, 4, 15] [2, 1]\n",
      "[5, 2, 15] [1, 0]\n",
      "[1, 1, 15] [1, 1]\n",
      "a must be greater than 0 unless no samples are taken\n",
      "[2, 4, 15] [1, 1]\n",
      "[2, 3, 15] [3, 0]\n",
      "a must be greater than 0 unless no samples are taken\n",
      "[2, 6, 15] [0, 1]\n",
      "[7, 0, 15] [1, 2]\n",
      "[7, 5, 15] [0, 0]\n",
      "[6, 3, 15] [0, 1]\n",
      "[4, 4, 15] [2, 0]\n",
      "[5, 3, 15] [0, 2]\n",
      "[6, 1, 15] [0, 0]\n",
      "[4, 2, 15] [0, 0]\n",
      "[6, 6, 15] [0, 1]\n",
      "[9, 5, 15] [1, 1]\n",
      "[6, 7, 15] [1, 1]\n",
      "[1, 2, 15] [0, 1]\n",
      "[5, 7, 15] [1, 1]\n",
      "[5, 6, 15] [1, 0]\n",
      "[5, 0, 15] [1, 1]\n",
      "[6, 5, 15] [0, 0]\n",
      "[3, 4, 15] [0, 1]\n",
      "[5, 5, 15] [0, 1]\n",
      "[2, 1, 15] [0, 0]\n",
      "[5, 3, 15] [2, 1]\n",
      "[1, 5, 15] [0, 2]\n",
      "[5, 5, 15] [2, 1]\n",
      "[5, 5, 15] [2, 1]\n",
      "[3, 3, 15] [1, 1]\n",
      "[2, 3, 15] [2, 1]\n",
      "a must be greater than 0 unless no samples are taken\n",
      "[4, 6, 15] [0, 1]\n",
      "[3, 8, 15] [0, 0]\n",
      "[4, 6, 15] [4, 1]\n",
      "a must be greater than 0 unless no samples are taken\n",
      "[3, 2, 15] [3, 0]\n",
      "a must be greater than 0 unless no samples are taken\n",
      "[2, 4, 15] [1, 1]\n",
      "[4, 5, 15] [0, 1]\n",
      "[4, 3, 15] [1, 0]\n",
      "[5, 5, 15] [0, 0]\n",
      "[3, 0, 15] [2, 0]\n",
      "[5, 4, 15] [1, 0]\n",
      "[5, 5, 15] [1, 0]\n",
      "[5, 3, 15] [3, 2]\n",
      "[6, 7, 15] [0, 0]\n",
      "[1, 6, 15] [1, 2]\n",
      "a must be greater than 0 unless no samples are taken\n",
      "[7, 6, 15] [1, 0]\n",
      "[5, 8, 15] [0, 0]\n",
      "[6, 4, 15] [0, 0]\n",
      "[4, 6, 15] [1, 1]\n",
      "[2, 3, 15] [1, 1]\n",
      "[8, 7, 15] [1, 1]\n",
      "[3, 2, 15] [1, 2]\n",
      "[6, 5, 15] [0, 0]\n",
      "[5, 4, 15] [0, 1]\n",
      "[3, 7, 15] [0, 1]\n",
      "[8, 5, 15] [1, 0]\n",
      "[3, 3, 15] [1, 1]\n",
      "[5, 8, 15] [0, 1]\n",
      "[5, 4, 15] [2, 0]\n",
      "[5, 7, 15] [1, 0]\n",
      "[4, 5, 15] [0, 2]\n",
      "[3, 3, 15] [0, 0]\n",
      "[3, 3, 15] [0, 2]\n",
      "[6, 2, 15] [0, 0]\n",
      "[2, 5, 15] [0, 1]\n",
      "[4, 6, 15] [0, 0]\n",
      "[2, 5, 15] [0, 1]\n",
      "[5, 2, 15] [0, 1]\n",
      "[2, 0, 15] [2, 1]\n",
      "a must be greater than 0 unless no samples are taken\n",
      "[1, 5, 15] [1, 1]\n",
      "a must be greater than 0 unless no samples are taken\n",
      "[4, 3, 15] [1, 0]\n",
      "[6, 6, 15] [2, 0]\n",
      "[4, 8, 15] [1, 1]\n",
      "[3, 2, 15] [2, 1]\n",
      "[2, 3, 15] [0, 0]\n",
      "[7, 5, 15] [1, 1]\n",
      "6.0\n",
      "50 4.0\n",
      "100 4.0\n",
      "150 5.0\n",
      "200 5.0\n",
      "250 5.0\n",
      "300 5.0\n",
      "350 5.0\n",
      "400 6.0\n"
     ]
    },
    {
     "name": "stderr",
     "output_type": "stream",
     "text": [
      "\r",
      " 92%|█████████▏| 92/100 [5:18:22<2:06:47, 950.90s/it] "
     ]
    },
    {
     "name": "stdout",
     "output_type": "stream",
     "text": [
      "6.0\n",
      "[3, 2, 15] [0, 3]\n",
      "(15, 16)\n",
      "[8, 7, 15] [0, 1]\n",
      "6.0\n",
      "50 3.0\n",
      "100 4.0\n",
      "150 4.0\n",
      "200 4.0\n",
      "250 4.0\n",
      "300 4.0\n",
      "350 5.0\n"
     ]
    },
    {
     "name": "stderr",
     "output_type": "stream",
     "text": [
      "\r",
      " 93%|█████████▎| 93/100 [5:38:29<1:59:54, 1027.76s/it]"
     ]
    },
    {
     "name": "stdout",
     "output_type": "stream",
     "text": [
      "5.0\n",
      "[6, 5, 15] [2, 0]\n",
      "[4, 3, 15] [0, 1]\n",
      "[4, 2, 15] [1, 0]\n",
      "[5, 4, 15] [0, 1]\n",
      "[5, 5, 15] [0, 1]\n",
      "[1, 6, 15] [1, 0]\n",
      "a must be greater than 0 unless no samples are taken\n",
      "[6, 2, 15] [0, 1]\n",
      "[3, 4, 15] [0, 2]\n",
      "[3, 6, 15] [1, 0]\n",
      "[2, 2, 15] [0, 1]\n",
      "[7, 6, 15] [0, 0]\n",
      "[6, 6, 15] [1, 0]\n",
      "[3, 8, 15] [0, 0]\n",
      "[4, 3, 15] [1, 0]\n",
      "[5, 8, 15] [1, 0]\n",
      "[6, 5, 15] [2, 1]\n",
      "[5, 4, 15] [1, 1]\n",
      "[3, 5, 15] [2, 0]\n",
      "[0, 3, 15] [0, 1]\n",
      "a must be greater than 0 unless no samples are taken\n",
      "[3, 2, 15] [2, 0]\n",
      "[8, 4, 15] [2, 2]\n",
      "[5, 5, 15] [0, 1]\n",
      "[4, 9, 15] [1, 0]\n",
      "[4, 4, 15] [0, 1]\n",
      "5.0\n",
      "50 2.0\n",
      "100 3.0\n",
      "150 4.0\n",
      "200 4.0\n",
      "250 4.0\n",
      "300 4.0\n",
      "350 4.0\n",
      "400 4.0\n",
      "450 4.0\n",
      "500 4.0\n",
      "550 4.0\n"
     ]
    },
    {
     "name": "stderr",
     "output_type": "stream",
     "text": [
      "\r",
      " 94%|█████████▍| 94/100 [5:58:48<1:48:30, 1085.08s/it]"
     ]
    },
    {
     "name": "stdout",
     "output_type": "stream",
     "text": [
      "4.0\n",
      "[3, 5, 15] [1, 0]\n",
      "[3, 6, 15] [1, 0]\n",
      "[3, 7, 15] [1, 2]\n",
      "[1, 4, 15] [0, 0]\n",
      "[4, 6, 15] [0, 0]\n",
      "[5, 4, 15] [0, 2]\n",
      "[7, 2, 15] [2, 3]\n",
      "(17, 18)\n",
      "[0, 6, 15] [1, 1]\n",
      "a must be greater than 0 unless no samples are taken\n",
      "[4, 1, 15] [0, 0]\n",
      "[5, 5, 15] [1, 1]\n",
      "[6, 6, 15] [1, 0]\n",
      "[5, 4, 15] [0, 1]\n",
      "[2, 4, 15] [1, 1]\n",
      "[7, 5, 15] [2, 2]\n",
      "[6, 4, 15] [0, 1]\n",
      "[4, 4, 15] [2, 0]\n",
      "[6, 4, 15] [0, 3]\n",
      "[5, 4, 15] [1, 0]\n",
      "[5, 2, 15] [0, 2]\n",
      "[6, 5, 15] [1, 0]\n",
      "[2, 4, 15] [0, 0]\n",
      "[8, 3, 15] [0, 0]\n",
      "5.0\n",
      "50 5.0\n"
     ]
    },
    {
     "name": "stderr",
     "output_type": "stream",
     "text": [
      "\r",
      " 95%|█████████▌| 95/100 [5:59:28<1:04:18, 771.72s/it] "
     ]
    },
    {
     "name": "stdout",
     "output_type": "stream",
     "text": [
      "5.0\n",
      "[5, 5, 15] [0, 0]\n",
      "[7, 5, 15] [1, 2]\n",
      "[7, 4, 15] [2, 1]\n",
      "[7, 8, 15] [2, 1]\n",
      "[3, 4, 15] [0, 1]\n",
      "[4, 2, 15] [1, 0]\n",
      "[6, 1, 15] [1, 0]\n",
      "[6, 4, 15] [1, 1]\n",
      "[5, 2, 15] [0, 1]\n",
      "[4, 4, 15] [1, 0]\n",
      "[4, 2, 15] [1, 0]\n",
      "[6, 4, 15] [0, 0]\n",
      "[8, 3, 15] [1, 1]\n",
      "[6, 5, 15] [0, 0]\n",
      "[0, 5, 15] [0, 2]\n",
      "a must be greater than 0 unless no samples are taken\n",
      "[4, 4, 15] [0, 0]\n",
      "[6, 3, 15] [0, 3]\n",
      "[3, 9, 15] [2, 0]\n",
      "[9, 1, 15] [1, 0]\n",
      "[8, 3, 15] [0, 2]\n",
      "[7, 8, 15] [1, 0]\n",
      "[4, 4, 15] [1, 0]\n",
      "[1, 5, 15] [0, 0]\n",
      "[5, 4, 15] [0, 2]\n",
      "[0, 6, 15] [0, 1]\n",
      "a must be greater than 0 unless no samples are taken\n",
      "[2, 6, 15] [0, 0]\n",
      "[6, 2, 15] [1, 0]\n",
      "[1, 4, 15] [1, 0]\n",
      "a must be greater than 0 unless no samples are taken\n",
      "[5, 6, 15] [0, 2]\n",
      "[5, 6, 15] [1, 1]\n",
      "[5, 3, 15] [0, 2]\n",
      "[3, 7, 15] [0, 1]\n",
      "[6, 4, 15] [1, 2]\n",
      "[4, 6, 15] [1, 1]\n",
      "[1, 3, 15] [3, 0]\n",
      "a must be greater than 0 unless no samples are taken\n",
      "[5, 5, 15] [1, 1]\n",
      "[7, 7, 15] [3, 1]\n",
      "[6, 5, 15] [2, 0]\n",
      "[3, 1, 15] [1, 0]\n",
      "[7, 7, 15] [0, 1]\n",
      "[4, 4, 15] [0, 2]\n",
      "[5, 3, 15] [1, 1]\n",
      "[5, 7, 15] [2, 1]\n",
      "[2, 6, 15] [0, 1]\n",
      "[5, 2, 15] [0, 1]\n",
      "[3, 8, 15] [1, 1]\n",
      "[4, 10, 15] [0, 1]\n",
      "[4, 6, 15] [2, 0]\n",
      "[4, 3, 15] [1, 0]\n",
      "[3, 8, 15] [0, 0]\n",
      "[4, 4, 15] [0, 1]\n",
      "[4, 5, 15] [1, 0]\n",
      "[3, 5, 15] [0, 0]\n",
      "[5, 3, 15] [1, 2]\n",
      "[4, 3, 15] [0, 0]\n",
      "[6, 3, 15] [1, 1]\n",
      "[3, 3, 15] [1, 1]\n",
      "[3, 5, 15] [0, 2]\n",
      "[4, 3, 15] [2, 0]\n",
      "[5, 5, 15] [1, 1]\n",
      "[5, 2, 15] [1, 1]\n",
      "[5, 8, 15] [0, 0]\n",
      "[4, 4, 15] [1, 2]\n",
      "[4, 3, 15] [1, 0]\n",
      "[1, 5, 15] [0, 1]\n",
      "[5, 2, 15] [0, 0]\n",
      "[2, 6, 15] [1, 1]\n",
      "[6, 3, 15] [1, 0]\n",
      "[4, 3, 15] [0, 0]\n",
      "[3, 3, 15] [0, 0]\n",
      "[5, 7, 15] [0, 1]\n",
      "[7, 5, 15] [0, 0]\n",
      "[8, 3, 15] [1, 0]\n",
      "[2, 7, 15] [2, 0]\n",
      "a must be greater than 0 unless no samples are taken\n",
      "[5, 6, 15] [0, 0]\n",
      "[3, 5, 15] [0, 0]\n",
      "[6, 5, 15] [0, 0]\n",
      "[6, 5, 15] [0, 0]\n",
      "[6, 5, 15] [1, 0]\n",
      "[7, 5, 15] [0, 0]\n",
      "[4, 3, 15] [0, 1]\n",
      "[4, 8, 15] [1, 0]\n",
      "[5, 6, 15] [1, 0]\n",
      "[4, 9, 15] [0, 1]\n",
      "[7, 7, 15] [1, 2]\n",
      "[5, 3, 15] [0, 1]\n",
      "[6, 5, 15] [2, 2]\n",
      "[5, 8, 15] [0, 1]\n",
      "6.0\n",
      "50 4.0\n",
      "100 4.0\n",
      "150 5.0\n",
      "200 5.0\n",
      "250 5.0\n",
      "300 5.0\n",
      "350 5.0\n",
      "400 6.0\n",
      "450 6.0\n",
      "500 6.0\n",
      "550 6.0\n"
     ]
    },
    {
     "name": "stderr",
     "output_type": "stream",
     "text": [
      "\r",
      " 96%|█████████▌| 96/100 [6:17:56<58:10, 872.69s/it]  "
     ]
    },
    {
     "name": "stdout",
     "output_type": "stream",
     "text": [
      "6.0\n",
      "[6, 8, 15] [0, 0]\n",
      "[3, 3, 15] [2, 0]\n",
      "[5, 5, 15] [2, 1]\n",
      "[5, 7, 15] [1, 2]\n",
      "[5, 3, 15] [0, 0]\n",
      "[2, 5, 15] [2, 1]\n",
      "a must be greater than 0 unless no samples are taken\n",
      "[2, 8, 15] [0, 0]\n",
      "[4, 7, 15] [0, 0]\n",
      "[8, 3, 15] [0, 0]\n",
      "[7, 6, 15] [1, 0]\n",
      "5.0\n",
      "50 4.0\n",
      "100 4.0\n",
      "150 5.0\n",
      "200 5.0\n",
      "250 5.0\n"
     ]
    },
    {
     "name": "stderr",
     "output_type": "stream",
     "text": [
      "\r",
      " 97%|█████████▋| 97/100 [6:20:47<33:06, 662.19s/it]"
     ]
    },
    {
     "name": "stdout",
     "output_type": "stream",
     "text": [
      "5.0\n",
      "[5, 1, 15] [0, 1]\n",
      "[5, 7, 15] [0, 1]\n",
      "5.0\n",
      "50 2.0\n",
      "100 3.0\n",
      "150 4.0\n",
      "200 4.0\n",
      "250 4.0\n",
      "300 4.0\n",
      "350 4.0\n",
      "400 4.0\n",
      "450 4.0\n",
      "500 4.0\n"
     ]
    },
    {
     "name": "stderr",
     "output_type": "stream",
     "text": [
      "\r",
      " 98%|█████████▊| 98/100 [6:40:54<27:30, 825.48s/it]"
     ]
    },
    {
     "name": "stdout",
     "output_type": "stream",
     "text": [
      "4.0\n",
      "[6, 4, 15] [0, 0]\n",
      "[4, 3, 15] [0, 2]\n",
      "[4, 4, 15] [2, 1]\n",
      "[5, 5, 15] [2, 1]\n",
      "[6, 5, 15] [1, 0]\n",
      "[4, 4, 15] [0, 0]\n",
      "[4, 0, 15] [1, 0]\n",
      "[3, 4, 15] [1, 0]\n",
      "[5, 4, 15] [2, 0]\n",
      "[1, 2, 15] [2, 2]\n",
      "a must be greater than 0 unless no samples are taken\n",
      "[8, 10, 15] [1, 0]\n",
      "[6, 7, 15] [1, 2]\n",
      "[7, 3, 15] [0, 0]\n",
      "[7, 6, 15] [0, 2]\n",
      "[5, 6, 15] [0, 0]\n",
      "[2, 4, 15] [0, 1]\n",
      "[5, 7, 15] [0, 1]\n",
      "[6, 3, 15] [2, 0]\n",
      "[6, 3, 15] [0, 0]\n",
      "[6, 3, 15] [1, 0]\n",
      "[5, 6, 15] [0, 3]\n",
      "[6, 3, 15] [1, 0]\n",
      "[4, 6, 15] [0, 0]\n",
      "[5, 9, 15] [1, 0]\n",
      "[2, 3, 15] [2, 1]\n",
      "a must be greater than 0 unless no samples are taken\n",
      "[4, 4, 15] [0, 0]\n",
      "[3, 4, 15] [2, 0]\n",
      "[6, 1, 15] [0, 0]\n",
      "[8, 1, 15] [1, 1]\n",
      "[6, 3, 15] [2, 0]\n",
      "[6, 3, 15] [2, 0]\n",
      "[7, 6, 15] [1, 1]\n",
      "[4, 5, 15] [2, 2]\n",
      "[4, 5, 15] [1, 2]\n",
      "[6, 4, 15] [1, 0]\n",
      "[3, 7, 15] [1, 0]\n",
      "[6, 5, 15] [0, 0]\n",
      "[4, 3, 15] [0, 1]\n",
      "[4, 2, 15] [0, 2]\n",
      "[6, 4, 15] [1, 3]\n",
      "[4, 5, 15] [0, 1]\n",
      "[5, 4, 15] [1, 0]\n",
      "[5, 3, 15] [3, 2]\n",
      "[4, 4, 15] [0, 1]\n",
      "[8, 3, 15] [1, 1]\n",
      "[4, 7, 15] [1, 1]\n",
      "[7, 7, 15] [2, 1]\n",
      "[6, 5, 15] [0, 1]\n",
      "[3, 2, 15] [0, 3]\n",
      "(15, 16)\n",
      "[2, 4, 15] [0, 1]\n",
      "[2, 1, 15] [1, 1]\n",
      "[5, 1, 15] [1, 0]\n",
      "[3, 5, 15] [1, 0]\n",
      "[3, 5, 15] [0, 0]\n",
      "[8, 2, 15] [1, 0]\n",
      "[6, 3, 15] [1, 0]\n",
      "[6, 6, 15] [2, 2]\n",
      "[4, 8, 15] [1, 0]\n",
      "[4, 7, 15] [0, 1]\n",
      "[5, 5, 15] [1, 0]\n",
      "[5, 3, 15] [0, 0]\n",
      "[3, 7, 15] [0, 0]\n",
      "[5, 4, 15] [0, 0]\n",
      "[7, 7, 15] [0, 1]\n",
      "[5, 6, 15] [1, 0]\n",
      "[5, 10, 15] [1, 4]\n",
      "[2, 1, 15] [3, 1]\n",
      "a must be greater than 0 unless no samples are taken\n",
      "[0, 4, 15] [1, 0]\n",
      "a must be greater than 0 unless no samples are taken\n",
      "[3, 5, 15] [2, 1]\n",
      "[4, 2, 15] [0, 2]\n",
      "[5, 5, 15] [0, 1]\n",
      "[0, 5, 15] [1, 0]\n",
      "a must be greater than 0 unless no samples are taken\n",
      "[2, 2, 15] [0, 1]\n",
      "[1, 5, 15] [1, 1]\n",
      "a must be greater than 0 unless no samples are taken\n",
      "[5, 6, 15] [1, 1]\n",
      "[3, 2, 15] [1, 0]\n",
      "[2, 4, 15] [2, 1]\n",
      "a must be greater than 0 unless no samples are taken\n",
      "[3, 0, 15] [0, 0]\n",
      "[3, 2, 15] [1, 1]\n",
      "[1, 6, 15] [0, 1]\n",
      "[2, 2, 15] [1, 0]\n",
      "[5, 6, 15] [0, 1]\n",
      "[6, 5, 15] [0, 0]\n",
      "[7, 4, 15] [0, 0]\n",
      "[3, 6, 15] [1, 0]\n",
      "[2, 6, 15] [0, 0]\n",
      "[2, 6, 15] [1, 1]\n",
      "[3, 8, 15] [1, 1]\n",
      "[6, 3, 15] [0, 0]\n",
      "[7, 3, 15] [0, 1]\n",
      "[3, 5, 15] [0, 2]\n",
      "[3, 5, 15] [0, 0]\n",
      "[8, 3, 15] [0, 0]\n",
      "[6, 4, 15] [0, 0]\n",
      "[6, 5, 15] [2, 1]\n",
      "[2, 6, 15] [2, 0]\n",
      "a must be greater than 0 unless no samples are taken\n",
      "[3, 4, 15] [0, 0]\n",
      "[2, 7, 15] [1, 1]\n",
      "[6, 3, 15] [0, 2]\n",
      "[5, 1, 15] [1, 0]\n",
      "[4, 2, 15] [0, 1]\n",
      "[3, 5, 15] [0, 1]\n",
      "[5, 2, 15] [1, 1]\n",
      "[3, 5, 15] [0, 2]\n",
      "[10, 8, 15] [1, 1]\n",
      "6.0\n",
      "50 4.0\n",
      "100 4.0\n",
      "150 5.0\n",
      "200 5.0\n",
      "250 5.0\n",
      "300 5.0\n",
      "350 5.0\n",
      "400 5.0\n",
      "450 5.0\n",
      "500 5.0\n",
      "550 5.0\n"
     ]
    },
    {
     "name": "stderr",
     "output_type": "stream",
     "text": [
      "\r",
      " 99%|█████████▉| 99/100 [7:06:43<17:22, 1042.73s/it]"
     ]
    },
    {
     "name": "stdout",
     "output_type": "stream",
     "text": [
      "5.0\n",
      "[5, 6, 15] [1, 0]\n",
      "[3, 5, 15] [1, 1]\n",
      "[5, 4, 15] [1, 1]\n",
      "[2, 5, 15] [1, 0]\n",
      "[6, 4, 15] [0, 1]\n",
      "[4, 3, 15] [0, 2]\n",
      "[9, 5, 15] [0, 0]\n",
      "[2, 4, 15] [2, 1]\n",
      "a must be greater than 0 unless no samples are taken\n",
      "[4, 4, 15] [1, 1]\n",
      "[5, 4, 15] [0, 1]\n",
      "[5, 5, 15] [0, 1]\n",
      "5.0\n",
      "50 2.0\n",
      "100 3.0\n",
      "150 4.0\n",
      "200 4.0\n",
      "250 4.0\n",
      "300 4.0\n",
      "350 4.0\n",
      "400 4.0\n",
      "450 4.0\n",
      "500 4.0\n"
     ]
    },
    {
     "name": "stderr",
     "output_type": "stream",
     "text": [
      "100%|██████████| 100/100 [7:26:52<00:00, 268.12s/it] "
     ]
    },
    {
     "name": "stdout",
     "output_type": "stream",
     "text": [
      "4.0\n"
     ]
    },
    {
     "name": "stderr",
     "output_type": "stream",
     "text": [
      "\n"
     ]
    }
   ],
   "source": [
    "from GTED_1 import *\n",
    "from tqdm import tqdm\n",
    "\n",
    "gp.setParam(\"OutputFlag\", 0)\n",
    "gp.setParam(\"LogToConsole\", 0)\n",
    "gp.setParam(\"Seed\", 6)\n",
    "out_dict = defaultdict(list)\n",
    "\n",
    "for fii in tqdm(range(100)):\n",
    "    \n",
    "    while True:\n",
    "\n",
    "        try:\n",
    "            overlap_space_idx1,overlap_space_idx2, overlaps, lengths, seqs, overlap_strings,middle_string1=0,0,0,0,0,0,\"\"\n",
    "\n",
    "            while(middle_string1 == \"\"):\n",
    "                try:\n",
    "                    lengths = [int(normal(len_mean, 2)) for i in range(num_cycles)]\n",
    "                    lengths[-1] = 15\n",
    "                    overlaps = [abs(int(normal(overlap_mean, 1))) for i in range(num_cycles-1)]\n",
    "                    print(lengths, overlaps)\n",
    "\n",
    "                    seqs = [simulate_seq(lengths[i]) for i in range(num_cycles-1)]\n",
    "\n",
    "                    overlap_space_idx1 = sorted([np.random.choice(lengths[i]-overlaps[i]) for i in range(num_cycles-2)])\n",
    "                    overlap_space_idx2 = sorted([np.random.choice(lengths[i]-overlaps[i]) for i in range(num_cycles-2)])\n",
    "                    overlap_strings = [seqs[i][len(seqs[i]) - overlaps[i]:] for i in range(num_cycles-1)]\n",
    "\n",
    "                    middle_string1 = \"\"\n",
    "                    for i in range(num_cycles-2):\n",
    "                        middle_string1 += overlap_strings[i] + simulate_seq(overlap_space_idx1[i])\n",
    "                    middle_string1 += overlap_strings[-1] + simulate_seq(max(lengths[-1]-sum(overlaps)-sum(overlap_space_idx1), 3))\n",
    "                except Exception as e:\n",
    "                    print(e)\n",
    "\n",
    "            g1 = simulate_mickymouse_graph(overlap_space_idx1, overlaps, lengths, seqs, overlap_strings,middle_string1)\n",
    "            g2 = simulate_mickymouse_graph(overlap_space_idx2, overlaps, lengths, seqs, overlap_strings,middle_string1)\n",
    "\n",
    "            ag = Alignment_Graph(g1, g2)\n",
    "\n",
    "\n",
    "            t0 = time.time()\n",
    "            model1 = CCTED_ilp(ag, g1, g2, \"test.lp\", True)\n",
    "            ccted = model1.getObjective().getValue()\n",
    "\n",
    "            ccted_time = time.time() - t0\n",
    "            \n",
    "            t0 = time.time()\n",
    "            model2 = GTED_ilp(ag, g1, g2, \"test.lp\", True)\n",
    "            gted = model2.getObjective().getValue()\n",
    "            \n",
    "            if  gted - ccted == (fii// 20 + 1):\n",
    "                print(model2.getObjective().getValue())\n",
    "                out_dict[\"gted2\"].append(gted)\n",
    "                out_dict[\"time_gted_compact\"].append(time.time() - t0)\n",
    "\n",
    "                out_dict[\"ccted\"].append(ccted)\n",
    "                out_dict[\"time_ccted\"].append(ccted_time)\n",
    "                break\n",
    "                \n",
    "        except Exception as e:\n",
    "            print(e)\n",
    "\n",
    "    g1.to_gfa_multi(\"data/3cycle_1_%i.gfa\" % fii)\n",
    "    g2.to_gfa_multi(\"data/3cycle_2_%i.gfa\" % fii)\n",
    "    ag = Alignment_Graph(g1, g2)\n",
    "\n",
    "    t0 = time.time()\n",
    "    num_it = 1\n",
    "    model1 = CCTED_ilp(ag, g1, g2, \"test.lp\", True)\n",
    "    \n",
    "    while True:\n",
    "        model1,subgraph1 = update_scc_constr(ag,model1)\n",
    "        if subgraph1 == -1:\n",
    "            out_dict[\"iteration\"].append(num_it)\n",
    "            out_dict[\"gted\"].append(model1.getObjective().getValue())\n",
    "            break\n",
    "    #     get_opt_aln(subgraph1, ag,g1,g2)\n",
    "        #nx.draw(subgraph1)\n",
    "        model1.reset()\n",
    "        model1.optimize()\n",
    "        if model1.status != GRB.OPTIMAL:\n",
    "            print(model1.status)\n",
    "            out_dict[\"iteration\"].append(num_it)\n",
    "            out_dict[\"gted\"].append(-1)\n",
    "            break\n",
    "        if num_it % 50 == 0:\n",
    "            print(num_it, model1.getObjective().getValue(), flush=True)\n",
    "        if time.time() - t0 > 1200:\n",
    "            out_dict[\"iteration\"].append(-num_it)\n",
    "            out_dict[\"gted\"].append(model1.getObjective().getValue())\n",
    "            break\n",
    "        num_it += 1\n",
    "    out_dict[\"time_gted_it\"].append(time.time() - t0)\n",
    "    print( model1.getObjective().getValue())\n",
    "\n",
    "#     t0 = time.time()\n",
    "#     model2 = GTED_ilp(ag, g1, g2, \"test.lp\", True)\n",
    "#     out_dict[\"gted2\"].append(model2.getObjective().getValue())\n",
    "#     out_dict[\"time_gted_compact\"].append(time.time() - t0)\n",
    "    \n",
    "    if fii % 10 == 9:\n",
    "        df = pd.DataFrame(out_dict)\n",
    "        df.to_csv(\"3cycle_output.csv\", index=False)\n",
    "        \n",
    "    "
   ]
  },
  {
   "cell_type": "code",
   "execution_count": 20,
   "id": "c0132ecc",
   "metadata": {},
   "outputs": [
    {
     "data": {
      "text/plain": [
       "defaultdict(list,\n",
       "            {'ccted': [0.0,\n",
       "              1.0,\n",
       "              1.0,\n",
       "              0.0,\n",
       "              0.0,\n",
       "              1.0,\n",
       "              0.0,\n",
       "              0.0,\n",
       "              1.0,\n",
       "              0.0,\n",
       "              1.0,\n",
       "              1.0,\n",
       "              1.0,\n",
       "              0.0,\n",
       "              0.0,\n",
       "              0.0],\n",
       "             'time_ccted': [0.06118893623352051,\n",
       "              0.0692605972290039,\n",
       "              0.06144094467163086,\n",
       "              0.055953264236450195,\n",
       "              0.03627777099609375,\n",
       "              0.04291725158691406,\n",
       "              0.0505986213684082,\n",
       "              0.052731990814208984,\n",
       "              0.03261065483093262,\n",
       "              0.05329561233520508,\n",
       "              0.0634911060333252,\n",
       "              0.04315996170043945,\n",
       "              0.0362849235534668,\n",
       "              0.046590328216552734,\n",
       "              0.05614042282104492,\n",
       "              0.041178226470947266],\n",
       "             'iteration': [22,\n",
       "              4,\n",
       "              2,\n",
       "              9,\n",
       "              2,\n",
       "              2,\n",
       "              221,\n",
       "              7,\n",
       "              2,\n",
       "              272,\n",
       "              3,\n",
       "              44,\n",
       "              4,\n",
       "              33,\n",
       "              107,\n",
       "              2],\n",
       "             'gted': [2.0,\n",
       "              2.0,\n",
       "              2.0,\n",
       "              2.0,\n",
       "              2.0,\n",
       "              2.0,\n",
       "              4.0,\n",
       "              2.0,\n",
       "              2.0,\n",
       "              -1,\n",
       "              2.0,\n",
       "              4.0,\n",
       "              2.0,\n",
       "              -1,\n",
       "              4.0,\n",
       "              -1],\n",
       "             'time_gted_it': [0.819655179977417,\n",
       "              0.19186854362487793,\n",
       "              0.11965036392211914,\n",
       "              0.480210542678833,\n",
       "              0.06840348243713379,\n",
       "              0.06850314140319824,\n",
       "              190.02121925354004,\n",
       "              0.35430192947387695,\n",
       "              0.06763172149658203,\n",
       "              169.07413792610168,\n",
       "              0.15725970268249512,\n",
       "              3.7773969173431396,\n",
       "              0.13762617111206055,\n",
       "              4.369760990142822,\n",
       "              23.875481605529785,\n",
       "              0.12163496017456055],\n",
       "             'gted2': [2.0,\n",
       "              2.0,\n",
       "              2.0,\n",
       "              2.0,\n",
       "              2.0,\n",
       "              2.0,\n",
       "              4.0,\n",
       "              2.0,\n",
       "              2.0,\n",
       "              6.0,\n",
       "              2.0,\n",
       "              4.0,\n",
       "              2.0,\n",
       "              5.0,\n",
       "              4.0],\n",
       "             'time_gted_compact': [0.6242692470550537,\n",
       "              0.5779116153717041,\n",
       "              0.47693300247192383,\n",
       "              0.39893507957458496,\n",
       "              0.334989070892334,\n",
       "              0.3234133720397949,\n",
       "              2.2677693367004395,\n",
       "              0.43996095657348633,\n",
       "              0.34626221656799316,\n",
       "              12.70178771018982,\n",
       "              0.399824857711792,\n",
       "              1.026158332824707,\n",
       "              0.34902358055114746,\n",
       "              4.514461994171143,\n",
       "              0.7743804454803467]})"
      ]
     },
     "execution_count": 20,
     "metadata": {},
     "output_type": "execute_result"
    }
   ],
   "source": [
    "out_dict"
   ]
  },
  {
   "cell_type": "code",
   "execution_count": 157,
   "id": "20979755",
   "metadata": {},
   "outputs": [],
   "source": [
    "lengths = [int(normal(len_mean, 2)) for i in range(num_cycles)]\n",
    "lengths[-1] += 5\n",
    "overlaps = [abs(int(normal(overlap_mean, 1))) for i in range(num_cycles-1)]\n",
    "seqs = [simulate_seq(lengths[i]) for i in range(num_cycles-1)]\n",
    "overlap_space_idx1 = sorted([np.random.choice(lengths[i]-overlaps[i]) for i in range(num_cycles-2)])\n",
    "overlap_space_idx2 = sorted([np.random.choice(lengths[i]-overlaps[i]) for i in range(num_cycles-2)])"
   ]
  },
  {
   "cell_type": "code",
   "execution_count": 158,
   "id": "6952c9bf",
   "metadata": {},
   "outputs": [],
   "source": [
    "overlap_strings = [seqs[i][len(seqs[i]) - overlaps[i]:] for i in range(num_cycles-1)]"
   ]
  },
  {
   "cell_type": "code",
   "execution_count": 159,
   "id": "f16ea26c",
   "metadata": {},
   "outputs": [],
   "source": [
    "middle_string1 = \"\"\n",
    "for i in range(num_cycles-2):\n",
    "    middle_string1 += overlap_strings[i] + simulate_seq(overlap_space_idx1[i])\n",
    "middle_string1 += overlap_strings[-1] + simulate_seq(max(lengths[-1]-sum(overlaps)-sum(overlap_space_idx1), 3))"
   ]
  },
  {
   "cell_type": "code",
   "execution_count": 160,
   "id": "7f22f8fe",
   "metadata": {},
   "outputs": [
    {
     "name": "stdout",
     "output_type": "stream",
     "text": [
      "GTTCATATCGGACGTAGGC TATCGGATTCAACGTAGGC\n",
      "7 19 19\n"
     ]
    }
   ],
   "source": [
    "fii =6\n",
    "\n",
    "g1 = simulate_mickymouse_graph(overlap_space_idx1, overlaps, lengths, seqs, overlap_strings,middle_string1)\n",
    "g2 = simulate_mickymouse_graph(overlap_space_idx2, overlaps, lengths, seqs, overlap_strings,middle_string1)\n",
    "\n",
    "# g1.to_gfa_multi(\"data/3cycle_1_%i.gfa\" % fii)\n",
    "# g2.to_gfa_multi(\"data/3cycle_2_%i.gfa\" % fii)\n",
    "\n",
    "nx_g1 = g1.get_nx_multigraph()\n",
    "nx_g2 = g2.get_nx_multigraph()\n",
    "\n",
    "c1 = [n for n in nx.eulerian_circuit(nx_g1)]\n",
    "c2 = [n for n in nx.eulerian_circuit(nx_g2)]\n",
    "\n",
    "s1 = \"\"\n",
    "for e in c1:\n",
    "    s1 += g1.edge_labels[e]\n",
    "    \n",
    "s2 = \"\"\n",
    "for e in c2:\n",
    "    s2 += g2.edge_labels[e]\n",
    "    \n",
    "print(s1, s2)\n",
    "print(Levenshtein.distance(s1, s2), len(s1), len(s2))"
   ]
  },
  {
   "cell_type": "code",
   "execution_count": 106,
   "id": "9bd8b9f1",
   "metadata": {},
   "outputs": [],
   "source": [
    "fii = 0"
   ]
  },
  {
   "cell_type": "code",
   "execution_count": 107,
   "id": "10f86072",
   "metadata": {},
   "outputs": [
    {
     "name": "stdout",
     "output_type": "stream",
     "text": [
      "old_to_new_path 'Graph' object has no attribute 'paths'\n",
      "validate_new_seq 'Graph' object has no attribute 'seqids'\n",
      "old_to_new_path 'Graph' object has no attribute 'paths'\n",
      "validate_new_seq 'Graph' object has no attribute 'seqids'\n"
     ]
    }
   ],
   "source": [
    "compact_graph1 = CompactGraph(old_graph= g1)\n",
    "compact_graph1.get_compact_graph(mode=\"branching\")\n",
    "\n",
    "compact_graph2 = CompactGraph(old_graph= g2)\n",
    "compact_graph2.get_compact_graph(mode=\"branching\")"
   ]
  },
  {
   "cell_type": "code",
   "execution_count": 161,
   "id": "87d41a3e",
   "metadata": {},
   "outputs": [
    {
     "data": {
      "image/png": "[encoded data removed]",
      "text/plain": [
       "<Figure size 432x288 with 1 Axes>"
      ]
     },
     "metadata": {},
     "output_type": "display_data"
    }
   ],
   "source": [
    "G = g1.get_nx_multigraph()\n",
    "nx.draw_spectral(G,with_labels = True)"
   ]
  },
  {
   "cell_type": "code",
   "execution_count": 162,
   "id": "8def419f",
   "metadata": {
    "scrolled": true
   },
   "outputs": [
    {
     "data": {
      "image/png": "[encoded data removed]",
      "text/plain": [
       "<Figure size 432x288 with 1 Axes>"
      ]
     },
     "metadata": {},
     "output_type": "display_data"
    }
   ],
   "source": [
    "G = g2.get_nx_multigraph()\n",
    "nx.draw_spectral(G,with_labels = True)"
   ]
  },
  {
   "cell_type": "code",
   "execution_count": 110,
   "id": "e15b8794",
   "metadata": {},
   "outputs": [
    {
     "data": {
      "text/plain": [
       "14"
      ]
     },
     "execution_count": 110,
     "metadata": {},
     "output_type": "execute_result"
    }
   ],
   "source": [
    "len(g1.edge_labels)"
   ]
  },
  {
   "cell_type": "code",
   "execution_count": 167,
   "id": "751c69b5",
   "metadata": {},
   "outputs": [
    {
     "name": "stdout",
     "output_type": "stream",
     "text": [
      "[10, 11, 12, 0, 0, 10001, 10000, 0, 1, 1, 13, 14, 15, 0, 1, 2, 3, 4, 5, 6, 7, 8, 9, 0]\n",
      "[10, 11, 12, 0, 1, 10001, 10000, 1, 2, 3, 13, 14, 15, 2, 2, 2, 3, 4, 5, 6, 7, 8, 9, 0]\n",
      "4\n",
      "ATCGTTCAGGACGTAGGCT\n",
      "ATCGGATTCAACGTAGGCT\n"
     ]
    }
   ],
   "source": [
    "get_opt_aln(g1,g2,ag,subgraph)"
   ]
  },
  {
   "cell_type": "markdown",
   "id": "eda2f1fd",
   "metadata": {},
   "source": [
    "# Old stuff"
   ]
  },
  {
   "cell_type": "code",
   "execution_count": null,
   "id": "8dd75016",
   "metadata": {
    "scrolled": true
   },
   "outputs": [],
   "source": [
    "\n",
    "graph_files = [data_dir + f for f in os.listdir(data_dir) if \"4.gfa\" in f]\n",
    "\n",
    "seg_len = 15\n",
    "mut_rate = 0\n",
    "num_copies = 3\n",
    "nucs = []\n",
    "\n",
    "length1 = int(normal(seg_len, 2))\n",
    "length2 = int(normal(seg_len, 2))\n",
    "# mut_rate = poisson(mut_rate)\n",
    "# num_copies1 = poisson(num_copies)\n",
    "num_copies1 = 2\n",
    "\n",
    "i = 0\n",
    "out_dict = defaultdict(list)\n",
    "\n",
    "# for file1 in graph_files[1:5]:\n",
    "j = 0\n",
    "#     for file2 in graph_files[1:5]: \n",
    "file1 = graph_files[0]\n",
    "file2 = graph_files[0]\n",
    "prefix1 = file1.split(\"/\")[-1].split(\".\")[0] \n",
    "prefix2 = file2.split(\"/\")[-1].split(\".\")[0]\n",
    "\n",
    "graph1 = Graph(fname = file1)\n",
    "graph2 = Graph(fname = file2)\n",
    "\n",
    "ed, s1, s2 = get_str_dist(graph1, graph2)\n",
    "\n",
    "s1_seed1, loc = select_seed(s1, length1,5)\n",
    "s1_seed2, loc = select_seed(s1, length1,5, loc)\n",
    "s2_seed1, loc = select_seed(s2, length2,5)\n",
    "s2_seed2, loc = select_seed(s2, length2,5, loc)\n",
    "\n",
    "s1_seed1 = \"BBBDDDBBB\"\n",
    "\n",
    "locs = [[2, 15], [9, 30]]\n",
    "\n",
    "str_list = [s1,s2]\n",
    "for i,s in enumerate(str_list):\n",
    "    inserted_locs =set([0])\n",
    "    inserted_locs2 = []\n",
    "    new_seed = []\n",
    "    for seed in [s1_seed1]:\n",
    "        #, s1_seed2, s2_seed1, s2_seed2]:\n",
    "        for _ in range(num_copies1):\n",
    "            new_s = insert_mutation(seed, mut_rate)\n",
    "#             loc = random.choice(100)\n",
    "# #                 print(loc, inserted_locs[i])\n",
    "#             while loc in inserted_locs:\n",
    "#                 loc = int(random.choice(100))\n",
    "#             for l in range(loc, loc+len(new_s)):\n",
    "#                 inserted_locs.add(l)\n",
    "#             inserted_locs2.append(loc)\n",
    "            new_seed.append(new_s)\n",
    "\n",
    "    total_increased = 0\n",
    "    seed_loc = sorted([(i,j) for i,j in zip(new_seed, locs[i])], key=lambda x: x[1])\n",
    "    for seed, loc in seed_loc:\n",
    "        print(seed, loc)\n",
    "        new_loc = loc + total_increased\n",
    "        str_list[i] = str_list[i][:new_loc] + seed + str_list[i][new_loc:]\n",
    "        total_increased += len(seed)\n",
    "    print(seed_loc)\n",
    "s11 = str_list[0][:50]\n",
    "s22 = str_list[1][:50]\n",
    "print(s11)\n",
    "print(s22)\n",
    "print(ed, Levenshtein.distance(s11, s22), len(s11), len(s22))\n",
    "\n",
    "g1 = DeBruijnGraph(seqids = [(1,1)], seqs=[s11], k=4)\n",
    "g2 = DeBruijnGraph(seqids = [(1,1)], seqs=[s22], k=4)\n",
    "\n",
    "out_dict[\"s1\"].append(s11)\n",
    "out_dict[\"s2\"].append(s22)\n",
    "\n",
    "g1.to_gfa_multi(data_dir+prefix1 + \"_mut_%i_%i\" % (i,j)+\"_1\" + \".gfa\")\n",
    "g2.to_gfa_multi(data_dir+prefix2 + \"_mut_%i_%i\" % (i,j) +\"_2\" \".gfa\")\n",
    "\n",
    "start = time.time()\n",
    "\n",
    "ag = Alignment_Graph(g1, g2)\n",
    "\n",
    "time1 = time.time() - start\n",
    "gp.setParam(\"OutputFlag\", 0)\n",
    "gp.setParam(\"LogToConsole\", 0)\n",
    "\n",
    "# gp.setParam(\"OutputFlag\", 1)\n",
    "# gp.setParam(\"LogToConsole\", 1)\n",
    "\n",
    "\n",
    "# start = time.time()\n",
    "\n",
    "# model1 = GTED_ilp(ag, g1, g2, \"test.lp\", ilp)\n",
    "\n",
    "# time2 = time.time() - start\n",
    "\n",
    "# gted = model1.getObjective().getValue()"
   ]
  },
  {
   "cell_type": "code",
   "execution_count": 56,
   "id": "ec6bfcad",
   "metadata": {},
   "outputs": [],
   "source": [
    "def construct_sol_graph(model):\n",
    "    # get all x variables\n",
    "    xs = dict()\n",
    "    for v in model.getVars():\n",
    "        if v.x > 0:\n",
    "            if \"x\" in v.VarName:\n",
    "                idx = int(v.VarName.lstrip(\"x[\").rstrip(\"]\"))\n",
    "                xs[idx] = v.x\n",
    "    \n",
    "    subgraph = nx.MultiDiGraph()\n",
    "    for idx in xs:\n",
    "        n1,n2,c,w,e_type = ag.idx_to_edge[idx]\n",
    "        for _ in range(int(xs[idx])):\n",
    "#             if n1 == n2:\n",
    "#                 print(n1, n2)\n",
    "            subgraph.add_edge(n1,n2)\n",
    "            \n",
    "    subgraph.add_edge(ag.nodes[1], ag.nodes[0])\n",
    "    \n",
    "    return subgraph, xs     "
   ]
  },
  {
   "cell_type": "code",
   "execution_count": 55,
   "id": "c030e96d",
   "metadata": {},
   "outputs": [],
   "source": [
    "# find the set of edges with u in C and v not in C\n",
    "def update_scc_constr(model):\n",
    "\n",
    "    subgraph, xs = construct_sol_graph(model)\n",
    "#     get_opt_aln(subgraph)\n",
    "\n",
    "    sccs = []\n",
    "    for s in nx.strongly_connected_components(subgraph):\n",
    "        if ag.nodes[1] not in s and ag.nodes[0] not in s:\n",
    "#             print(s)\n",
    "            sccs.append(s)\n",
    "            \n",
    "    if sccs == []:\n",
    "        return model, -1\n",
    "    \n",
    "    for scc in sccs:\n",
    "        scc_out = []\n",
    "        scc_in = []\n",
    "        \n",
    "        scc_edges = []\n",
    "        total_weight = 0\n",
    "        for e in ag.idx_to_edge:\n",
    "            n1, n2, c, w, e_type = ag.idx_to_edge[e]\n",
    "            if n1 in scc and n2 not in scc:\n",
    "                scc_out.append(e)\n",
    "            elif n2 in scc and n1 not in scc:\n",
    "                scc_in.append(e)\n",
    "            if n1 in scc and n2 in scc:\n",
    "                scc_edges.append(e)\n",
    "        for e in xs:\n",
    "            n1, n2, c, w, e_type = ag.idx_to_edge[e]\n",
    "            if n1 in scc and n2 in scc:\n",
    "#                 scc_edges.append(e)\n",
    "                total_weight += xs[e]\n",
    "#                 print(n1, n2, xs[e])\n",
    "        total_weight = int(total_weight)\n",
    "#         print(\"totalweight\", total_weight)\n",
    "        x = [v for v in model.getVars() if \"x\" in v.VarName]\n",
    "        y = model.addVar(vtype=GRB.BINARY)\n",
    "        \n",
    "#         total_weight = len(scc)\n",
    "    \n",
    "        model.addConstr(sum(x[e] for e in scc_edges) >= total_weight - total_weight *(1-y))\n",
    "        model.addConstr(sum(x[e] for e in scc_edges) - total_weight + 1 - total_weight * y <= 0)\n",
    "        model.addConstr(sum([x[e] for e in scc_out]) >= y)\n",
    "        model.addConstr(sum([x[e] for e in scc_in]) >= y)\n",
    "    \n",
    "#         print(len(sccs),total_weight, scc,scc_edges)\n",
    "#         print(\"scc_out=\",scc_out)\n",
    "#         print(\"scc_in=\",scc_in)\n",
    "        model.update()\n",
    "        \n",
    "#         print(y)\n",
    "        \n",
    "    return model, subgraph"
   ]
  },
  {
   "cell_type": "code",
   "execution_count": null,
   "id": "5d9210ca",
   "metadata": {},
   "outputs": [],
   "source": [
    "def aln_edge_to_graph_edge(ag, g1, g2, e_idx):\n",
    "    \"\"\"\n",
    "    Project edge idx in alignment edge to two input graphs\n",
    "    \n",
    "    Return:\n",
    "        e1, e2\n",
    "        None if no projection (due to horizontal or vertical edges)\n",
    "    \"\"\"\n",
    "    \n",
    "    n1, n2, c, w, e_type = ag.idx_to_edge[e_idx]\n",
    "    u1,u2 = ag.idx_to_node[n1]\n",
    "    v1,v2 = ag.idx_to_node[n2]\n",
    "    \n",
    "    # skip source/sink edges\n",
    "    if e_type == \"ss\":\n",
    "        return None, None\n",
    "    \n",
    "    # horizontal -- only to g1\n",
    "    if e_type == \"h\":\n",
    "        return (u1,v1),None\n",
    "    \n",
    "    # vertical -- only to g2\n",
    "    if e_type == \"v\":\n",
    "        return None, (u2, v2)\n",
    "\n",
    "    else:\n",
    "        return (u1,v1), (u2,v2)"
   ]
  },
  {
   "cell_type": "code",
   "execution_count": null,
   "id": "0b9f361d",
   "metadata": {},
   "outputs": [],
   "source": [
    "'''\n",
    "This is Yutong trying to improve things but failing.\n",
    "For each isolated SCC,\n",
    "(1) find projection to G1 and G2\n",
    "(2) find alignment graph between scc1=proj(G1, scc) and scc2=proj(G2, scc), which is a subgraph of the alignment graph\n",
    "(3) Add constraints: \n",
    "    if sum(e in aln_sub) >= 1, then sum(e out of aln_sub) >= 1\n",
    "\n",
    "    Linearized constraints:\n",
    "    sum(e) <= 0 and sum(e_out) >= 1\n",
    "    \n",
    "    ==>\n",
    "        sum(e) >= -M(1-y)\n",
    "        sum(e) - My <= 0\n",
    "        sum(e_out) >= y\n",
    "'''\n",
    "def update_scc_constr2(model):\n",
    "\n",
    "    subgraph, xs = construct_sol_graph(model)\n",
    "    get_opt_aln(subgraph)\n",
    "\n",
    "    sccs = []\n",
    "    for s in nx.strongly_connected_components(subgraph):\n",
    "        if ag.nodes[1] not in s and ag.nodes[0] not in s:\n",
    "#             print(s)\n",
    "            sccs.append(s)\n",
    "            \n",
    "    if sccs == []:\n",
    "        return model, -1\n",
    "    \n",
    "    print(sccs)\n",
    "    \n",
    "    for scc in sccs:\n",
    "        g1_sub = set()\n",
    "        g2_sub = set()\n",
    "        aln_sub_edges = []\n",
    "        aln_sub_out_edges = []\n",
    "        for e in xs:\n",
    "            n1, n2, c, w, e_type = ag.idx_to_edge[e]\n",
    "            if n1 in scc and n2 in scc:\n",
    "                u1,u2 = ag.idx_to_node[n1]\n",
    "                v1,v2 = ag.idx_to_node[n2]\n",
    "                g1_sub.add(u1)\n",
    "                g1_sub.add(v1)\n",
    "                g2_sub.add(u2)\n",
    "                g2_sub.add(v2)\n",
    "        \n",
    "        for e in ag.idx_to_edge:\n",
    "            n1, n2, c, w, e_type = ag.idx_to_edge[e]\n",
    "            if n1 == ag.nodes[0] or n1 == ag.nodes[1] or n2 == ag.nodes[0] or n2 == ag.nodes[1]:\n",
    "                continue\n",
    "            u1,u2 = ag.idx_to_node[n1]\n",
    "            v1,v2 = ag.idx_to_node[n2]\n",
    "            if u1 in g1_sub and v1 in g1_sub and u2 in g2_sub and v2 in g2_sub:\n",
    "                aln_sub_edges.append(e)\n",
    "                \n",
    "            if u1 in g1_sub and u2 in g2_sub and (v1 not in g1_sub or v2 not in g2_sub):\n",
    "                aln_sub_out_edges.append(e)\n",
    "                \n",
    "        x = [v for v in model.getVars() if \"x\" in v.VarName]\n",
    "        y = model.addVar(vtype=GRB.BINARY)\n",
    "        \n",
    "        model.addConstr(sum([x[e] for e in aln_sub_edges]) >= -len(ag.idx_to_edge) * (1-y))\n",
    "        model.addConstr(sum([x[e] for e in aln_sub_edges]) - len(ag.idx_to_edge) * y <= 0)\n",
    "        model.addConstr(sum([x[e] for e in aln_sub_out_edges]) >= y)\n",
    "        model.update()\n",
    "        \n",
    "        print(g1_sub, g2_sub, aln_sub_edges,aln_sub_out_edges)\n",
    "    return model, subgraph"
   ]
  },
  {
   "cell_type": "code",
   "execution_count": 65,
   "id": "2538a2eb",
   "metadata": {},
   "outputs": [],
   "source": [
    "def get_opt_aln(subgraph):\n",
    "    for nodes in nx.strongly_connected_components(subgraph):\n",
    "        sub = nx.induced_subgraph(subgraph, nodes)\n",
    "        p1 = []\n",
    "        p2 = []\n",
    "        for edge in nx.eulerian_circuit(sub):\n",
    "            if ag.idx_to_node[edge[1]] != 0 and ag.idx_to_node[edge[1]] != 1:\n",
    "                p1.append(ag.idx_to_node[edge[1]][0])\n",
    "                p2.append(ag.idx_to_node[edge[1]][1])    \n",
    "\n",
    "        s1 = \"\"\n",
    "        for i in range(len(p1)-1):\n",
    "            e1 = (p1[i], p1[i+1])\n",
    "            if e1 not in g1.edge_labels:\n",
    "                s1 += \"-\"\n",
    "            else:\n",
    "                s1 += (g1.edge_labels[e1])\n",
    "        s2 = \"\"\n",
    "        for i in range(len(p2)-1):\n",
    "            e2 = (p2[i], p2[i+1])\n",
    "            if e2 not in g2.edge_labels:\n",
    "                s2 += \"-\"\n",
    "            else:\n",
    "                s2 += g2.edge_labels[e2]\n",
    "                \n",
    "        if s1 == \"\" and s2 ==\"\":\n",
    "            return\n",
    "\n",
    "        print(Levenshtein.distance(s1, s2))\n",
    "        print(s1)\n",
    "        print(s2)\n",
    "        print(p1, p2)"
   ]
  },
  {
   "cell_type": "code",
   "execution_count": null,
   "id": "dd5ca6cc",
   "metadata": {},
   "outputs": [],
   "source": [
    "\n",
    "start = time.time()        \n",
    "model = CCTED_ilp(ag, g1, g2, \"test.lp\", ilp)\n",
    "time3 = time.time() - start\n",
    "\n",
    "ccted = model.getObjective().getValue()\n",
    "print(\"ILP result:\", ccted)\n",
    "\n",
    "model2 = GTED_ilp(ag, g1, g2, \"test.lp\", ilp)\n",
    "gted = model2.getObjective().getValue()\n",
    "\n",
    "print(\"GTED ilp:\",gted)"
   ]
  },
  {
   "cell_type": "code",
   "execution_count": null,
   "id": "5dc43298",
   "metadata": {},
   "outputs": [],
   "source": []
  },
  {
   "cell_type": "code",
   "execution_count": null,
   "id": "52a63169",
   "metadata": {},
   "outputs": [],
   "source": [
    "all_sccs = set()"
   ]
  },
  {
   "cell_type": "code",
   "execution_count": null,
   "id": "f5edc2c6",
   "metadata": {
    "scrolled": false
   },
   "outputs": [],
   "source": [
    "import gurobipy as gp\n",
    "gp.setParam(\"OutputFlag\", 0)\n",
    "gp.setParam(\"LogToConsole\", 0)\n",
    "\n",
    "\n",
    "while True:\n",
    "\n",
    "    subgraph, xs = construct_sol_graph(model)\n",
    "    model, subgraph = update_scc_constr(model)\n",
    "\n",
    "    if subgraph == -1:\n",
    "        break\n",
    "\n",
    "    for s in nx.strongly_connected_components(subgraph):\n",
    "        if ag.nodes[1] not in s and ag.nodes[0] not in s:\n",
    "#             scc_edges = []\n",
    "#             for e in xs:\n",
    "#                 n1, n2, c, w, e_type = ag.idx_to_edge[e]\n",
    "#                 if n1 in s and n2 in s:\n",
    "#                     scc_edges.append(e)\n",
    "    #         print(s)\n",
    "    #             break\n",
    "            if tuple(sorted(tuple(s))) in all_sccs:\n",
    "                print(tuple(sorted(tuple(s))))\n",
    "            all_sccs.add(tuple(sorted(tuple(s))))\n",
    "        get_opt_aln(subgraph)\n",
    "\n",
    "    model.reset()\n",
    "    model.optimize()\n",
    "    if model.status != GRB.OPTIMAL:\n",
    "        print(model.status)\n",
    "        break\n",
    "    print(\"subopt:\",model.getObjective().getValue())\n",
    "    \n",
    "print(\"Optimal:\", model.getObjective().getValue())"
   ]
  },
  {
   "cell_type": "code",
   "execution_count": null,
   "id": "aa94add8",
   "metadata": {},
   "outputs": [],
   "source": [
    "for n in ag.incoming:\n",
    "    ss = set()\n",
    "    for e in ag.incoming[n]:\n",
    "        ss.add(ag.idx_to_edge[e][:-1])\n",
    "    if len(ss) != len(ag.incoming[n]):\n",
    "        print(ss)"
   ]
  },
  {
   "cell_type": "code",
   "execution_count": null,
   "id": "4958b586",
   "metadata": {},
   "outputs": [],
   "source": [
    "[704, 705, 769, 1091, 1100, 5357, 5405, 5534, 5537, 5666, 5669, 5798, 5801]\n",
    "[704, 708, 898, 1091, 1100, 5357, 5405, 5534, 5537, 5666, 5669, 5798, 5801]"
   ]
  },
  {
   "cell_type": "code",
   "execution_count": null,
   "id": "02efd415",
   "metadata": {},
   "outputs": [],
   "source": [
    "scc_edges = [704, 705, 769, 1091, 1100, 5357, 5405, 5534, 5537, 5666, 5669, 5798, 5801]\n",
    "scc_out= [703, 706, 707, 709, 710, 768, 831, 832, 833, 834, 835, 836, 837, 838, 839, 897, 899, 960, 961, 962, 963, 964, 965, 966, 967, 968, 1026, 1028, 1089, 1092, 1093, 1094, 1095, 1096, 1097, 1099, 5355, 5404, 5532, 5536, 5664, 5668, 5796, 5800]\n",
    "scc_in= [572, 573, 576, 579, 638, 639, 641, 644, 700, 701, 711, 766, 772, 773, 829, 895, 901, 958, 1024, 1030, 1087, 1146, 1156, 1159, 4571, 4572, 4575, 4578, 4637, 4638, 4640, 4643, 5347, 5406, 5485, 5538, 5662, 5670, 5732, 5733, 5736, 5739, 5794, 5804]\n",
    "\n",
    "\n",
    "sum([xs[e] for e in scc_edges if e in xs])\n",
    "[(ag.idx_to_edge[e]) for e in scc_edges if e not in xs]"
   ]
  },
  {
   "cell_type": "code",
   "execution_count": null,
   "id": "b3c0945c",
   "metadata": {},
   "outputs": [],
   "source": []
  },
  {
   "cell_type": "code",
   "execution_count": null,
   "id": "02e1f142",
   "metadata": {},
   "outputs": [],
   "source": []
  },
  {
   "cell_type": "code",
   "execution_count": null,
   "id": "af15d6a1",
   "metadata": {},
   "outputs": [],
   "source": [
    "model.addConstr(sum(x[e] for e in scc_edges) >= total_weight - total_weight *(1-y))\n",
    "model.addConstr(sum(x[e] for e in scc_edges) - total_weight + 1 - total_weight * y <= 0)\n",
    "model.addConstr(sum([x[e] for e in scc_out]) >= y)\n",
    "model.addConstr(sum([x[e] for e in scc_in]) >= y)"
   ]
  },
  {
   "cell_type": "code",
   "execution_count": null,
   "id": "11d9ab3b",
   "metadata": {},
   "outputs": [],
   "source": [
    "model.getVarByName(\"C5816\")"
   ]
  },
  {
   "cell_type": "code",
   "execution_count": null,
   "id": "3dda7d60",
   "metadata": {},
   "outputs": [],
   "source": [
    "scc_edges = [704, 898, 1100, 5405, 5535, 5537, 5666, 5669, 5798, 5801]"
   ]
  },
  {
   "cell_type": "code",
   "execution_count": null,
   "id": "670e0970",
   "metadata": {},
   "outputs": [],
   "source": [
    "sum([xs[e] for e in scc_edges if e in xs])"
   ]
  },
  {
   "cell_type": "code",
   "execution_count": null,
   "id": "40e3ca9c",
   "metadata": {},
   "outputs": [],
   "source": [
    "for b in "
   ]
  },
  {
   "cell_type": "code",
   "execution_count": null,
   "id": "594e886c",
   "metadata": {},
   "outputs": [],
   "source": [
    "[e for e in scc_out if e in xs]"
   ]
  },
  {
   "cell_type": "code",
   "execution_count": null,
   "id": "ca7f3e1c",
   "metadata": {},
   "outputs": [],
   "source": [
    "[e for e in scc_in if e in xs]"
   ]
  },
  {
   "cell_type": "code",
   "execution_count": null,
   "id": "66d6add6",
   "metadata": {},
   "outputs": [],
   "source": [
    "ag.idx_to_edge[5535]"
   ]
  },
  {
   "cell_type": "code",
   "execution_count": null,
   "id": "fac25c8b",
   "metadata": {},
   "outputs": [],
   "source": [
    "ag.idx_to_edge[898]"
   ]
  },
  {
   "cell_type": "code",
   "execution_count": null,
   "id": "2e67184b",
   "metadata": {},
   "outputs": [],
   "source": [
    "(0,78) in subgraph.edges"
   ]
  },
  {
   "cell_type": "code",
   "execution_count": null,
   "id": "eb5092da",
   "metadata": {},
   "outputs": [],
   "source": [
    "a = [672, 673, 674, 675, 678, 679, 680, 702, 703, 704, 705, 706, 707, 708, 711, 712, 713, 714, 715, 716, 723, 724, 725, 726, 727, 728, 729, 730, 731, 732, 733, 734, 735, 736, 737, 738, 739, 740, 741, 742, 743, 744, 745, 746, 747, 748, 749, 750, 753, 754, 755, 759, 760, 761, 762, 763, 764, 765, 766, 767, 768, 769, 770, 771, 772, 773, 802, 808, 832, 835, 841, 844, 853, 856, 859, 862, 865, 868, 871, 874, 877, 883, 889, 892, 895, 898, 901, 930, 931, 932, 933, 936, 937, 938, 960, 961, 962, 963, 964, 965, 966, 969, 970, 971, 972, 973, 974, 981, 982, 983, 984, 985, 986, 987, 988, 989, 990, 991, 992, 993, 994, 995, 996, 997, 998, 999, 1000, 1001, 1002, 1003, 1004, 1005, 1006, 1007, 1008, 1011, 1012, 1013, 1017, 1018, 1019, 1020, 1021, 1022, 1023, 1024, 1025, 1026, 1027, 1028, 1029, 1030, 1031, 1059, 1060, 1061, 1062, 1065, 1066, 1067, 1089, 1090, 1091, 1092, 1093, 1094, 1095, 1098, 1099, 1100, 1101, 1102, 1103, 1110, 1111, 1112, 1113, 1114, 1115, 1116, 1117, 1118, 1119, 1120, 1121, 1122, 1123, 1124, 1125, 1126, 1127, 1128, 1129, 1130, 1131, 1132, 1133, 1134, 1135, 1136, 1137, 1140, 1141, 1142, 1146, 1147, 1148, 1149, 1150, 1151, 1152, 1153, 1154, 1155, 1156, 1157, 1158, 1159, 1160, 1317, 1318, 1319, 1320, 1323, 1324, 1325, 1347, 1348, 1349, 1350, 1351, 1352, 1353, 1356, 1357, 1358, 1359, 1360, 1361, 1368, 1369, 1370, 1371, 1372, 1373, 1374, 1375, 1376, 1377, 1378, 1379, 1380, 1381, 1382, 1383, 1384, 1385, 1386, 1387, 1388, 1389, 1390, 1391, 1392, 1393, 1394, 1395, 1398, 1399, 1400, 1404, 1405, 1406, 1407, 1408, 1409, 1410, 1411, 1412, 1413, 1414, 1415, 1416, 1417, 1418, 1446, 1447, 1448, 1449, 1452, 1453, 1454, 1476, 1477, 1478, 1479, 1480, 1481, 1482, 1485, 1486, 1487, 1488, 1489, 1490, 1497, 1498, 1499, 1500, 1501, 1502, 1503, 1504, 1505, 1506, 1507, 1508, 1509, 1510, 1511, 1512, 1513, 1514, 1515, 1516, 1517, 1518, 1519, 1520, 1521, 1522, 1523, 1524, 1527, 1528, 1529, 1533, 1534, 1535, 1536, 1537, 1538, 1539, 1540, 1541, 1542, 1543, 1544, 1545, 1546, 1547, 1575, 1576, 1577, 1578, 1581, 1582, 1583, 1605, 1606, 1607, 1608, 1609, 1610, 1611, 1614, 1615, 1616, 1617, 1618, 1619, 1626, 1627, 1628, 1629, 1630, 1631, 1632, 1633, 1634, 1635, 1636, 1637, 1638, 1639, 1640, 1641, 1642, 1643, 1644, 1645, 1646, 1647, 1648, 1649, 1650, 1651, 1652, 1653, 1656, 1657, 1658, 1662, 1663, 1664, 1665, 1666, 1667, 1668, 1669, 1670, 1671, 1672, 1673, 1674, 1675, 1676, 1705, 1711, 1735, 1738, 1744, 1747, 1756, 1759, 1762, 1765, 1768, 1771, 1774, 1777, 1780, 1786, 1792, 1795, 1798, 1801, 1804, 1833, 1834, 1835, 1836, 1839, 1840, 1841, 1863, 1864, 1865, 1866, 1867, 1868, 1869, 1872, 1873, 1874, 1875, 1876, 1877, 1884, 1885, 1886, 1887, 1888, 1889, 1890, 1891, 1892, 1893, 1894, 1895, 1896, 1897, 1898, 1899, 1900, 1901, 1902, 1903, 1904, 1905, 1906, 1907, 1908, 1909, 1910, 1911, 1914, 1915, 1916, 1920, 1921, 1922, 1923, 1924, 1925, 1926, 1927, 1928, 1929, 1930, 1931, 1932, 1933, 1934, 3381, 3382, 3383, 3384, 3387, 3388, 3389, 3411, 3412, 3413, 3414, 3415, 3416, 3417, 3420, 3421, 3422, 3423, 3424, 3425, 3432, 3433, 3434, 3435, 3436, 3437, 3438, 3439, 3440, 3441, 3442, 3443, 3444, 3445, 3446, 3447, 3448, 3449, 3450, 3451, 3452, 3453, 3454, 3455, 3456, 3457, 3458, 3459, 3462, 3463, 3464, 3468, 3469, 3470, 3471, 3472, 3473, 3474, 3475, 3476, 3477, 3478, 3479, 3480, 3481, 3482, 3511, 3517, 3541, 3544, 3550, 3553, 3562, 3565, 3568, 3571, 3574, 3577, 3580, 3583, 3586, 3592, 3598, 3601, 3604, 3607, 3610, 3639, 3640, 3641, 3642, 3645, 3646, 3647, 3669, 3670, 3671, 3672, 3673, 3674, 3675, 3678, 3679, 3680, 3681, 3682, 3683, 3690, 3691, 3692, 3693, 3694, 3695, 3696, 3697, 3698, 3699, 3700, 3701, 3702, 3703, 3704, 3705, 3706, 3707, 3708, 3709, 3710, 3711, 3712, 3713, 3714, 3715, 3716, 3717, 3720, 3721, 3722, 3726, 3727, 3728, 3729, 3730, 3731, 3732, 3733, 3734, 3735, 3736, 3737, 3738, 3739, 3740, 3768, 3769, 3770, 3771, 3774, 3775, 3776, 3798, 3799, 3800, 3801, 3802, 3803, 3804, 3807, 3808, 3809, 3810, 3811, 3812, 3819, 3820, 3821, 3822, 3823, 3824, 3825, 3826, 3827, 3828, 3829, 3830, 3831, 3832, 3833, 3834, 3835, 3836, 3837, 3838, 3839, 3840, 3841, 3842, 3843, 3844, 3845, 3846, 3849, 3850, 3851, 3855, 3856, 3857, 3858, 3859, 3860, 3861, 3862, 3863, 3864, 3865, 3866, 3867, 3868, 3869, 3897, 3898, 3899, 3900, 3903, 3904, 3905, 3927, 3928, 3929, 3930, 3931, 3932, 3933, 3936, 3937, 3938, 3939, 3940, 3941, 3948, 3949, 3950, 3951, 3952, 3953, 3954, 3955, 3956, 3957, 3958, 3959, 3960, 3961, 3962, 3963, 3964, 3965, 3966, 3967, 3968, 3969, 3970, 3971, 3972, 3973, 3974, 3975, 3978, 3979, 3980, 3984, 3985, 3986, 3987, 3988, 3989, 3990, 3991, 3992, 3993, 3994, 3995, 3996, 3997, 3998, 4026, 4027, 4028, 4029, 4032, 4033, 4034, 4056, 4057, 4058, 4059, 4060, 4061, 4062, 4065, 4066, 4067, 4068, 4069, 4070, 4077, 4078, 4079, 4080, 4081, 4082, 4083, 4084, 4085, 4086, 4087, 4088, 4089, 4090, 4091, 4092, 4093, 4094, 4095, 4096, 4097, 4098, 4099, 4100, 4101, 4102, 4103, 4104, 4107, 4108, 4109, 4113, 4114, 4115, 4116, 4117, 4118, 4119, 4120, 4121, 4122, 4123, 4124, 4125, 4126, 4127, 4155, 4156, 4157, 4158, 4161, 4162, 4163, 4185, 4186, 4187, 4188, 4189, 4190, 4191, 4194, 4195, 4196, 4197, 4198, 4199, 4206, 4207, 4208, 4209, 4210, 4211, 4212, 4213, 4214, 4215, 4216, 4217, 4218, 4219, 4220, 4221, 4222, 4223, 4224, 4225, 4226, 4227, 4228, 4229, 4230, 4231, 4232, 4233, 4236, 4237, 4238, 4242, 4243, 4244, 4245, 4246, 4247, 4248, 4249, 4250, 4251, 4252, 4253, 4254, 4255, 4256, 4284, 4285, 4286, 4287, 4290, 4291, 4292, 4314, 4315, 4316, 4317, 4318, 4319, 4320, 4323, 4324, 4325, 4326, 4327, 4328, 4335, 4336, 4337, 4338, 4339, 4340, 4341, 4342, 4343, 4344, 4345, 4346, 4347, 4348, 4349, 4350, 4351, 4352, 4353, 4354, 4355, 4356, 4357, 4358, 4359, 4360, 4361, 4362, 4365, 4366, 4367, 4371, 4372, 4373, 4374, 4375, 4376, 4377, 4378, 4379, 4380, 4381, 4382, 4383, 4384, 4385, 4413, 4414, 4415, 4416, 4419, 4420, 4421, 4443, 4444, 4445, 4446, 4447, 4448, 4449, 4452, 4453, 4454, 4455, 4456, 4457, 4464, 4465, 4466, 4467, 4468, 4469, 4470, 4471, 4472, 4473, 4474, 4475, 4476, 4477, 4478, 4479, 4480, 4481, 4482, 4483, 4484, 4485, 4486, 4487, 4488, 4489, 4490, 4491, 4494, 4495, 4496, 4500, 4501, 4502, 4503, 4504, 4505, 4506, 4507, 4508, 4509, 4510, 4511, 4512, 4513, 4514, 4542, 4543, 4544, 4545, 4548, 4549, 4550, 4572, 4573, 4574, 4575, 4576, 4577, 4578, 4581, 4582, 4583, 4584, 4585, 4586, 4593, 4594, 4595, 4596, 4597, 4598, 4599, 4600, 4601, 4602, 4603, 4604, 4605, 4606, 4607, 4608, 4609, 4610, 4611, 4612, 4613, 4614, 4615, 4616, 4617, 4618, 4619, 4620, 4623, 4624, 4625, 4629, 4630, 4631, 4632, 4633, 4634, 4635, 4636, 4637, 4638, 4639, 4640, 4641, 4642, 4643, 5316, 5317, 5318, 5319, 5322, 5323, 5324, 5346, 5347, 5348, 5349, 5350, 5351, 5352, 5355, 5356, 5357, 5358, 5359, 5360, 5367, 5368, 5369, 5370, 5371, 5372, 5373, 5374, 5375, 5376, 5377, 5378, 5379, 5380, 5381, 5382, 5383, 5384, 5385, 5386, 5387, 5388, 5389, 5390, 5391, 5392, 5393, 5394, 5397, 5398, 5399, 5403, 5404, 5405, 5406, 5407, 5408, 5409, 5410, 5411, 5412, 5413, 5414, 5415, 5416, 5417, 5445, 5446, 5447, 5448, 5451, 5452, 5453, 5475, 5476, 5477, 5478, 5479, 5480, 5481, 5484, 5485, 5486, 5487, 5488, 5489, 5496, 5497, 5498, 5499, 5500, 5501, 5502, 5503, 5504, 5505, 5506, 5507, 5508, 5509, 5510, 5511, 5512, 5513, 5514, 5515, 5516, 5517, 5518, 5519, 5520, 5521, 5522, 5523, 5526, 5527, 5528, 5532, 5533, 5534, 5535, 5536, 5537, 5538, 5539, 5540, 5541, 5542, 5543, 5544, 5545, 5546, 5574, 5575, 5576, 5577, 5580, 5581, 5582, 5604, 5605, 5606, 5607, 5608, 5609, 5610, 5613, 5614, 5615, 5616, 5617, 5618, 5625, 5626, 5627, 5628, 5629, 5630, 5631, 5632, 5633, 5634, 5635, 5636, 5637, 5638, 5639, 5640, 5641, 5642, 5643, 5644, 5645, 5646, 5647, 5648, 5649, 5650, 5651, 5652, 5655, 5656, 5657, 5661, 5662, 5663, 5664, 5665, 5666, 5667, 5668, 5669, 5670, 5671, 5672, 5673, 5674, 5675, 5703, 5704, 5705, 5706, 5709, 5710, 5711, 5733, 5734, 5735, 5736, 5737, 5738, 5739, 5742, 5743, 5744, 5745, 5746, 5747, 5754, 5755, 5756, 5757, 5758, 5759, 5760, 5761, 5762, 5763, 5764, 5765, 5766, 5767, 5768, 5769, 5770, 5771, 5772, 5773, 5774, 5775, 5776, 5777, 5778, 5779, 5780, 5781, 5784, 5785, 5786, 5790, 5791, 5792, 5793, 5794, 5795, 5796, 5797, 5798, 5799, 5800, 5801, 5802, 5803, 5804] \n",
    "b = [676, 677, 709, 710, 751, 752, 801, 803, 804, 805, 806, 807, 809, 831, 833, 834, 836, 837, 838, 839, 840, 842, 843, 845, 852, 854, 855, 857, 858, 860, 861, 863, 864, 866, 867, 869, 870, 872, 873, 875, 876, 878, 879, 880, 881, 882, 884, 888, 890, 891, 893, 894, 896, 897, 899, 900, 902, 934, 935, 967, 968, 1009, 1010, 1063, 1064, 1096, 1097, 1138, 1139, 1321, 1322, 1354, 1355, 1396, 1397, 1450, 1451, 1483, 1484, 1525, 1526, 1579, 1580, 1612, 1613, 1654, 1655, 1704, 1706, 1707, 1708, 1709, 1710, 1712, 1734, 1736, 1737, 1739, 1740, 1741, 1742, 1743, 1745, 1746, 1748, 1755, 1757, 1758, 1760, 1761, 1763, 1764, 1766, 1767, 1769, 1770, 1772, 1773, 1775, 1776, 1778, 1779, 1781, 1782, 1783, 1784, 1785, 1787, 1791, 1793, 1794, 1796, 1797, 1799, 1800, 1802, 1803, 1805, 1837, 1838, 1870, 1871, 1912, 1913, 3385, 3386, 3418, 3419, 3460, 3461, 3510, 3512, 3513, 3514, 3515, 3516, 3518, 3540, 3542, 3543, 3545, 3546, 3547, 3548, 3549, 3551, 3552, 3554, 3561, 3563, 3564, 3566, 3567, 3569, 3570, 3572, 3573, 3575, 3576, 3578, 3579, 3581, 3582, 3584, 3585, 3587, 3588, 3589, 3590, 3591, 3593, 3597, 3599, 3600, 3602, 3603, 3605, 3606, 3608, 3609, 3611, 3643, 3644, 3676, 3677, 3718, 3719, 3772, 3773, 3805, 3806, 3847, 3848, 3901, 3902, 3934, 3935, 3976, 3977, 4030, 4031, 4063, 4064, 4105, 4106, 4159, 4160, 4192, 4193, 4234, 4235, 4288, 4289, 4321, 4322, 4363, 4364, 4417, 4418, 4450, 4451, 4492, 4493, 4546, 4547, 4579, 4580, 4621, 4622, 5320, 5321, 5353, 5354, 5395, 5396, 5449, 5450, 5482, 5483, 5524, 5525, 5578, 5579, 5611, 5612, 5653, 5654, 5707, 5708, 5740, 5741, 5782, 5783]"
   ]
  },
  {
   "cell_type": "code",
   "execution_count": null,
   "id": "1b843338",
   "metadata": {},
   "outputs": [],
   "source": [
    "[e for e in b if e in xs]"
   ]
  },
  {
   "cell_type": "code",
   "execution_count": null,
   "id": "576b0936",
   "metadata": {},
   "outputs": [],
   "source": [
    "ag.idx_to_edge[1784]"
   ]
  },
  {
   "cell_type": "code",
   "execution_count": null,
   "id": "5f5b3b20",
   "metadata": {},
   "outputs": [],
   "source": [
    "ag.idx_to_edge[3515]"
   ]
  },
  {
   "cell_type": "code",
   "execution_count": null,
   "id": "fa773d26",
   "metadata": {},
   "outputs": [],
   "source": [
    "[nx.induced_subgraph(subgraph,s).edges for s in nx.strongly_connected_components(subgraph)]"
   ]
  },
  {
   "cell_type": "markdown",
   "id": "33a6a72d",
   "metadata": {},
   "source": [
    "#### sum([xs[e] for e in a if e in xs])"
   ]
  },
  {
   "cell_type": "code",
   "execution_count": null,
   "id": "f8c93350",
   "metadata": {},
   "outputs": [],
   "source": [
    "model.status"
   ]
  },
  {
   "cell_type": "code",
   "execution_count": null,
   "id": "ef85ef9a",
   "metadata": {},
   "outputs": [],
   "source": [
    "subgraph = construct_sol_graph(model)"
   ]
  },
  {
   "cell_type": "code",
   "execution_count": null,
   "id": "599916a7",
   "metadata": {},
   "outputs": [],
   "source": [
    "get_opt_aln(subgraph)"
   ]
  },
  {
   "cell_type": "code",
   "execution_count": null,
   "id": "e0acd0e1",
   "metadata": {},
   "outputs": [],
   "source": [
    "g2.adj_list[16][16]"
   ]
  },
  {
   "cell_type": "code",
   "execution_count": null,
   "id": "a6347e6a",
   "metadata": {},
   "outputs": [],
   "source": []
  },
  {
   "cell_type": "code",
   "execution_count": null,
   "id": "20f3f3d7",
   "metadata": {},
   "outputs": [],
   "source": [
    "ag.idx_to_node[169]"
   ]
  },
  {
   "cell_type": "code",
   "execution_count": null,
   "id": "9c4f8571",
   "metadata": {},
   "outputs": [],
   "source": [
    "ag.idx_to_edge[538]"
   ]
  },
  {
   "cell_type": "code",
   "execution_count": null,
   "id": "9456ec93",
   "metadata": {},
   "outputs": [],
   "source": []
  },
  {
   "cell_type": "code",
   "execution_count": null,
   "id": "12165dec",
   "metadata": {
    "scrolled": true
   },
   "outputs": [],
   "source": [
    "xx = []\n",
    "for cons in model1.getConstrs():\n",
    "    if cons.rhs == 15:\n",
    "        c = model1.getRow(cons)\n",
    "        ss = \"\"\n",
    "        sumx = 0\n",
    "        for i in range(c.size()):\n",
    "            ss += str(c.getCoeff(i)) + c.getVar(i).VarName + \" + \"\n",
    "            xidx = int(c.getVar(i).VarName.lstrip(\"x[\").rstrip(\"]\"))\n",
    "            n1, n2, cost, w = ag.idx_to_edge[xidx]\n",
    "            u1,u2 = ag.idx_to_node[n1]\n",
    "            v1,v2 = ag.idx_to_node[n2]\n",
    "            if u2 == v2 and u2 == 16:\n",
    "                if xidx in xs2:\n",
    "                    sumx += xs2[xidx]\n",
    "                    print(i,u1,v1,u2,v2,xs2[xidx])\n",
    "                    xx.append(xidx)\n",
    "#         print(sumx)\n",
    "#         print(ss)"
   ]
  },
  {
   "cell_type": "code",
   "execution_count": null,
   "id": "6d12b3c2",
   "metadata": {},
   "outputs": [],
   "source": [
    "sumx"
   ]
  },
  {
   "cell_type": "code",
   "execution_count": null,
   "id": "358ffc8d",
   "metadata": {},
   "outputs": [],
   "source": [
    "xx"
   ]
  },
  {
   "cell_type": "code",
   "execution_count": null,
   "id": "2a55748a",
   "metadata": {},
   "outputs": [],
   "source": []
  },
  {
   "cell_type": "code",
   "execution_count": null,
   "id": "8ab0e883",
   "metadata": {},
   "outputs": [],
   "source": [
    "xs2[34280]"
   ]
  },
  {
   "cell_type": "markdown",
   "id": "fa274d6d",
   "metadata": {},
   "source": [
    "## later"
   ]
  },
  {
   "cell_type": "code",
   "execution_count": null,
   "id": "0fce5f95",
   "metadata": {},
   "outputs": [],
   "source": [
    "g1 = Graph(fname=data_dir+\"test_graph1.gfa\")\n",
    "g2 = Graph(fname=data_dir+\"test_graph2.gfa\")\n",
    "\n",
    "start = time.time()\n",
    "ag = Alignment_Graph(g1, g2)\n",
    "\n",
    "time1 = time.time() - start\n",
    "start = time.time()\n",
    "\n",
    "model1 = GTED_ilp(ag, g1, g2, \"test.lp\", True)\n",
    "\n",
    "time2 = time.time() - start\n",
    "\n",
    "gted = model.getObjective().getValue()\n",
    "\n",
    "start = time.time()        \n",
    "model2 = CCTED_ilp(ag, g1, g2, \"test.lp\", True)\n",
    "time3 = time.time() - start\n",
    "\n",
    "ccted = model.getObjective().getValue()"
   ]
  },
  {
   "cell_type": "code",
   "execution_count": null,
   "id": "64b62094",
   "metadata": {
    "scrolled": false
   },
   "outputs": [],
   "source": [
    "for d in model1.getVars():\n",
    "    if \"d\" in d.VarName and d.x != 0:\n",
    "        eid = int(d.VarName.lstrip(\"d[\").rstrip(\"]\"))\n",
    "        print(ag.idx_to_edge[eid])\n",
    "        print(d)\n",
    "        \n",
    "    if \"x\" in d.VarName and d.x != 0:\n",
    "        eid = int(d.VarName.lstrip(\"x[\").rstrip(\"]\"))\n",
    "        print(ag.idx_to_edge[eid])\n",
    "        print(d)\n",
    "        \n",
    "    if \"y\" in d.VarName and d.x != 0:\n",
    "        eid = int(d.VarName.lstrip(\"y[\").rstrip(\"]\"))\n",
    "        print(ag.idx_to_edge[eid])\n",
    "        print(d)"
   ]
  },
  {
   "cell_type": "code",
   "execution_count": null,
   "id": "111823cc",
   "metadata": {},
   "outputs": [],
   "source": []
  },
  {
   "cell_type": "code",
   "execution_count": null,
   "id": "93e84bd4",
   "metadata": {},
   "outputs": [],
   "source": [
    "\n",
    "for i in range(length):\n",
    "    if random.choice(10) <= mut_rate:\n",
    "        print(True)"
   ]
  },
  {
   "cell_type": "code",
   "execution_count": 30,
   "id": "c23ba558",
   "metadata": {},
   "outputs": [
    {
     "data": {
      "image/png": "[encoded data removed]",
      "text/plain": [
       "<Figure size 720x360 with 2 Axes>"
      ]
     },
     "metadata": {
      "needs_background": "light"
     },
     "output_type": "display_data"
    }
   ],
   "source": [
    "import matplotlib.pyplot as plt\n",
    "import numpy as np\n",
    "\n",
    "# Generate some sample data\n",
    "x = np.linspace(0, 10, 100)\n",
    "y1 = np.sin(x)\n",
    "y2 = np.cos(x)\n",
    "\n",
    "# Create the figure and subplots\n",
    "fig, axs = plt.subplots(ncols=2, figsize=(10, 5))\n",
    "\n",
    "# Create the first subplot\n",
    "axs[0].plot(x, y1)\n",
    "axs[0].set_title('Sin(x)')\n",
    "axs[0].set_xlabel('x')\n",
    "axs[0].set_ylabel('y')\n",
    "\n",
    "# Create the second subplot\n",
    "axs[1].plot(x, y2)\n",
    "axs[1].set_title('Cos(x)')\n",
    "axs[1].set_xlabel('x')\n",
    "axs[1].set_ylabel('y')\n",
    "\n",
    "# Adjust the layout to make the first subplot larger\n",
    "axs[0].set_position([0.1, 0.1, 0.6, 0.8])\n",
    "axs[1].set_position([0.8, 0.1, 0.4, 0.8])\n",
    "\n",
    "\n",
    "# Show the plot\n",
    "plt.show()"
   ]
  },
  {
   "cell_type": "code",
   "execution_count": null,
   "id": "0afc1016",
   "metadata": {},
   "outputs": [],
   "source": []
  }
 ],
 "metadata": {
  "kernelspec": {
   "display_name": "Python 3",
   "language": "python",
   "name": "python3"
  },
  "language_info": {
   "codemirror_mode": {
    "name": "ipython",
    "version": 3
   },
   "file_extension": ".py",
   "mimetype": "text/x-python",
   "name": "python",
   "nbconvert_exporter": "python",
   "pygments_lexer": "ipython3",
   "version": "3.6.7"
  }
 },
 "nbformat": 4,
 "nbformat_minor": 5
}
