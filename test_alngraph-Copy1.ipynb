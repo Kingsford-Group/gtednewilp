{
 "cells": [
  {
   "cell_type": "code",
   "execution_count": 12,
   "id": "40a47696",
   "metadata": {},
   "outputs": [],
   "source": [
    "import sys, os\n",
    "sys.path.append(\"/home/yutongq/gtednewilp/libgraph\")\n",
    "\n",
    "from basic_graph import *\n",
    "from DeBruijnGraph import *\n",
    "from FGTED_utils_updated import *\n",
    "import gurobipy as gp\n",
    "from tqdm import tqdm\n",
    "import Levenshtein\n",
    "import time\n",
    "import pandas as pd\n",
    "from GTED_main import *\n",
    "from Bio import Align\n",
    "\n",
    "from numpy.random import poisson\n",
    "from numpy.random import normal\n",
    "import numpy.random as random \n",
    "import matplotlib.pyplot as plt\n",
    "\n",
    "import networkx as nx\n",
    "\n",
    "import time"
   ]
  },
  {
   "cell_type": "markdown",
   "id": "b4c0f197",
   "metadata": {},
   "source": [
    "### simulate segment duplication\n",
    "\n",
    "Given two sequences of length 100, randomly select 1 repeat seed of length #(seq_len) from each string and duplicate them #(num_copies) times. Insert the sequences back into each string #(num_copies) times at different locations with some random mutations."
   ]
  },
  {
   "cell_type": "code",
   "execution_count": 2,
   "id": "f5ea8a09",
   "metadata": {},
   "outputs": [],
   "source": [
    "def select_seed(s,length,mut_rate,not_loc = -1):\n",
    "    loc = int(not_loc)\n",
    "    while loc in range(not_loc, not_loc + length):\n",
    "        loc = random.choice(len(s)-length - 1)\n",
    "#     print(loc)\n",
    "    s = s[loc: loc+length]\n",
    "    return s, int(loc)\n",
    "\n",
    "def insert_mutation(s, mut_rate):\n",
    "    new_s = \"\"\n",
    "    for i in range(len(s)):\n",
    "        if random.choice(10) < mut_rate:\n",
    "            mut = random.choice([\"A\", \"T\", \"C\", \"G\", \"-\", \"-\"])\n",
    "            if mut != \"-\":\n",
    "                new_s += mut\n",
    "        else:\n",
    "            new_s += s[i]\n",
    "    return new_s"
   ]
  },
  {
   "cell_type": "code",
   "execution_count": 31,
   "id": "beed3bfa",
   "metadata": {},
   "outputs": [],
   "source": [
    "ilp=True\n",
    "data_dir = \"data/\"\n"
   ]
  },
  {
   "cell_type": "code",
   "execution_count": 32,
   "id": "950a7a41",
   "metadata": {
    "scrolled": false
   },
   "outputs": [
    {
     "name": "stdout",
     "output_type": "stream",
     "text": [
      "BBBDDDBBB 2\n",
      "BBBDDDBBB 15\n",
      "[('BBBDDDBBB', 2), ('BBBDDDBBB', 15)]\n",
      "BBBDDDBBB 9\n",
      "BBBDDDBBB 30\n",
      "[('BBBDDDBBB', 9), ('BBBDDDBBB', 30)]\n",
      "GABBBDDDBBBTACTGGAGTCTCCBBBDDDBBBCAGGACCCCAGACACAA\n",
      "GATACTGGABBBDDDBBBGTCTCCCAGGACCCCAGACACBBBDDDBBBAA\n",
      "0 30 50 50\n",
      "Gurobi Optimizer version 9.1.2 build v9.1.2rc0 (linux64)\n",
      "Thread count: 44 physical cores, 88 logical processors, using up to 32 threads\n",
      "Optimize a model with 1574 rows, 6224 columns and 20362 nonzeros\n",
      "Model fingerprint: 0x70d52972\n",
      "Variable types: 0 continuous, 6224 integer (0 binary)\n",
      "Coefficient statistics:\n",
      "  Matrix range     [1e+00, 1e+00]\n",
      "  Objective range  [1e+00, 1e+00]\n",
      "  Bounds range     [0e+00, 0e+00]\n",
      "  RHS range        [1e+00, 2e+00]\n",
      "Presolve removed 0 rows and 659 columns\n",
      "Presolve time: 0.03s\n",
      "Presolved: 1574 rows, 5565 columns, 18561 nonzeros\n",
      "Variable types: 0 continuous, 5565 integer (4977 binary)\n",
      "Found heuristic solution: objective 104.0000000\n",
      "\n",
      "Root relaxation: objective 1.200000e+01, 873 iterations, 0.04 seconds\n",
      "\n",
      "    Nodes    |    Current Node    |     Objective Bounds      |     Work\n",
      " Expl Unexpl |  Obj  Depth IntInf | Incumbent    BestBd   Gap | It/Node Time\n",
      "\n",
      "*    0     0               0      12.0000000   12.00000  0.00%     -    0s\n",
      "\n",
      "Explored 0 nodes (873 simplex iterations) in 0.11 seconds\n",
      "Thread count was 32 (of 88 available processors)\n",
      "\n",
      "Solution count 2: 12 104 \n",
      "\n",
      "Optimal solution found (tolerance 1.00e-04)\n",
      "Best objective 1.200000000000e+01, best bound 1.200000000000e+01, gap 0.0000%\n",
      "Gurobi Optimizer version 9.1.2 build v9.1.2rc0 (linux64)\n",
      "Thread count: 44 physical cores, 88 logical processors, using up to 32 threads\n",
      "Optimize a model with 40402 rows, 18672 columns and 94792 nonzeros\n",
      "Model fingerprint: 0x48d2f905\n",
      "Variable types: 0 continuous, 18672 integer (6224 binary)\n",
      "Coefficient statistics:\n",
      "  Matrix range     [1e+00, 6e+03]\n",
      "  Objective range  [1e+00, 1e+00]\n",
      "  Bounds range     [1e+00, 1e+00]\n",
      "  RHS range        [1e+00, 6e+03]\n",
      "Presolve removed 30531 rows and 5648 columns\n",
      "Presolve time: 0.13s\n",
      "Presolved: 9871 rows, 13024 columns, 54393 nonzeros\n",
      "Variable types: 0 continuous, 13024 integer (6287 binary)\n",
      "\n",
      "Root simplex log...\n",
      "\n",
      "Iteration    Objective       Primal Inf.    Dual Inf.      Time\n",
      "   13761    1.2004817e+01   0.000000e+00   3.952236e+03      5s\n",
      "   19283    1.2004830e+01   0.000000e+00   0.000000e+00      8s\n",
      "\n",
      "Root relaxation: objective 1.200483e+01, 19283 iterations, 7.91 seconds\n",
      "\n",
      "    Nodes    |    Current Node    |     Objective Bounds      |     Work\n",
      " Expl Unexpl |  Obj  Depth IntInf | Incumbent    BestBd   Gap | It/Node Time\n",
      "\n",
      "     0     0   12.00483    0  204          -   12.00483      -     -    8s\n",
      "     0     0   12.00483    0  207          -   12.00483      -     -    9s\n",
      "     0     0   12.00483    0  208          -   12.00483      -     -    9s\n",
      "     0     0   12.00483    0  236          -   12.00483      -     -   10s\n",
      "     0     0   12.00483    0  232          -   12.00483      -     -   12s\n",
      "     0     0   12.00483    0  232          -   12.00483      -     -   12s\n",
      "     0     0   12.00483    0  232          -   12.00483      -     -   12s\n",
      "     0     0   12.00483    0  232          -   12.00483      -     -   13s\n",
      "     0     2   12.00547    0  232          -   12.00547      -     -   20s\n",
      "     1     4   12.01960    1  225          -   12.00547      - 60452  111s\n",
      "     3     8   13.01125    2  258          -   12.00676      - 62745  186s\n",
      "     7    16   13.01125    3  252          -   12.00676      - 38112  243s\n",
      "    15    30   13.01125    4  249          -   12.00676      - 24244  401s\n",
      "    31    54  postponed    5               -   12.00965      - 30015  427s\n",
      "*   60    54               5      91.0000000   12.00966  86.8% 20941  427s\n",
      "H   61    86                      38.0000000   12.00966  68.4% 20598  521s\n",
      "H   65    86                      16.0000000   12.00966  24.9% 19879  521s\n",
      "    93    73     cutoff    7        16.00000   12.00966  24.9% 19443  572s\n",
      "   125    62     cutoff    7        16.00000   12.00966  24.9% 16033  626s\n",
      "   189    33   13.01157    8   88   16.00000   12.00966  24.9% 11104  676s\n",
      "   266    33   14.00965   10  103   16.00000   12.01544  24.9%  8433  688s\n",
      "   301    23 infeasible   11        16.00000   13.00772  18.7%  7650  721s\n",
      "   338    13   13.00772    8  122   16.00000   13.00772  18.7%  6960  746s\n",
      "   380     6   14.01544   10   77   16.00000   13.01157  18.7%  6286  751s\n",
      "   410     5  postponed   14        16.00000   13.01157  18.7%  5865  766s\n",
      "   416     4 infeasible   15        16.00000   13.02218  18.6%  5818  770s\n",
      "   443     2 infeasible   26        16.00000   13.03055  18.6%  5499  775s\n",
      "\n",
      "Cutting planes:\n",
      "  Cover: 4\n",
      "  Implied bound: 7\n",
      "  MIR: 3\n",
      "  Flow cover: 4\n",
      "  Inf proof: 2\n",
      "  Mod-K: 1\n",
      "  Relax-and-lift: 2\n",
      "\n",
      "Explored 451 nodes (2463560 simplex iterations) in 775.69 seconds\n",
      "Thread count was 32 (of 88 available processors)\n",
      "\n",
      "Solution count 3: 16 38 91 \n",
      "\n",
      "Optimal solution found (tolerance 1.00e-04)\n",
      "Best objective 1.600000000000e+01, best bound 1.600000000000e+01, gap 0.0000%\n",
      "simulated279 simulated279 0 16.0 12.0\n"
     ]
    }
   ],
   "source": [
    "\n",
    "graph_files = [data_dir + f for f in os.listdir(data_dir) if \"4.gfa\" in f]\n",
    "\n",
    "seg_len = 15\n",
    "mut_rate = 0\n",
    "num_copies = 3\n",
    "nucs = []\n",
    "\n",
    "length1 = int(normal(seg_len, 2))\n",
    "length2 = int(normal(seg_len, 2))\n",
    "# mut_rate = poisson(mut_rate)\n",
    "# num_copies1 = poisson(num_copies)\n",
    "num_copies1 = 2\n",
    "\n",
    "i = 0\n",
    "out_dict = defaultdict(list)\n",
    "\n",
    "# for file1 in graph_files[1:5]:\n",
    "j = 0\n",
    "#     for file2 in graph_files[1:5]: \n",
    "file1 = graph_files[0]\n",
    "file2 = graph_files[0]\n",
    "prefix1 = file1.split(\"/\")[-1].split(\".\")[0] \n",
    "prefix2 = file2.split(\"/\")[-1].split(\".\")[0]\n",
    "\n",
    "graph1 = Graph(fname = file1)\n",
    "graph2 = Graph(fname = file2)\n",
    "\n",
    "ed, s1, s2 = get_str_dist(graph1, graph2)\n",
    "\n",
    "s1_seed1, loc = select_seed(s1, length1,5)\n",
    "s1_seed2, loc = select_seed(s1, length1,5, loc)\n",
    "s2_seed1, loc = select_seed(s2, length2,5)\n",
    "s2_seed2, loc = select_seed(s2, length2,5, loc)\n",
    "\n",
    "s1_seed1 = \"BBBDDDBBB\"\n",
    "\n",
    "locs = [[2, 15], [9, 30]]\n",
    "\n",
    "str_list = [s1,s2]\n",
    "for i,s in enumerate(str_list):\n",
    "    inserted_locs =set([0])\n",
    "    inserted_locs2 = []\n",
    "    new_seed = []\n",
    "    for seed in [s1_seed1]:\n",
    "        #, s1_seed2, s2_seed1, s2_seed2]:\n",
    "        for _ in range(num_copies1):\n",
    "            new_s = insert_mutation(seed, mut_rate)\n",
    "#             loc = random.choice(100)\n",
    "# #                 print(loc, inserted_locs[i])\n",
    "#             while loc in inserted_locs:\n",
    "#                 loc = int(random.choice(100))\n",
    "#             for l in range(loc, loc+len(new_s)):\n",
    "#                 inserted_locs.add(l)\n",
    "#             inserted_locs2.append(loc)\n",
    "            new_seed.append(new_s)\n",
    "\n",
    "    total_increased = 0\n",
    "    seed_loc = sorted([(i,j) for i,j in zip(new_seed, locs[i])], key=lambda x: x[1])\n",
    "    for seed, loc in seed_loc:\n",
    "        print(seed, loc)\n",
    "        new_loc = loc + total_increased\n",
    "        str_list[i] = str_list[i][:new_loc] + seed + str_list[i][new_loc:]\n",
    "        total_increased += len(seed)\n",
    "    print(seed_loc)\n",
    "s11 = str_list[0][:50]\n",
    "s22 = str_list[1][:50]\n",
    "print(s11)\n",
    "print(s22)\n",
    "print(ed, Levenshtein.distance(s11, s22), len(s11), len(s22))\n",
    "\n",
    "g1 = DeBruijnGraph(seqids = [(1,1)], seqs=[s11], k=4)\n",
    "g2 = DeBruijnGraph(seqids = [(1,1)], seqs=[s22], k=4)\n",
    "\n",
    "out_dict[\"s1\"].append(s11)\n",
    "out_dict[\"s2\"].append(s22)\n",
    "\n",
    "g1.to_gfa_multi(data_dir+prefix1 + \"_mut_%i_%i\" % (i,j)+\"_1\" + \".gfa\")\n",
    "g2.to_gfa_multi(data_dir+prefix2 + \"_mut_%i_%i\" % (i,j) +\"_2\" \".gfa\")\n",
    "\n",
    "start = time.time()\n",
    "\n",
    "ag = Alignment_Graph(g1, g2)\n",
    "\n",
    "time1 = time.time() - start\n",
    "\n",
    "\n",
    "start = time.time()        \n",
    "model2 = CCTED_ilp(ag, g1, g2, \"test.lp\", ilp)\n",
    "time3 = time.time() - start\n",
    "\n",
    "ccted = model2.getObjective().getValue()\n",
    "\n",
    "\n",
    "start = time.time()\n",
    "\n",
    "model1 = GTED_ilp(ag, g1, g2, \"test.lp\", ilp)\n",
    "\n",
    "time2 = time.time() - start\n",
    "\n",
    "gted = model1.getObjective().getValue()\n",
    "\n",
    "ed, s1, s2 = get_str_dist(graph1,graph2)\n",
    "out_dict[\"edit_distance\"].append(ed)\n",
    "out_dict[\"gted\"].append(gted)\n",
    "out_dict[\"ccted\"].append(ccted)\n",
    "out_dict[\"time_ag\"].append(time1)\n",
    "out_dict[\"time_gted\"].append(time2)\n",
    "out_dict[\"time_ccted\"].append(time3)\n",
    "out_dict[\"g1\"].append(prefix1 + \"_mut_%i_%i\" % (i,j))\n",
    "out_dict[\"g2\"].append(prefix2 + \"_mut_%i_%i\" % (i,j))\n",
    "\n",
    "print(prefix1, prefix2, ed, gted, ccted)\n",
    "\n",
    "j += 1\n",
    "\n",
    "i += 1\n",
    "    \n",
    "\n",
    "# df = pd.DataFrame(out_dict, columns=[\"g1\",\"g2\", \"edit_distance\", \"gted\", \"ccted\", \"time_ag\", \"time_gted\", \"time_ccted\"])\n",
    "# df.to_csv(\"mut_lp_output\")        "
   ]
  },
  {
   "cell_type": "code",
   "execution_count": 9,
   "id": "ba8ad00f",
   "metadata": {},
   "outputs": [
    {
     "data": {
      "text/plain": [
       "('GABBBDDDBBBTACTGGAGTCTCCCAGGACCCCAGACACAAGATCACAAA',\n",
       " 'GATACTGGABBBDDDBBBGTCTCCCAGGACCCCAGACACAAGATCACAAA')"
      ]
     },
     "execution_count": 9,
     "metadata": {},
     "output_type": "execute_result"
    }
   ],
   "source": [
    "g1.seqs[0], g2.seqs[0]"
   ]
  },
  {
   "cell_type": "code",
   "execution_count": 10,
   "id": "bed914fa",
   "metadata": {},
   "outputs": [],
   "source": [
    "ds = dict()\n",
    "xs1 = dict()\n",
    "for v in model1.getVars():\n",
    "    if v.x > 0:\n",
    "        if \"d\" in v.VarName:\n",
    "            idx = int(v.VarName.lstrip(\"d[\").rstrip(\"]\"))\n",
    "            ds[idx] = v.x\n",
    "        if \"x\" in v.VarName:\n",
    "            idx = int(v.VarName.lstrip(\"x[\").rstrip(\"]\"))\n",
    "            xs1[idx] = v.x"
   ]
  },
  {
   "cell_type": "code",
   "execution_count": 11,
   "id": "7fdd026f",
   "metadata": {},
   "outputs": [],
   "source": [
    "xs2 = dict()\n",
    "for v in model2.getVars():\n",
    "    if v.x > 0:\n",
    "        if \"x\" in v.VarName:\n",
    "            idx = int(v.VarName.lstrip(\"x[\").rstrip(\"]\"))\n",
    "            xs2[idx] = v.x"
   ]
  },
  {
   "cell_type": "code",
   "execution_count": 13,
   "id": "4287b607",
   "metadata": {},
   "outputs": [
    {
     "name": "stdout",
     "output_type": "stream",
     "text": [
      "1069\n",
      "1069\n"
     ]
    }
   ],
   "source": [
    "subgraph1 = nx.MultiDiGraph()\n",
    "\n",
    "for idx in xs1:\n",
    "    n1,n2,c,w = ag.idx_to_edge[idx]\n",
    "    if n1 == n2:\n",
    "        print(n1)\n",
    "    for _ in range(int(xs1[idx])):\n",
    "        subgraph1.add_edge(n1,n2)\n",
    "\n",
    "subgraph2 = nx.MultiDiGraph()\n",
    "\n",
    "for idx in xs2:\n",
    "    n1,n2,c,w = ag.idx_to_edge[idx]\n",
    "    if n1 == n2:\n",
    "        print(n1)\n",
    "    for _ in range(int(xs2[idx])):\n",
    "        subgraph2.add_edge(n1,n2)"
   ]
  },
  {
   "cell_type": "code",
   "execution_count": 14,
   "id": "8bded664",
   "metadata": {},
   "outputs": [
    {
     "name": "stdout",
     "output_type": "stream",
     "text": [
      "1560\n",
      "1561\n",
      "1560\n",
      "1561\n"
     ]
    }
   ],
   "source": [
    "for node in subgraph1:\n",
    "    if subgraph1.in_degree[node]!=subgraph1.out_degree[node]:\n",
    "        print(node)\n",
    "\n",
    "\n",
    "for node in subgraph2:\n",
    "    if subgraph2.in_degree[node]!=subgraph2.out_degree[node]:\n",
    "        print(node)"
   ]
  },
  {
   "cell_type": "code",
   "execution_count": 15,
   "id": "ceb2d557",
   "metadata": {},
   "outputs": [
    {
     "data": {
      "text/plain": [
       "0"
      ]
     },
     "execution_count": 15,
     "metadata": {},
     "output_type": "execute_result"
    }
   ],
   "source": [
    "subgraph1.add_edge(1561, 1560)\n",
    "subgraph2.add_edge(1561, 1560)"
   ]
  },
  {
   "cell_type": "code",
   "execution_count": 26,
   "id": "22e7c05d",
   "metadata": {},
   "outputs": [
    {
     "data": {
      "image/png": "[encoded data removed]",
      "text/plain": [
       "<Figure size 432x288 with 1 Axes>"
      ]
     },
     "metadata": {},
     "output_type": "display_data"
    }
   ],
   "source": [
    "nx.draw(subgraph1)"
   ]
  },
  {
   "cell_type": "code",
   "execution_count": 17,
   "id": "d5c10a56",
   "metadata": {},
   "outputs": [
    {
     "data": {
      "image/png": "[encoded data removed]",
      "text/plain": [
       "<Figure size 432x288 with 1 Axes>"
      ]
     },
     "metadata": {},
     "output_type": "display_data"
    }
   ],
   "source": [
    "nx.draw(subgraph2)"
   ]
  },
  {
   "cell_type": "code",
   "execution_count": 18,
   "id": "422a3086",
   "metadata": {},
   "outputs": [
    {
     "name": "stdout",
     "output_type": "stream",
     "text": [
      "14\n",
      "GAB-BBDDDBBBTACTGGAGTCTCCCCAGATCACACAAGACCCAGGACAAAt#\n",
      "GATACTGGABBB-DDDBBBGTCTCCCCAGATCACACAAGACCCAGGACAAAt#\n"
     ]
    }
   ],
   "source": [
    "subgraphs1_sub = [nx.induced_subgraph(subgraph1, s) for s in nx.strongly_connected_components(subgraph1)]\n",
    "for subgraph in subgraphs1_sub:\n",
    "    p1 = []\n",
    "    p2 = []\n",
    "    for edge in nx.eulerian_circuit(subgraph):\n",
    "        if ag.idx_to_node[edge[1]] != 0 and ag.idx_to_node[edge[1]] != 1:\n",
    "            p1.append(ag.idx_to_node[edge[1]][0])\n",
    "            p2.append(ag.idx_to_node[edge[1]][1])    \n",
    "\n",
    "    s1 = \"\"\n",
    "    for i in range(len(p1)-1):\n",
    "        e1 = (p1[i], p1[i+1])\n",
    "        if e1 not in g1.edge_labels:\n",
    "            s1 += \"-\"\n",
    "        else:\n",
    "            s1 += (g1.edge_labels[e1])\n",
    "    s2 = \"\"\n",
    "    for i in range(len(p2)-1):\n",
    "        e2 = (p2[i], p2[i+1])\n",
    "        if e2 not in g2.edge_labels:\n",
    "            s2 += \"-\"\n",
    "        else:\n",
    "            s2 += g2.edge_labels[e2]\n",
    "\n",
    "    print(Levenshtein.distance(s1, s2))\n",
    "    print(s1)\n",
    "    print(s2)"
   ]
  },
  {
   "cell_type": "code",
   "execution_count": 19,
   "id": "0cc5dc18",
   "metadata": {},
   "outputs": [],
   "source": [
    "subgraphs2_sub = [nx.induced_subgraph(subgraph2, s) for s in nx.strongly_connected_components(subgraph2)]"
   ]
  },
  {
   "cell_type": "code",
   "execution_count": 20,
   "id": "90b70350",
   "metadata": {},
   "outputs": [
    {
     "name": "stdout",
     "output_type": "stream",
     "text": [
      "6\n",
      "GABBBTACTGGA---GTCTCCCCAGATCACACAAGACCCAGGACAAAt#\n",
      "GA---TACTGGABBBGTCTCCCCAGATCACACAAGACCCAGGACAAAt#\n",
      "0\n",
      "DDBBB\n",
      "DDBBB\n"
     ]
    }
   ],
   "source": [
    "for subgraph in subgraphs2_sub:\n",
    "    p1 = []\n",
    "    p2 = []\n",
    "    for edge in nx.eulerian_circuit(subgraph):\n",
    "        if ag.idx_to_node[edge[1]] != 0 and ag.idx_to_node[edge[1]] != 1:\n",
    "            p1.append(ag.idx_to_node[edge[1]][0])\n",
    "            p2.append(ag.idx_to_node[edge[1]][1])    \n",
    "\n",
    "    s1 = \"\"\n",
    "    for i in range(len(p1)-1):\n",
    "        e1 = (p1[i], p1[i+1])\n",
    "        if e1 not in g1.edge_labels:\n",
    "            s1 += \"-\"\n",
    "        else:\n",
    "            s1 += (g1.edge_labels[e1])\n",
    "    s2 = \"\"\n",
    "    for i in range(len(p2)-1):\n",
    "        e2 = (p2[i], p2[i+1])\n",
    "        if e2 not in g2.edge_labels:\n",
    "            s2 += \"-\"\n",
    "        else:\n",
    "            s2 += g2.edge_labels[e2]\n",
    "\n",
    "    print(Levenshtein.distance(s1, s2))\n",
    "    print(s1)\n",
    "    print(s2)"
   ]
  },
  {
   "cell_type": "code",
   "execution_count": 244,
   "id": "bf13c816",
   "metadata": {},
   "outputs": [
    {
     "name": "stdout",
     "output_type": "stream",
     "text": [
      "D\n",
      "D\n",
      "D\n",
      "D\n",
      "D\n",
      "B\n",
      "B\n",
      "B\n",
      "B\n",
      "B\n",
      "B\n",
      "B\n",
      "B\n"
     ]
    }
   ],
   "source": []
  },
  {
   "cell_type": "code",
   "execution_count": 246,
   "id": "c030e96d",
   "metadata": {},
   "outputs": [
    {
     "name": "stdout",
     "output_type": "stream",
     "text": [
      "D\n",
      "D\n",
      "D\n",
      "D\n",
      "D\n",
      "B\n",
      "B\n",
      "B\n",
      "B\n",
      "B\n",
      "B\n",
      "B\n",
      "B\n"
     ]
    }
   ],
   "source": []
  },
  {
   "cell_type": "code",
   "execution_count": 157,
   "id": "8dd75016",
   "metadata": {},
   "outputs": [
    {
     "data": {
      "text/plain": [
       "OutEdgeView([(0, 244), (0, 14763), (244, 366), (122, 0), (366, 488), (488, 610), (610, 732), (732, 854), (854, 976), (854, 1098), (976, 5124), (1098, 1220), (1098, 1342), (5124, 5246), (5124, 5368), (1220, 3294), (1342, 1464), (3294, 3416), (3294, 3538), (1296, 10493), (10493, 10615), (1464, 1586), (1586, 1708), (1586, 1830), (1708, 14517), (1830, 1952), (1830, 2074), (1830, 2196), (14517, 14639), (1952, 6466), (1952, 6588), (1952, 6710), (2074, 2318), (2074, 2440), (2074, 2562), (2196, 122), (6466, 12565), (6588, 6830), (6710, 5490), (6710, 5734), (2318, 9755), (2318, 4148), (2440, 13663), (2562, 2684), (2562, 2806), (9755, 9877), (9755, 9999), (4148, 4270), (4148, 4392), (13663, 13785), (2684, 6710), (2806, 2928), (2806, 3050), (2928, 13175), (3050, 3172), (13175, 13297), (3172, 3294), (3416, 13053), (3538, 3660), (13053, 1952), (3660, 3782), (3782, 3904), (3782, 4026), (3904, 12809), (4026, 4148), (12809, 12931), (4270, 4758), (4270, 4880), (4392, 4514), (4758, 6222), (4758, 4758), (4758, 12198), (4880, 5002), (4514, 4636), (4636, 854), (6222, 1830), (12198, 12301), (5002, 5124), (5246, 12687), (5368, 5490), (12687, 2806), (5490, 5612), (5490, 5734), (5612, 12565), (5734, 5856), (5734, 5978), (12565, 4148), (12565, 9755), (5856, 6344), (5978, 6100), (6344, 1952), (6100, 6222), (6830, 6951), (6951, 7072), (7072, 7193), (7193, 7437), (7221, 7221), (7221, 7343), (7343, 11954), (7437, 7559), (11954, 12076), (7559, 7681), (7681, 7803), (7803, 7925), (7925, 8047), (8047, 8169), (8047, 8291), (8169, 8413), (8291, 1586), (8413, 8535), (8535, 8657), (8657, 8779), (8657, 8901), (8657, 9023), (8779, 11716), (8901, 11594), (9023, 9145), (11716, 11838), (11716, 2562), (11594, 11716), (9145, 9267), (9267, 9389), (9267, 9511), (9389, 10121), (9511, 9633), (10121, 10122), (9633, 9755), (9877, 8535), (9999, 2074), (10122, 10123), (10123, 10124), (10124, 10125), (10125, 10248), (10248, 10370), (10370, 1296), (10615, 10737), (10737, 10859), (10859, 10981), (10981, 11103), (11103, 11225), (11225, 11347), (11347, 11469), (11469, 9267), (11838, 8047), (12076, 4758), (12301, 12423), (12423, 7221), (12931, 9877), (13297, 13419), (13419, 13541), (13541, 6222), (13785, 13907), (13907, 14029), (14029, 14151), (14151, 14273), (14273, 14395), (14395, 1098), (14639, 14761), (14761, 3294), (14762, 0)])"
      ]
     },
     "execution_count": 157,
     "metadata": {},
     "output_type": "execute_result"
    }
   ],
   "source": [
    "subgraph2.out_edges"
   ]
  },
  {
   "cell_type": "code",
   "execution_count": 77,
   "id": "e0acd0e1",
   "metadata": {},
   "outputs": [
    {
     "data": {
      "text/plain": [
       "15"
      ]
     },
     "execution_count": 77,
     "metadata": {},
     "output_type": "execute_result"
    }
   ],
   "source": [
    "g2.adj_list[16][16]"
   ]
  },
  {
   "cell_type": "code",
   "execution_count": 83,
   "id": "a6347e6a",
   "metadata": {},
   "outputs": [
    {
     "data": {
      "text/plain": [
       "'R531984'"
      ]
     },
     "execution_count": 83,
     "metadata": {},
     "output_type": "execute_result"
    }
   ],
   "source": []
  },
  {
   "cell_type": "code",
   "execution_count": 112,
   "id": "20f3f3d7",
   "metadata": {},
   "outputs": [
    {
     "data": {
      "text/plain": [
       "(1, 16)"
      ]
     },
     "execution_count": 112,
     "metadata": {},
     "output_type": "execute_result"
    }
   ],
   "source": [
    "ag.idx_to_node[169]"
   ]
  },
  {
   "cell_type": "code",
   "execution_count": 111,
   "id": "9c4f8571",
   "metadata": {},
   "outputs": [
    {
     "data": {
      "text/plain": [
       "(169, 169, 1, 15)"
      ]
     },
     "execution_count": 111,
     "metadata": {},
     "output_type": "execute_result"
    }
   ],
   "source": [
    "ag.idx_to_edge[538]"
   ]
  },
  {
   "cell_type": "code",
   "execution_count": null,
   "id": "9456ec93",
   "metadata": {},
   "outputs": [],
   "source": []
  },
  {
   "cell_type": "code",
   "execution_count": 124,
   "id": "12165dec",
   "metadata": {
    "scrolled": true
   },
   "outputs": [
    {
     "name": "stdout",
     "output_type": "stream",
     "text": [
      "33 64 64 16 16 15.0\n",
      "141 64 64 16 16 15.0\n"
     ]
    }
   ],
   "source": [
    "xx = []\n",
    "for cons in model1.getConstrs():\n",
    "    if cons.rhs == 15:\n",
    "        c = model1.getRow(cons)\n",
    "        ss = \"\"\n",
    "        sumx = 0\n",
    "        for i in range(c.size()):\n",
    "            ss += str(c.getCoeff(i)) + c.getVar(i).VarName + \" + \"\n",
    "            xidx = int(c.getVar(i).VarName.lstrip(\"x[\").rstrip(\"]\"))\n",
    "            n1, n2, cost, w = ag.idx_to_edge[xidx]\n",
    "            u1,u2 = ag.idx_to_node[n1]\n",
    "            v1,v2 = ag.idx_to_node[n2]\n",
    "            if u2 == v2 and u2 == 16:\n",
    "                if xidx in xs2:\n",
    "                    sumx += xs2[xidx]\n",
    "                    print(i,u1,v1,u2,v2,xs2[xidx])\n",
    "                    xx.append(xidx)\n",
    "#         print(sumx)\n",
    "#         print(ss)"
   ]
  },
  {
   "cell_type": "code",
   "execution_count": 119,
   "id": "6d12b3c2",
   "metadata": {},
   "outputs": [
    {
     "data": {
      "text/plain": [
       "15.0"
      ]
     },
     "execution_count": 119,
     "metadata": {},
     "output_type": "execute_result"
    }
   ],
   "source": [
    "sumx"
   ]
  },
  {
   "cell_type": "code",
   "execution_count": 118,
   "id": "358ffc8d",
   "metadata": {},
   "outputs": [
    {
     "data": {
      "text/plain": [
       "[34280, 34280]"
      ]
     },
     "execution_count": 118,
     "metadata": {},
     "output_type": "execute_result"
    }
   ],
   "source": [
    "xx"
   ]
  },
  {
   "cell_type": "code",
   "execution_count": null,
   "id": "2a55748a",
   "metadata": {},
   "outputs": [],
   "source": []
  },
  {
   "cell_type": "code",
   "execution_count": 121,
   "id": "8ab0e883",
   "metadata": {},
   "outputs": [
    {
     "data": {
      "text/plain": [
       "15.0"
      ]
     },
     "execution_count": 121,
     "metadata": {},
     "output_type": "execute_result"
    }
   ],
   "source": [
    "xs2[34280]"
   ]
  },
  {
   "cell_type": "markdown",
   "id": "fa274d6d",
   "metadata": {},
   "source": [
    "## later"
   ]
  },
  {
   "cell_type": "code",
   "execution_count": 21,
   "id": "0fce5f95",
   "metadata": {},
   "outputs": [
    {
     "name": "stdout",
     "output_type": "stream",
     "text": [
      "Gurobi Optimizer version 9.1.2 build v9.1.2rc0 (linux64)\n",
      "Thread count: 44 physical cores, 88 logical processors, using up to 32 threads\n",
      "Optimize a model with 822 rows, 378 columns and 1899 nonzeros\n",
      "Model fingerprint: 0x6e79486c\n",
      "Variable types: 0 continuous, 378 integer (126 binary)\n",
      "Coefficient statistics:\n",
      "  Matrix range     [1e+00, 1e+02]\n",
      "  Objective range  [1e+00, 1e+00]\n",
      "  Bounds range     [1e+00, 1e+00]\n",
      "  RHS range        [1e+00, 1e+02]\n",
      "Presolve removed 640 rows and 140 columns\n",
      "Presolve time: 0.00s\n",
      "Presolved: 182 rows, 238 columns, 1011 nonzeros\n",
      "Variable types: 0 continuous, 238 integer (121 binary)\n",
      "Found heuristic solution: objective 12.0000000\n",
      "Found heuristic solution: objective 10.0000000\n",
      "\n",
      "Root relaxation: objective 4.761905e-02, 107 iterations, 0.00 seconds\n",
      "\n",
      "    Nodes    |    Current Node    |     Objective Bounds      |     Work\n",
      " Expl Unexpl |  Obj  Depth IntInf | Incumbent    BestBd   Gap | It/Node Time\n",
      "\n",
      "     0     0    0.04762    0    4   10.00000    0.04762   100%     -    0s\n",
      "H    0     0                       4.0000000    0.04762  98.8%     -    0s\n",
      "     0     0    0.06917    0   23    4.00000    0.06917  98.3%     -    0s\n",
      "H    0     0                       2.0000000    0.06917  96.5%     -    0s\n",
      "\n",
      "Cutting planes:\n",
      "  Gomory: 4\n",
      "  Cover: 2\n",
      "  Implied bound: 1\n",
      "  MIR: 7\n",
      "  StrongCG: 2\n",
      "  Flow cover: 14\n",
      "  Network: 3\n",
      "  RLT: 1\n",
      "  Relax-and-lift: 4\n",
      "\n",
      "Explored 1 nodes (165 simplex iterations) in 0.05 seconds\n",
      "Thread count was 32 (of 88 available processors)\n",
      "\n",
      "Solution count 4: 2 4 10 12 \n",
      "\n",
      "Optimal solution found (tolerance 1.00e-04)\n",
      "Best objective 2.000000000000e+00, best bound 2.000000000000e+00, gap 0.0000%\n",
      "Gurobi Optimizer version 9.1.2 build v9.1.2rc0 (linux64)\n",
      "Thread count: 44 physical cores, 88 logical processors, using up to 32 threads\n",
      "Optimize a model with 39 rows, 126 columns and 396 nonzeros\n",
      "Model fingerprint: 0x7bc8686f\n",
      "Variable types: 0 continuous, 126 integer (0 binary)\n",
      "Coefficient statistics:\n",
      "  Matrix range     [1e+00, 1e+00]\n",
      "  Objective range  [1e+00, 1e+00]\n",
      "  Bounds range     [0e+00, 0e+00]\n",
      "  RHS range        [1e+00, 1e+00]\n",
      "Found heuristic solution: objective 7.0000000\n",
      "Presolve removed 0 rows and 12 columns\n",
      "Presolve time: 0.00s\n",
      "Presolved: 39 rows, 114 columns, 360 nonzeros\n",
      "Found heuristic solution: objective 6.0000000\n",
      "Variable types: 0 continuous, 114 integer (114 binary)\n",
      "\n",
      "Root relaxation: objective 0.000000e+00, 14 iterations, 0.00 seconds\n",
      "\n",
      "    Nodes    |    Current Node    |     Objective Bounds      |     Work\n",
      " Expl Unexpl |  Obj  Depth IntInf | Incumbent    BestBd   Gap | It/Node Time\n",
      "\n",
      "*    0     0               0       0.0000000    0.00000  0.00%     -    0s\n",
      "\n",
      "Explored 0 nodes (14 simplex iterations) in 0.01 seconds\n",
      "Thread count was 32 (of 88 available processors)\n",
      "\n",
      "Solution count 3: 0 6 7 \n",
      "\n",
      "Optimal solution found (tolerance 1.00e-04)\n",
      "Best objective 0.000000000000e+00, best bound 0.000000000000e+00, gap 0.0000%\n"
     ]
    }
   ],
   "source": [
    "g1 = Graph(fname=data_dir+\"test_graph1.gfa\")\n",
    "g2 = Graph(fname=data_dir+\"test_graph2.gfa\")\n",
    "\n",
    "start = time.time()\n",
    "ag = Alignment_Graph(g1, g2)\n",
    "\n",
    "time1 = time.time() - start\n",
    "start = time.time()\n",
    "\n",
    "model1 = GTED_ilp(ag, g1, g2, \"test.lp\", True)\n",
    "\n",
    "time2 = time.time() - start\n",
    "\n",
    "gted = model.getObjective().getValue()\n",
    "\n",
    "start = time.time()        \n",
    "model2 = CCTED_ilp(ag, g1, g2, \"test.lp\", True)\n",
    "time3 = time.time() - start\n",
    "\n",
    "ccted = model.getObjective().getValue()"
   ]
  },
  {
   "cell_type": "code",
   "execution_count": 20,
   "id": "64b62094",
   "metadata": {
    "scrolled": false
   },
   "outputs": [
    {
     "name": "stdout",
     "output_type": "stream",
     "text": [
      "(0, 6, 0, 1)\n",
      "<gurobi.Var x[2] (value 1.0)>\n",
      "(6, 12, 0, 1)\n",
      "<gurobi.Var x[23] (value 1.0)>\n",
      "(8, 19, 0, 1)\n",
      "<gurobi.Var x[50] (value 1.0)>\n",
      "(12, 0, 0, 1)\n",
      "<gurobi.Var x[62] (value 1.0)>\n",
      "(19, 22, 0, 1)\n",
      "<gurobi.Var x[89] (value 1.0)>\n",
      "(22, 8, 0, 1)\n",
      "<gurobi.Var x[101] (value 1.0)>\n",
      "(25, 0, 0, 1)\n",
      "<gurobi.Var x[108] (value 1.0)>\n",
      "(0, 26, 0, 1)\n",
      "<gurobi.Var x[109] (value 1.0)>\n",
      "(6, 11, 1, 1)\n",
      "<gurobi.Var d[21] (value 1.0)>\n",
      "(7, 12, 1, 1)\n",
      "<gurobi.Var d[24] (value 2.0)>\n",
      "(8, 13, 1, 1)\n",
      "<gurobi.Var d[30] (value 1.0)>\n",
      "(11, 2, 1, 1)\n",
      "<gurobi.Var d[59] (value 1.0)>\n",
      "(12, 2, 1, 1)\n",
      "<gurobi.Var d[60] (value 3.0)>\n",
      "(13, 4, 1, 1)\n",
      "<gurobi.Var d[68] (value 1.0)>\n",
      "(19, 22, 0, 1)\n",
      "<gurobi.Var d[89] (value 1.0)>\n",
      "(22, 7, 1, 1)\n",
      "<gurobi.Var d[96] (value 2.0)>\n",
      "(25, 0, 0, 1)\n",
      "<gurobi.Var d[108] (value 1.0)>\n",
      "(0, 26, 0, 1)\n",
      "<gurobi.Var d[109] (value 3.0)>\n",
      "(2, 26, 0, 1)\n",
      "<gurobi.Var d[121] (value 4.0)>\n",
      "(4, 26, 0, 1)\n",
      "<gurobi.Var d[125] (value 1.0)>\n",
      "(0, 5, 1, 1)\n",
      "<gurobi.Var y[0] (value 1.0)>\n",
      "(0, 1, 1, 1)\n",
      "<gurobi.Var y[1] (value 1.0)>\n",
      "(0, 6, 0, 1)\n",
      "<gurobi.Var y[2] (value 1.0)>\n",
      "(1, 6, 1, 1)\n",
      "<gurobi.Var y[3] (value 1.0)>\n",
      "(1, 2, 1, 1)\n",
      "<gurobi.Var y[4] (value 1.0)>\n",
      "(1, 7, 0, 1)\n",
      "<gurobi.Var y[5] (value 1.0)>\n",
      "(2, 7, 1, 1)\n",
      "<gurobi.Var y[6] (value 1.0)>\n",
      "(2, 0, 1, 1)\n",
      "<gurobi.Var y[7] (value 1.0)>\n",
      "(2, 5, 1, 1)\n",
      "<gurobi.Var y[8] (value 1.0)>\n",
      "(2, 7, 1, 1)\n",
      "<gurobi.Var y[9] (value 1.0)>\n",
      "(2, 3, 1, 1)\n",
      "<gurobi.Var y[10] (value 1.0)>\n",
      "(2, 8, 1, 1)\n",
      "<gurobi.Var y[11] (value 1.0)>\n",
      "(3, 8, 1, 1)\n",
      "<gurobi.Var y[12] (value 1.0)>\n",
      "(3, 4, 1, 1)\n",
      "<gurobi.Var y[13] (value 1.0)>\n",
      "(3, 9, 1, 1)\n",
      "<gurobi.Var y[14] (value 1.0)>\n",
      "(4, 9, 1, 1)\n",
      "<gurobi.Var y[15] (value 1.0)>\n",
      "(4, 2, 1, 1)\n",
      "<gurobi.Var y[16] (value 1.0)>\n",
      "(4, 7, 1, 1)\n",
      "<gurobi.Var y[17] (value 1.0)>\n",
      "(5, 10, 1, 1)\n",
      "<gurobi.Var y[18] (value 1.0)>\n",
      "(5, 6, 1, 1)\n",
      "<gurobi.Var y[19] (value 1.0)>\n",
      "(5, 11, 0, 1)\n",
      "<gurobi.Var y[20] (value 1.0)>\n",
      "(6, 11, 1, 1)\n",
      "<gurobi.Var y[21] (value 0.9920634920634921)>\n",
      "(6, 7, 1, 1)\n",
      "<gurobi.Var y[22] (value 1.0)>\n",
      "(6, 12, 0, 1)\n",
      "<gurobi.Var y[23] (value 1.0)>\n",
      "(7, 12, 1, 1)\n",
      "<gurobi.Var y[24] (value 0.9841269841269841)>\n",
      "(7, 5, 1, 1)\n",
      "<gurobi.Var y[25] (value 1.0)>\n",
      "(7, 10, 1, 1)\n",
      "<gurobi.Var y[26] (value 1.0)>\n",
      "(7, 12, 1, 1)\n",
      "<gurobi.Var y[27] (value 1.0)>\n",
      "(7, 8, 1, 1)\n",
      "<gurobi.Var y[28] (value 1.0)>\n",
      "(7, 13, 1, 1)\n",
      "<gurobi.Var y[29] (value 1.0)>\n",
      "(8, 13, 1, 1)\n",
      "<gurobi.Var y[30] (value 0.9920634920634921)>\n",
      "(8, 9, 1, 1)\n",
      "<gurobi.Var y[31] (value 1.0)>\n",
      "(8, 14, 1, 1)\n",
      "<gurobi.Var y[32] (value 1.0)>\n",
      "(9, 14, 1, 1)\n",
      "<gurobi.Var y[33] (value 1.0)>\n",
      "(9, 7, 1, 1)\n",
      "<gurobi.Var y[34] (value 1.0)>\n",
      "(9, 12, 1, 1)\n",
      "<gurobi.Var y[35] (value 1.0)>\n",
      "(5, 15, 1, 1)\n",
      "<gurobi.Var y[36] (value 1.0)>\n",
      "(5, 6, 1, 1)\n",
      "<gurobi.Var y[37] (value 1.0)>\n",
      "(5, 16, 1, 1)\n",
      "<gurobi.Var y[38] (value 1.0)>\n",
      "(6, 16, 1, 1)\n",
      "<gurobi.Var y[39] (value 1.0)>\n",
      "(6, 7, 1, 1)\n",
      "<gurobi.Var y[40] (value 1.0)>\n",
      "(6, 17, 1, 1)\n",
      "<gurobi.Var y[41] (value 1.0)>\n",
      "(7, 17, 1, 1)\n",
      "<gurobi.Var y[42] (value 1.0)>\n",
      "(7, 5, 1, 1)\n",
      "<gurobi.Var y[43] (value 1.0)>\n",
      "(7, 15, 1, 1)\n",
      "<gurobi.Var y[44] (value 1.0)>\n",
      "(7, 17, 1, 1)\n",
      "<gurobi.Var y[45] (value 1.0)>\n",
      "(7, 8, 1, 1)\n",
      "<gurobi.Var y[46] (value 1.0)>\n",
      "(7, 18, 0, 1)\n",
      "<gurobi.Var y[47] (value 1.0)>\n",
      "(8, 18, 1, 1)\n",
      "<gurobi.Var y[48] (value 1.0)>\n",
      "(8, 9, 1, 1)\n",
      "<gurobi.Var y[49] (value 1.0)>\n",
      "(8, 19, 0, 1)\n",
      "<gurobi.Var y[50] (value 1.0)>\n",
      "(9, 19, 1, 1)\n",
      "<gurobi.Var y[51] (value 1.0)>\n",
      "(9, 7, 1, 1)\n",
      "<gurobi.Var y[52] (value 1.0)>\n",
      "(9, 17, 0, 1)\n",
      "<gurobi.Var y[53] (value 1.0)>\n",
      "(10, 0, 1, 1)\n",
      "<gurobi.Var y[54] (value 1.0)>\n",
      "(10, 11, 1, 1)\n",
      "<gurobi.Var y[55] (value 1.0)>\n",
      "(10, 1, 1, 1)\n",
      "<gurobi.Var y[56] (value 1.0)>\n",
      "(11, 1, 1, 1)\n",
      "<gurobi.Var y[57] (value 1.0)>\n",
      "(11, 12, 1, 1)\n",
      "<gurobi.Var y[58] (value 1.0)>\n",
      "(11, 2, 1, 1)\n",
      "<gurobi.Var y[59] (value 0.9920634920634921)>\n",
      "(12, 2, 1, 1)\n",
      "<gurobi.Var y[60] (value 0.9761904761904762)>\n",
      "(12, 10, 1, 1)\n",
      "<gurobi.Var y[61] (value 1.0)>\n",
      "(12, 0, 0, 1)\n",
      "<gurobi.Var y[62] (value 1.0)>\n",
      "(12, 2, 1, 1)\n",
      "<gurobi.Var y[63] (value 1.0)>\n",
      "(12, 13, 1, 1)\n",
      "<gurobi.Var y[64] (value 1.0)>\n",
      "(12, 3, 1, 1)\n",
      "<gurobi.Var y[65] (value 1.0)>\n",
      "(13, 3, 1, 1)\n",
      "<gurobi.Var y[66] (value 1.0)>\n",
      "(13, 14, 1, 1)\n",
      "<gurobi.Var y[67] (value 1.0)>\n",
      "(13, 4, 1, 1)\n",
      "<gurobi.Var y[68] (value 0.9920634920634921)>\n",
      "(14, 4, 1, 1)\n",
      "<gurobi.Var y[69] (value 1.0)>\n",
      "(14, 12, 1, 1)\n",
      "<gurobi.Var y[70] (value 1.0)>\n",
      "(14, 2, 1, 1)\n",
      "<gurobi.Var y[71] (value 1.0)>\n",
      "(15, 20, 1, 1)\n",
      "<gurobi.Var y[72] (value 1.0)>\n",
      "(15, 16, 1, 1)\n",
      "<gurobi.Var y[73] (value 1.0)>\n",
      "(15, 21, 1, 1)\n",
      "<gurobi.Var y[74] (value 1.0)>\n",
      "(16, 21, 1, 1)\n",
      "<gurobi.Var y[75] (value 1.0)>\n",
      "(16, 17, 1, 1)\n",
      "<gurobi.Var y[76] (value 1.0)>\n",
      "(16, 22, 1, 1)\n",
      "<gurobi.Var y[77] (value 1.0)>\n",
      "(17, 22, 1, 1)\n",
      "<gurobi.Var y[78] (value 1.0)>\n",
      "(17, 15, 1, 1)\n",
      "<gurobi.Var y[79] (value 1.0)>\n",
      "(17, 20, 1, 1)\n",
      "<gurobi.Var y[80] (value 1.0)>\n",
      "(17, 22, 1, 1)\n",
      "<gurobi.Var y[81] (value 1.0)>\n",
      "(17, 18, 1, 1)\n",
      "<gurobi.Var y[82] (value 1.0)>\n",
      "(17, 23, 0, 1)\n",
      "<gurobi.Var y[83] (value 1.0)>\n",
      "(18, 23, 1, 1)\n",
      "<gurobi.Var y[84] (value 1.0)>\n",
      "(18, 19, 1, 1)\n",
      "<gurobi.Var y[85] (value 1.0)>\n",
      "(18, 24, 0, 1)\n",
      "<gurobi.Var y[86] (value 1.0)>\n",
      "(19, 24, 1, 1)\n",
      "<gurobi.Var y[87] (value 1.0)>\n",
      "(19, 17, 1, 1)\n",
      "<gurobi.Var y[88] (value 1.0)>\n",
      "(19, 22, 0, 1)\n",
      "<gurobi.Var y[89] (value 0.9920634920634921)>\n",
      "(20, 5, 1, 1)\n",
      "<gurobi.Var y[90] (value 1.0)>\n",
      "(20, 21, 1, 1)\n",
      "<gurobi.Var y[91] (value 1.0)>\n",
      "(20, 6, 1, 1)\n",
      "<gurobi.Var y[92] (value 1.0)>\n",
      "(21, 6, 1, 1)\n",
      "<gurobi.Var y[93] (value 1.0)>\n",
      "(21, 22, 1, 1)\n",
      "<gurobi.Var y[94] (value 1.0)>\n",
      "(21, 7, 1, 1)\n",
      "<gurobi.Var y[95] (value 1.0)>\n",
      "(22, 7, 1, 1)\n",
      "<gurobi.Var y[96] (value 0.9841269841269841)>\n",
      "(22, 20, 1, 1)\n",
      "<gurobi.Var y[97] (value 1.0)>\n",
      "(22, 5, 1, 1)\n",
      "<gurobi.Var y[98] (value 1.0)>\n",
      "(22, 7, 1, 1)\n",
      "<gurobi.Var y[99] (value 1.0)>\n",
      "(22, 23, 1, 1)\n",
      "<gurobi.Var y[100] (value 1.0)>\n",
      "(22, 8, 0, 1)\n",
      "<gurobi.Var y[101] (value 1.0)>\n",
      "(23, 8, 1, 1)\n",
      "<gurobi.Var y[102] (value 1.0)>\n",
      "(23, 24, 1, 1)\n",
      "<gurobi.Var y[103] (value 1.0)>\n",
      "(23, 9, 0, 1)\n",
      "<gurobi.Var y[104] (value 1.0)>\n",
      "(24, 9, 1, 1)\n",
      "<gurobi.Var y[105] (value 1.0)>\n",
      "(24, 22, 1, 1)\n",
      "<gurobi.Var y[106] (value 1.0)>\n",
      "(24, 7, 0, 1)\n",
      "<gurobi.Var y[107] (value 1.0)>\n",
      "(25, 0, 0, 1)\n",
      "<gurobi.Var y[108] (value 0.9920634920634921)>\n",
      "(0, 26, 0, 1)\n",
      "<gurobi.Var y[109] (value 0.9761904761904762)>\n",
      "(25, 5, 0, 1)\n",
      "<gurobi.Var y[110] (value 1.0)>\n",
      "(5, 26, 0, 1)\n",
      "<gurobi.Var y[111] (value 1.0)>\n",
      "(25, 10, 0, 1)\n",
      "<gurobi.Var y[112] (value 1.0)>\n",
      "(10, 26, 0, 1)\n",
      "<gurobi.Var y[113] (value 1.0)>\n",
      "(25, 15, 0, 1)\n",
      "<gurobi.Var y[114] (value 1.0)>\n",
      "(15, 26, 0, 1)\n",
      "<gurobi.Var y[115] (value 1.0)>\n",
      "(25, 20, 0, 1)\n",
      "<gurobi.Var y[116] (value 1.0)>\n",
      "(20, 26, 0, 1)\n",
      "<gurobi.Var y[117] (value 1.0)>\n",
      "(25, 1, 0, 1)\n",
      "<gurobi.Var y[118] (value 1.0)>\n",
      "(1, 26, 0, 1)\n",
      "<gurobi.Var y[119] (value 1.0)>\n",
      "(25, 2, 0, 1)\n",
      "<gurobi.Var y[120] (value 1.0)>\n",
      "(2, 26, 0, 1)\n",
      "<gurobi.Var y[121] (value 0.9682539682539683)>\n",
      "(25, 3, 0, 1)\n",
      "<gurobi.Var y[122] (value 1.0)>\n",
      "(3, 26, 0, 1)\n",
      "<gurobi.Var y[123] (value 1.0)>\n",
      "(25, 4, 0, 1)\n",
      "<gurobi.Var y[124] (value 1.0)>\n",
      "(4, 26, 0, 1)\n",
      "<gurobi.Var y[125] (value 0.9920634920634921)>\n"
     ]
    }
   ],
   "source": [
    "for d in model1.getVars():\n",
    "    if \"d\" in d.VarName and d.x != 0:\n",
    "        eid = int(d.VarName.lstrip(\"d[\").rstrip(\"]\"))\n",
    "        print(ag.idx_to_edge[eid])\n",
    "        print(d)\n",
    "        \n",
    "    if \"x\" in d.VarName and d.x != 0:\n",
    "        eid = int(d.VarName.lstrip(\"x[\").rstrip(\"]\"))\n",
    "        print(ag.idx_to_edge[eid])\n",
    "        print(d)\n",
    "        \n",
    "    if \"y\" in d.VarName and d.x != 0:\n",
    "        eid = int(d.VarName.lstrip(\"y[\").rstrip(\"]\"))\n",
    "        print(ag.idx_to_edge[eid])\n",
    "        print(d)"
   ]
  },
  {
   "cell_type": "code",
   "execution_count": null,
   "id": "111823cc",
   "metadata": {},
   "outputs": [],
   "source": []
  },
  {
   "cell_type": "code",
   "execution_count": 168,
   "id": "93e84bd4",
   "metadata": {},
   "outputs": [
    {
     "name": "stdout",
     "output_type": "stream",
     "text": [
      "True\n",
      "True\n",
      "True\n"
     ]
    }
   ],
   "source": [
    "\n",
    "for i in range(length):\n",
    "    if random.choice(10) <= mut_rate:\n",
    "        print(True)"
   ]
  },
  {
   "cell_type": "code",
   "execution_count": null,
   "id": "c23ba558",
   "metadata": {},
   "outputs": [],
   "source": []
  }
 ],
 "metadata": {
  "kernelspec": {
   "display_name": "Python 3",
   "language": "python",
   "name": "python3"
  },
  "language_info": {
   "codemirror_mode": {
    "name": "ipython",
    "version": 3
   },
   "file_extension": ".py",
   "mimetype": "text/x-python",
   "name": "python",
   "nbconvert_exporter": "python",
   "pygments_lexer": "ipython3",
   "version": "3.6.7"
  }
 },
 "nbformat": 4,
 "nbformat_minor": 5
}
